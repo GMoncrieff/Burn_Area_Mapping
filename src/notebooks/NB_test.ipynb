{
 "cells": [
  {
   "cell_type": "code",
   "execution_count": 2,
   "metadata": {},
   "outputs": [],
   "source": [
    "import ee\n",
    "try:\n",
    "    ee.Initialize()\n",
    "except:\n",
    "    ee.Authenticate()\n",
    "    ee.Initialize()\n",
    "\n",
    "from geeml.utils import eeprint"
   ]
  },
  {
   "cell_type": "code",
   "execution_count": 3,
   "metadata": {},
   "outputs": [
    {
     "data": {
      "text/plain": [
       "'C:\\\\Users\\\\coach\\\\myfiles\\\\postdoc\\\\Fire\\\\code\\\\Burn_Area_Mapping\\\\src\\\\components'"
      ]
     },
     "execution_count": 3,
     "metadata": {},
     "output_type": "execute_result"
    }
   ],
   "source": [
    "import os\n",
    "os.chdir(r\"C:\\Users\\coach\\myfiles\\postdoc\\Fire\\code\\Burn_Area_Mapping\\src\\components\")\n",
    "os.getcwd()"
   ]
  },
  {
   "cell_type": "code",
   "execution_count": 4,
   "metadata": {},
   "outputs": [],
   "source": [
    "from src.logger import logging\n",
    "from data_preprocessing import preProcessyCollection\n",
    "from data_preprocessing import preProcessXCollection\n",
    "from data_extraction import extractXy, extractDataset\n",
    "%load_ext autoreload"
   ]
  },
  {
   "cell_type": "code",
   "execution_count": 5,
   "metadata": {},
   "outputs": [],
   "source": [
    "from exception import customException\n",
    "import sys"
   ]
  },
  {
   "cell_type": "code",
   "execution_count": 6,
   "metadata": {},
   "outputs": [],
   "source": [
    "%autoreload 2"
   ]
  },
  {
   "cell_type": "code",
   "execution_count": 7,
   "metadata": {},
   "outputs": [
    {
     "data": {
      "application/vnd.jupyter.widget-view+json": {
       "model_id": "90fb44fb0afc4ce18a43205756a9d398",
       "version_major": 2,
       "version_minor": 0
      },
      "text/plain": [
       "Map(center=[-31.374999751707104, 29.510986261502627], controls=(WidgetControl(options=['position', 'transparen…"
      ]
     },
     "metadata": {},
     "output_type": "display_data"
    }
   ],
   "source": [
    "import geemap\n",
    "Map = geemap.Map()\n",
    "fc = ee.FeatureCollection(\"projects/ee-geethensingh/assets/postdoc/proj_fired_south_africa_to2021182_events\")\n",
    "Map.addLayer(ee.Feature(fc.first()), {'color': 'red'}, \"Fire Test\")\n",
    "Map.centerObject(fc.first(), 12)\n",
    "Map"
   ]
  },
  {
   "cell_type": "code",
   "execution_count": 8,
   "metadata": {},
   "outputs": [
    {
     "data": {
      "text/html": [
       "\n",
       "            <style>\n",
       "                .geemap-dark {\n",
       "                    --jp-widgets-color: white;\n",
       "                    --jp-widgets-label-color: white;\n",
       "                    --jp-ui-font-color1: white;\n",
       "                    --jp-layout-color2: #454545;\n",
       "                    background-color: #383838;\n",
       "                }\n",
       "                    \n",
       "                .geemap-dark .jupyter-button {\n",
       "                    --jp-layout-color3: #383838;\n",
       "                }\n",
       "                \n",
       "                .geemap-colab {\n",
       "                    background-color: var(--colab-primary-surface-color, white);\n",
       "                }\n",
       "                    \n",
       "                .geemap-colab .jupyter-button {\n",
       "                    --jp-layout-color3: var(--colab-primary-surface-color, white);\n",
       "                }\n",
       "            </style>\n",
       "            "
      ],
      "text/plain": [
       "<IPython.core.display.HTML object>"
      ]
     },
     "metadata": {},
     "output_type": "display_data"
    }
   ],
   "source": [
    "fireEvents = fc.map(lambda ft: ft.set('system:time_start', ee.Date(ft.get('ig_date')))\n",
    "                    .set('system:time_end', ee.Date(ft.get('last_date')))).filterDate('2019-01-01', '2020-01-01')"
   ]
  },
  {
   "cell_type": "code",
   "execution_count": 13,
   "metadata": {},
   "outputs": [
    {
     "data": {
      "text/html": [
       "\n",
       "            <style>\n",
       "                .geemap-dark {\n",
       "                    --jp-widgets-color: white;\n",
       "                    --jp-widgets-label-color: white;\n",
       "                    --jp-ui-font-color1: white;\n",
       "                    --jp-layout-color2: #454545;\n",
       "                    background-color: #383838;\n",
       "                }\n",
       "                    \n",
       "                .geemap-dark .jupyter-button {\n",
       "                    --jp-layout-color3: #383838;\n",
       "                }\n",
       "                \n",
       "                .geemap-colab {\n",
       "                    background-color: var(--colab-primary-surface-color, white);\n",
       "                }\n",
       "                    \n",
       "                .geemap-colab .jupyter-button {\n",
       "                    --jp-layout-color3: var(--colab-primary-surface-color, white);\n",
       "                }\n",
       "            </style>\n",
       "            "
      ],
      "text/plain": [
       "<IPython.core.display.HTML object>"
      ]
     },
     "metadata": {},
     "output_type": "display_data"
    },
    {
     "data": {
      "text/html": [
       "<div id=\"4ca9fdcc-a3bc-4724-9f30-7d2fad01dbf7\" style=\"height: auto; width:100%;\"></div>"
      ],
      "text/plain": [
       "<IPython.core.display.HTML object>"
      ]
     },
     "metadata": {},
     "output_type": "display_data"
    },
    {
     "data": {
      "text/html": [
       " \n",
       "        <script src=\"/static/components/requirejs/require.js\"></script> <!-- Needed in Colab -->\n",
       "        <script>\n",
       "            require([\"https://rawgit.com/caldwell/renderjson/master/renderjson.js\"], function() {\n",
       "              renderjson.set_show_to_level(1)\n",
       "              document.getElementById('4ca9fdcc-a3bc-4724-9f30-7d2fad01dbf7').appendChild(renderjson({\"type\": \"Image\", \"bands\": [{\"id\": \"SR_B1\", \"data_type\": {\"type\": \"PixelType\", \"precision\": \"int\", \"min\": 0, \"max\": 65535}, \"dimensions\": [7861, 7871], \"crs\": \"EPSG:32637\", \"crs_transform\": [30, 0, 308985, 0, -30, -4979985]}, {\"id\": \"SR_B2\", \"data_type\": {\"type\": \"PixelType\", \"precision\": \"int\", \"min\": 0, \"max\": 65535}, \"dimensions\": [7861, 7871], \"crs\": \"EPSG:32637\", \"crs_transform\": [30, 0, 308985, 0, -30, -4979985]}, {\"id\": \"SR_B3\", \"data_type\": {\"type\": \"PixelType\", \"precision\": \"int\", \"min\": 0, \"max\": 65535}, \"dimensions\": [7861, 7871], \"crs\": \"EPSG:32637\", \"crs_transform\": [30, 0, 308985, 0, -30, -4979985]}, {\"id\": \"SR_B4\", \"data_type\": {\"type\": \"PixelType\", \"precision\": \"int\", \"min\": 0, \"max\": 65535}, \"dimensions\": [7861, 7871], \"crs\": \"EPSG:32637\", \"crs_transform\": [30, 0, 308985, 0, -30, -4979985]}, {\"id\": \"SR_B5\", \"data_type\": {\"type\": \"PixelType\", \"precision\": \"int\", \"min\": 0, \"max\": 65535}, \"dimensions\": [7861, 7871], \"crs\": \"EPSG:32637\", \"crs_transform\": [30, 0, 308985, 0, -30, -4979985]}, {\"id\": \"SR_B6\", \"data_type\": {\"type\": \"PixelType\", \"precision\": \"int\", \"min\": 0, \"max\": 65535}, \"dimensions\": [7861, 7871], \"crs\": \"EPSG:32637\", \"crs_transform\": [30, 0, 308985, 0, -30, -4979985]}, {\"id\": \"SR_B7\", \"data_type\": {\"type\": \"PixelType\", \"precision\": \"int\", \"min\": 0, \"max\": 65535}, \"dimensions\": [7861, 7871], \"crs\": \"EPSG:32637\", \"crs_transform\": [30, 0, 308985, 0, -30, -4979985]}, {\"id\": \"SR_QA_AEROSOL\", \"data_type\": {\"type\": \"PixelType\", \"precision\": \"int\", \"min\": 0, \"max\": 255}, \"dimensions\": [7861, 7871], \"crs\": \"EPSG:32637\", \"crs_transform\": [30, 0, 308985, 0, -30, -4979985]}, {\"id\": \"ST_B10\", \"data_type\": {\"type\": \"PixelType\", \"precision\": \"int\", \"min\": 0, \"max\": 65535}, \"dimensions\": [1, 1], \"crs\": \"EPSG:32637\", \"crs_transform\": [1, 0, 308985, 0, 1, -4979985]}, {\"id\": \"ST_ATRAN\", \"data_type\": {\"type\": \"PixelType\", \"precision\": \"int\", \"min\": -32768, \"max\": 32767}, \"dimensions\": [1, 1], \"crs\": \"EPSG:32637\", \"crs_transform\": [1, 0, 308985, 0, 1, -4979985]}, {\"id\": \"ST_CDIST\", \"data_type\": {\"type\": \"PixelType\", \"precision\": \"int\", \"min\": -32768, \"max\": 32767}, \"dimensions\": [1, 1], \"crs\": \"EPSG:32637\", \"crs_transform\": [1, 0, 308985, 0, 1, -4979985]}, {\"id\": \"ST_DRAD\", \"data_type\": {\"type\": \"PixelType\", \"precision\": \"int\", \"min\": -32768, \"max\": 32767}, \"dimensions\": [1, 1], \"crs\": \"EPSG:32637\", \"crs_transform\": [1, 0, 308985, 0, 1, -4979985]}, {\"id\": \"ST_EMIS\", \"data_type\": {\"type\": \"PixelType\", \"precision\": \"int\", \"min\": -32768, \"max\": 32767}, \"dimensions\": [1, 1], \"crs\": \"EPSG:32637\", \"crs_transform\": [1, 0, 308985, 0, 1, -4979985]}, {\"id\": \"ST_EMSD\", \"data_type\": {\"type\": \"PixelType\", \"precision\": \"int\", \"min\": -32768, \"max\": 32767}, \"dimensions\": [1, 1], \"crs\": \"EPSG:32637\", \"crs_transform\": [1, 0, 308985, 0, 1, -4979985]}, {\"id\": \"ST_QA\", \"data_type\": {\"type\": \"PixelType\", \"precision\": \"int\", \"min\": -32768, \"max\": 32767}, \"dimensions\": [1, 1], \"crs\": \"EPSG:32637\", \"crs_transform\": [1, 0, 308985, 0, 1, -4979985]}, {\"id\": \"ST_TRAD\", \"data_type\": {\"type\": \"PixelType\", \"precision\": \"int\", \"min\": -32768, \"max\": 32767}, \"dimensions\": [1, 1], \"crs\": \"EPSG:32637\", \"crs_transform\": [1, 0, 308985, 0, 1, -4979985]}, {\"id\": \"ST_URAD\", \"data_type\": {\"type\": \"PixelType\", \"precision\": \"int\", \"min\": -32768, \"max\": 32767}, \"dimensions\": [1, 1], \"crs\": \"EPSG:32637\", \"crs_transform\": [1, 0, 308985, 0, 1, -4979985]}, {\"id\": \"QA_PIXEL\", \"data_type\": {\"type\": \"PixelType\", \"precision\": \"int\", \"min\": 0, \"max\": 65535}, \"dimensions\": [7861, 7871], \"crs\": \"EPSG:32637\", \"crs_transform\": [30, 0, 308985, 0, -30, -4979985]}, {\"id\": \"QA_RADSAT\", \"data_type\": {\"type\": \"PixelType\", \"precision\": \"int\", \"min\": 0, \"max\": 65535}, \"dimensions\": [7861, 7871], \"crs\": \"EPSG:32637\", \"crs_transform\": [30, 0, 308985, 0, -30, -4979985]}], \"id\": \"LANDSAT/LC08/C02/T1_L2/LC08_160092_20190209\", \"version\": 1630186780663348, \"properties\": {\"DATA_SOURCE_ELEVATION\": \"GLS2000\", \"WRS_TYPE\": 2, \"REFLECTANCE_ADD_BAND_1\": -0.2, \"REFLECTANCE_ADD_BAND_2\": -0.2, \"DATUM\": \"WGS84\", \"REFLECTANCE_ADD_BAND_3\": -0.2, \"REFLECTANCE_ADD_BAND_4\": -0.2, \"REFLECTANCE_ADD_BAND_5\": -0.2, \"REFLECTANCE_ADD_BAND_6\": -0.2, \"REFLECTANCE_ADD_BAND_7\": -0.2, \"system:footprint\": {\"type\": \"LinearRing\", \"coordinates\": [[38.93611700894616, -47.08961717458381], [38.93802726159609, -47.089618215911], [39.531440696881425, -45.38670421230374], [39.11599996405752, -45.31567930324883], [38.096568849182546, -45.134203845107244], [37.2008354564712, -44.966253553805984], [37.189224256672595, -44.96408002091563], [37.17681668758218, -44.996223701360584], [37.16133017586205, -45.03661924312761], [37.063532506824124, -45.29073309461151], [37.03327359683647, -45.3689774406481], [36.96229201996147, -45.55168390739869], [36.87899933492466, -45.7648239183294], [36.811637376820954, -45.93611796351101], [36.754594638325166, -46.08047779142995], [36.680251073834015, -46.26761300209322], [36.63010885460527, -46.39316216041604], [36.58271934525729, -46.51139166332201], [36.54935008375532, -46.59437884024603], [36.5243868978472, -46.656320478036164], [36.71158977805668, -46.692024337612686], [38.93611700894616, -47.08961717458381]]}, \"REFLECTIVE_SAMPLES\": 7861, \"GROUND_CONTROL_POINTS_VERSION\": 5, \"SUN_AZIMUTH\": 59.12516844, \"DATA_SOURCE_TIRS_STRAY_LIGHT_CORRECTION\": \"TIRS\", \"UTM_ZONE\": 37, \"DATE_ACQUIRED\": \"2019-02-09\", \"ELLIPSOID\": \"WGS84\", \"system:time_end\": 1549695952263, \"DATA_SOURCE_PRESSURE\": \"Calculated\", \"LANDSAT_PRODUCT_ID\": \"LC08_L2SR_160092_20190209_20201016_02_T1\", \"STATION_ID\": \"LGN\", \"REFLECTANCE_MULT_BAND_7\": 2.75e-05, \"system:time_start\": 1549695952263, \"REFLECTANCE_MULT_BAND_6\": 2.75e-05, \"L1_PROCESSING_LEVEL\": \"L1TP\", \"PROCESSING_SOFTWARE_VERSION\": \"LPGS_15.3.1c\", \"L1_DATE_PRODUCT_GENERATED\": \"2020-10-16T05:35:01Z\", \"ORIENTATION\": \"NORTH_UP\", \"REFLECTANCE_MULT_BAND_1\": 2.75e-05, \"WRS_ROW\": 92, \"REFLECTANCE_MULT_BAND_3\": 2.75e-05, \"REFLECTANCE_MULT_BAND_2\": 2.75e-05, \"TARGET_WRS_ROW\": 92, \"REFLECTANCE_MULT_BAND_5\": 2.75e-05, \"REFLECTANCE_MULT_BAND_4\": 2.75e-05, \"TIRS_SSM_POSITION_STATUS\": \"ESTIMATED\", \"IMAGE_QUALITY_TIRS\": 9, \"TRUNCATION_OLI\": \"UPPER\", \"NADIR_OFFNADIR\": \"NADIR\", \"CLOUD_COVER\": 29.33, \"REQUEST_ID\": \"L2\", \"EARTH_SUN_DISTANCE\": 0.9865608, \"TIRS_SSM_MODEL\": \"FINAL\", \"COLLECTION_CATEGORY\": \"T1\", \"SCENE_CENTER_TIME\": \"07:05:52.2639090Z\", \"GRID_CELL_SIZE_REFLECTIVE\": 30, \"SUN_ELEVATION\": 44.805923, \"CLOUD_COVER_LAND\": 24.69, \"GEOMETRIC_RMSE_MODEL\": 5.02, \"ROLL_ANGLE\": 0, \"COLLECTION_NUMBER\": 2, \"DATE_PRODUCT_GENERATED\": 1602826810000, \"L1_REQUEST_ID\": \"L2\", \"DATA_SOURCE_OZONE\": \"MODIS\", \"SATURATION_BAND_1\": \"N\", \"DATA_SOURCE_WATER_VAPOR\": \"MODIS\", \"SATURATION_BAND_2\": \"N\", \"SATURATION_BAND_3\": \"N\", \"IMAGE_QUALITY_OLI\": 9, \"SATURATION_BAND_4\": \"N\", \"LANDSAT_SCENE_ID\": \"LC81600922019040LGN00\", \"SATURATION_BAND_5\": \"N\", \"MAP_PROJECTION\": \"UTM\", \"SATURATION_BAND_6\": \"N\", \"SENSOR_ID\": \"OLI_TIRS\", \"SATURATION_BAND_7\": \"N\", \"SATURATION_BAND_8\": \"N\", \"WRS_PATH\": 160, \"SATURATION_BAND_9\": \"N\", \"TARGET_WRS_PATH\": 160, \"L1_PROCESSING_SOFTWARE_VERSION\": \"LPGS_15.3.1c\", \"L1_LANDSAT_PRODUCT_ID\": \"LC08_L1TP_160092_20190209_20201016_02_T1\", \"PROCESSING_LEVEL\": \"L2SR\", \"ALGORITHM_SOURCE_SURFACE_REFLECTANCE\": \"LaSRC_1.5.0\", \"GROUND_CONTROL_POINTS_MODEL\": 20, \"SPACECRAFT_ID\": \"LANDSAT_8\", \"GEOMETRIC_RMSE_MODEL_Y\": 3.099, \"REFLECTIVE_LINES\": 7871, \"GEOMETRIC_RMSE_MODEL_X\": 3.949, \"system:asset_size\": 614291028, \"DATA_SOURCE_AIR_TEMPERATURE\": \"MODIS\", \"system:index\": \"LC08_160092_20190209\"}}))\n",
       "            });\n",
       "        </script>\n",
       "    "
      ],
      "text/plain": [
       "<IPython.core.display.HTML object>"
      ]
     },
     "metadata": {},
     "output_type": "display_data"
    },
    {
     "data": {
      "text/html": [
       "<div id=\"bf4650eb-1143-46dc-9c38-99d4d108f449\" style=\"height: auto; width:100%;\">LANDSAT_8</div>"
      ],
      "text/plain": [
       "<IPython.core.display.HTML object>"
      ]
     },
     "metadata": {},
     "output_type": "display_data"
    }
   ],
   "source": [
    "supportedSensors = {'Sentinel-2': ee.ImageCollection(\"COPERNICUS/S2_SR_HARMONIZED\"),\n",
    "                    'LANDSAT_4': ee.ImageCollection(\"LANDSAT/LT04/C02/T1_L2\"),\n",
    "                    'LANDSAT_5': ee.ImageCollection(\"LANDSAT/LT05/C02/T1_L2\"),\n",
    "                    'LANDSAT_7': ee.ImageCollection(\"LANDSAT/LE07/C02/T1_L2\"),\n",
    "                    'LANDSAT_8': ee.ImageCollection(\"LANDSAT/LC08/C02/T1_L2\"),\n",
    "                    'LANDSAT_9': ee.ImageCollection(\"LANDSAT/LC09/C02/T1_L2\")}\n",
    "\n",
    "# Filter countries by geometry\n",
    "countries = ee.FeatureCollection(\"USDOS/LSIB_SIMPLE/2017\")\n",
    "geometry = ee.Geometry.Point([24.06353794842853, -29.732969740562062])\n",
    "sa = countries.filterBounds(geometry)\n",
    "sa_geo = sa.geometry()\n",
    "\n",
    "image = supportedSensors.get('LANDSAT_8').filterBounds(sa_geo).filterDate('2019-01-01', '2020-01-01').first()\n",
    "eeprint(image)\n",
    "\n",
    "# Get satellite name\n",
    "sensor = image.get('SPACECRAFT_ID').getInfo()\n",
    "if sensor is None:\n",
    "    sensor = 'Sentinel-2'\n",
    "\n",
    "eeprint(sensor)\n",
    "\n",
    "endDate = image.date()\n",
    "startDate = endDate.advance(ee.Number(8*-7),'day')\n",
    "# Define datasets, get xweeks nImages prior to image (i.e., get time series info)\n",
    "xImages =  preProcessXCollection(collection = supportedSensors.get(sensor),\n",
    "                                    region = image.geometry(), startDate = ee.Date('2019-01-01'), endDate = ee.Date('2020-01-01'))"
   ]
  },
  {
   "cell_type": "code",
   "execution_count": 14,
   "metadata": {},
   "outputs": [
    {
     "data": {
      "text/html": [
       "\n",
       "            <style>\n",
       "                .geemap-dark {\n",
       "                    --jp-widgets-color: white;\n",
       "                    --jp-widgets-label-color: white;\n",
       "                    --jp-ui-font-color1: white;\n",
       "                    --jp-layout-color2: #454545;\n",
       "                    background-color: #383838;\n",
       "                }\n",
       "                    \n",
       "                .geemap-dark .jupyter-button {\n",
       "                    --jp-layout-color3: #383838;\n",
       "                }\n",
       "                \n",
       "                .geemap-colab {\n",
       "                    background-color: var(--colab-primary-surface-color, white);\n",
       "                }\n",
       "                    \n",
       "                .geemap-colab .jupyter-button {\n",
       "                    --jp-layout-color3: var(--colab-primary-surface-color, white);\n",
       "                }\n",
       "            </style>\n",
       "            "
      ],
      "text/plain": [
       "<IPython.core.display.HTML object>"
      ]
     },
     "metadata": {},
     "output_type": "display_data"
    },
    {
     "data": {
      "text/html": [
       "<div><style>:root {\n",
       "  --font-color-primary: var(--jp-content-font-color0, rgba(0, 0, 0, 1));\n",
       "  --font-color-secondary: var(--jp-content-font-color2, rgba(0, 0, 0, 0.6));\n",
       "  --font-color-accent: rgba(123, 31, 162, 1);\n",
       "  --border-color: var(--jp-border-color2, #e0e0e0);\n",
       "  --background-color: var(--jp-layout-color0, white);\n",
       "  --background-color-row-even: var(--jp-layout-color1, white);\n",
       "  --background-color-row-odd: var(--jp-layout-color2, #eeeeee);\n",
       "}\n",
       "\n",
       "html[theme=\"dark\"],\n",
       "body[data-theme=\"dark\"],\n",
       "body.vscode-dark {\n",
       "  --font-color-primary: rgba(255, 255, 255, 1);\n",
       "  --font-color-secondary: rgba(255, 255, 255, 0.6);\n",
       "  --font-color-accent: rgb(173, 132, 190);\n",
       "  --border-color: #2e2e2e;\n",
       "  --background-color: #111111;\n",
       "  --background-color-row-even: #111111;\n",
       "  --background-color-row-odd: #313131;\n",
       "}\n",
       "\n",
       ".ee {\n",
       "  padding: 1em;\n",
       "  line-height: 1.5em;\n",
       "  min-width: 300px;\n",
       "  max-width: 1200px;\n",
       "  overflow-y: scroll;\n",
       "  max-height: 600px;\n",
       "  border: 1px solid var(--border-color);\n",
       "  font-family: monospace;\n",
       "}\n",
       "\n",
       ".ee li {\n",
       "  list-style-type: none;\n",
       "}\n",
       "\n",
       ".ee ul {\n",
       "  padding-left: 1.5em !important;\n",
       "  margin: 0;\n",
       "}\n",
       "\n",
       ".ee > ul {\n",
       "  padding-left: 0 !important;\n",
       "}\n",
       "\n",
       ".ee-open,\n",
       ".ee-shut {\n",
       "  color: var(--font-color-secondary);\n",
       "  cursor: pointer;\n",
       "  margin: 0;\n",
       "}\n",
       "\n",
       ".ee-open:hover,\n",
       ".ee-shut:hover {\n",
       "  color: var(--font-color-primary);\n",
       "}\n",
       "\n",
       ".ee-k {\n",
       "  color: var(--font-color-accent);\n",
       "  margin-right: 6px;\n",
       "}\n",
       "\n",
       ".ee-v {\n",
       "  color: var(--font-color-primary);\n",
       "}\n",
       "\n",
       ".ee-toggle {\n",
       "  display: none;\n",
       "}\n",
       "\n",
       ".ee-shut + ul {\n",
       "  display: none;\n",
       "}\n",
       "\n",
       ".ee-open + ul {\n",
       "  display: block;\n",
       "}\n",
       "\n",
       ".ee-shut::before {\n",
       "  display: inline-block;\n",
       "  content: \"▼\";\n",
       "  margin-right: 6px;\n",
       "  transform: rotate(-90deg);\n",
       "  transition: transform 0.2s;\n",
       "}\n",
       "\n",
       ".ee-open::before {\n",
       "  transform: rotate(0deg);\n",
       "  display: inline-block;\n",
       "  content: \"▼\";\n",
       "  margin-right: 6px;\n",
       "  transition: transform 0.2s;\n",
       "}\n",
       "</style><div class='ee'><ul><li><span class='ee-v'>10</span></li></ul></div><script>function toggleHeader() {\n",
       "    const parent = this.parentElement;\n",
       "    parent.className = parent.className === \"ee-open\" ? \"ee-shut\" : \"ee-open\";\n",
       "}\n",
       "\n",
       "for (let c of document.getElementsByClassName(\"ee-toggle\")) {\n",
       "    c.onclick = toggleHeader;\n",
       "}</script></div>"
      ],
      "text/plain": [
       "<ee.ee_number.Number at 0x20346cd0d30>"
      ]
     },
     "execution_count": 14,
     "metadata": {},
     "output_type": "execute_result"
    }
   ],
   "source": [
    "xImages.size()"
   ]
  },
  {
   "cell_type": "code",
   "execution_count": 21,
   "metadata": {},
   "outputs": [
    {
     "data": {
      "text/html": [
       "\n",
       "            <style>\n",
       "                .geemap-dark {\n",
       "                    --jp-widgets-color: white;\n",
       "                    --jp-widgets-label-color: white;\n",
       "                    --jp-ui-font-color1: white;\n",
       "                    --jp-layout-color2: #454545;\n",
       "                    background-color: #383838;\n",
       "                }\n",
       "                    \n",
       "                .geemap-dark .jupyter-button {\n",
       "                    --jp-layout-color3: #383838;\n",
       "                }\n",
       "                \n",
       "                .geemap-colab {\n",
       "                    background-color: var(--colab-primary-surface-color, white);\n",
       "                }\n",
       "                    \n",
       "                .geemap-colab .jupyter-button {\n",
       "                    --jp-layout-color3: var(--colab-primary-surface-color, white);\n",
       "                }\n",
       "            </style>\n",
       "            "
      ],
      "text/plain": [
       "<IPython.core.display.HTML object>"
      ]
     },
     "metadata": {},
     "output_type": "display_data"
    },
    {
     "data": {
      "application/vnd.jupyter.widget-view+json": {
       "model_id": "916f2d11c7d64306b41ed0a9798f9417",
       "version_major": 2,
       "version_minor": 0
      },
      "text/plain": [
       "  0%|          | 0/1742 [00:00<?, ?it/s]"
      ]
     },
     "metadata": {},
     "output_type": "display_data"
    },
    {
     "data": {
      "text/html": [
       "<div id=\"bcf73d4c-0140-4553-8ccc-b9f3bddf9fca\" style=\"height: auto; width:100%;\"></div>"
      ],
      "text/plain": [
       "<IPython.core.display.HTML object>"
      ]
     },
     "metadata": {},
     "output_type": "display_data"
    },
    {
     "data": {
      "text/html": [
       " \n",
       "        <script src=\"/static/components/requirejs/require.js\"></script> <!-- Needed in Colab -->\n",
       "        <script>\n",
       "            require([\"https://rawgit.com/caldwell/renderjson/master/renderjson.js\"], function() {\n",
       "              renderjson.set_show_to_level(1)\n",
       "              document.getElementById('bcf73d4c-0140-4553-8ccc-b9f3bddf9fca').appendChild(renderjson({\"type\": \"Image\", \"bands\": [{\"id\": \"SR_B1\", \"data_type\": {\"type\": \"PixelType\", \"precision\": \"int\", \"min\": 0, \"max\": 65535}, \"dimensions\": [7861, 7871], \"crs\": \"EPSG:32637\", \"crs_transform\": [30, 0, 308985, 0, -30, -4979985]}, {\"id\": \"SR_B2\", \"data_type\": {\"type\": \"PixelType\", \"precision\": \"int\", \"min\": 0, \"max\": 65535}, \"dimensions\": [7861, 7871], \"crs\": \"EPSG:32637\", \"crs_transform\": [30, 0, 308985, 0, -30, -4979985]}, {\"id\": \"SR_B3\", \"data_type\": {\"type\": \"PixelType\", \"precision\": \"int\", \"min\": 0, \"max\": 65535}, \"dimensions\": [7861, 7871], \"crs\": \"EPSG:32637\", \"crs_transform\": [30, 0, 308985, 0, -30, -4979985]}, {\"id\": \"SR_B4\", \"data_type\": {\"type\": \"PixelType\", \"precision\": \"int\", \"min\": 0, \"max\": 65535}, \"dimensions\": [7861, 7871], \"crs\": \"EPSG:32637\", \"crs_transform\": [30, 0, 308985, 0, -30, -4979985]}, {\"id\": \"SR_B5\", \"data_type\": {\"type\": \"PixelType\", \"precision\": \"int\", \"min\": 0, \"max\": 65535}, \"dimensions\": [7861, 7871], \"crs\": \"EPSG:32637\", \"crs_transform\": [30, 0, 308985, 0, -30, -4979985]}, {\"id\": \"SR_B6\", \"data_type\": {\"type\": \"PixelType\", \"precision\": \"int\", \"min\": 0, \"max\": 65535}, \"dimensions\": [7861, 7871], \"crs\": \"EPSG:32637\", \"crs_transform\": [30, 0, 308985, 0, -30, -4979985]}, {\"id\": \"SR_B7\", \"data_type\": {\"type\": \"PixelType\", \"precision\": \"int\", \"min\": 0, \"max\": 65535}, \"dimensions\": [7861, 7871], \"crs\": \"EPSG:32637\", \"crs_transform\": [30, 0, 308985, 0, -30, -4979985]}, {\"id\": \"SR_QA_AEROSOL\", \"data_type\": {\"type\": \"PixelType\", \"precision\": \"int\", \"min\": 0, \"max\": 255}, \"dimensions\": [7861, 7871], \"crs\": \"EPSG:32637\", \"crs_transform\": [30, 0, 308985, 0, -30, -4979985]}, {\"id\": \"ST_B10\", \"data_type\": {\"type\": \"PixelType\", \"precision\": \"int\", \"min\": 0, \"max\": 65535}, \"dimensions\": [1, 1], \"crs\": \"EPSG:32637\", \"crs_transform\": [1, 0, 308985, 0, 1, -4979985]}, {\"id\": \"ST_ATRAN\", \"data_type\": {\"type\": \"PixelType\", \"precision\": \"int\", \"min\": -32768, \"max\": 32767}, \"dimensions\": [1, 1], \"crs\": \"EPSG:32637\", \"crs_transform\": [1, 0, 308985, 0, 1, -4979985]}, {\"id\": \"ST_CDIST\", \"data_type\": {\"type\": \"PixelType\", \"precision\": \"int\", \"min\": -32768, \"max\": 32767}, \"dimensions\": [1, 1], \"crs\": \"EPSG:32637\", \"crs_transform\": [1, 0, 308985, 0, 1, -4979985]}, {\"id\": \"ST_DRAD\", \"data_type\": {\"type\": \"PixelType\", \"precision\": \"int\", \"min\": -32768, \"max\": 32767}, \"dimensions\": [1, 1], \"crs\": \"EPSG:32637\", \"crs_transform\": [1, 0, 308985, 0, 1, -4979985]}, {\"id\": \"ST_EMIS\", \"data_type\": {\"type\": \"PixelType\", \"precision\": \"int\", \"min\": -32768, \"max\": 32767}, \"dimensions\": [1, 1], \"crs\": \"EPSG:32637\", \"crs_transform\": [1, 0, 308985, 0, 1, -4979985]}, {\"id\": \"ST_EMSD\", \"data_type\": {\"type\": \"PixelType\", \"precision\": \"int\", \"min\": -32768, \"max\": 32767}, \"dimensions\": [1, 1], \"crs\": \"EPSG:32637\", \"crs_transform\": [1, 0, 308985, 0, 1, -4979985]}, {\"id\": \"ST_QA\", \"data_type\": {\"type\": \"PixelType\", \"precision\": \"int\", \"min\": -32768, \"max\": 32767}, \"dimensions\": [1, 1], \"crs\": \"EPSG:32637\", \"crs_transform\": [1, 0, 308985, 0, 1, -4979985]}, {\"id\": \"ST_TRAD\", \"data_type\": {\"type\": \"PixelType\", \"precision\": \"int\", \"min\": -32768, \"max\": 32767}, \"dimensions\": [1, 1], \"crs\": \"EPSG:32637\", \"crs_transform\": [1, 0, 308985, 0, 1, -4979985]}, {\"id\": \"ST_URAD\", \"data_type\": {\"type\": \"PixelType\", \"precision\": \"int\", \"min\": -32768, \"max\": 32767}, \"dimensions\": [1, 1], \"crs\": \"EPSG:32637\", \"crs_transform\": [1, 0, 308985, 0, 1, -4979985]}, {\"id\": \"QA_PIXEL\", \"data_type\": {\"type\": \"PixelType\", \"precision\": \"int\", \"min\": 0, \"max\": 65535}, \"dimensions\": [7861, 7871], \"crs\": \"EPSG:32637\", \"crs_transform\": [30, 0, 308985, 0, -30, -4979985]}, {\"id\": \"QA_RADSAT\", \"data_type\": {\"type\": \"PixelType\", \"precision\": \"int\", \"min\": 0, \"max\": 65535}, \"dimensions\": [7861, 7871], \"crs\": \"EPSG:32637\", \"crs_transform\": [30, 0, 308985, 0, -30, -4979985]}], \"id\": \"LANDSAT/LC08/C02/T1_L2/LC08_160092_20190209\", \"version\": 1630186780663348, \"properties\": {\"label\": 0, \"DATA_SOURCE_ELEVATION\": \"GLS2000\", \"WRS_TYPE\": 2, \"REFLECTANCE_ADD_BAND_1\": -0.2, \"REFLECTANCE_ADD_BAND_2\": -0.2, \"DATUM\": \"WGS84\", \"REFLECTANCE_ADD_BAND_3\": -0.2, \"REFLECTANCE_ADD_BAND_4\": -0.2, \"REFLECTANCE_ADD_BAND_5\": -0.2, \"REFLECTANCE_ADD_BAND_6\": -0.2, \"REFLECTANCE_ADD_BAND_7\": -0.2, \"system:footprint\": {\"type\": \"LinearRing\", \"coordinates\": [[38.93611700894616, -47.08961717458381], [38.93802726159609, -47.089618215911], [39.531440696881425, -45.38670421230374], [39.11599996405752, -45.31567930324883], [38.096568849182546, -45.134203845107244], [37.2008354564712, -44.966253553805984], [37.189224256672595, -44.96408002091563], [37.17681668758218, -44.996223701360584], [37.16133017586205, -45.03661924312761], [37.063532506824124, -45.29073309461151], [37.03327359683647, -45.3689774406481], [36.96229201996147, -45.55168390739869], [36.87899933492466, -45.7648239183294], [36.811637376820954, -45.93611796351101], [36.754594638325166, -46.08047779142995], [36.680251073834015, -46.26761300209322], [36.63010885460527, -46.39316216041604], [36.58271934525729, -46.51139166332201], [36.54935008375532, -46.59437884024603], [36.5243868978472, -46.656320478036164], [36.71158977805668, -46.692024337612686], [38.93611700894616, -47.08961717458381]]}, \"REFLECTIVE_SAMPLES\": 7861, \"GROUND_CONTROL_POINTS_VERSION\": 5, \"SUN_AZIMUTH\": 59.12516844, \"DATA_SOURCE_TIRS_STRAY_LIGHT_CORRECTION\": \"TIRS\", \"UTM_ZONE\": 37, \"DATE_ACQUIRED\": \"2019-02-09\", \"ELLIPSOID\": \"WGS84\", \"system:time_end\": 1549695952263, \"DATA_SOURCE_PRESSURE\": \"Calculated\", \"LANDSAT_PRODUCT_ID\": \"LC08_L2SR_160092_20190209_20201016_02_T1\", \"STATION_ID\": \"LGN\", \"REFLECTANCE_MULT_BAND_7\": 2.75e-05, \"system:time_start\": 1549695952263, \"REFLECTANCE_MULT_BAND_6\": 2.75e-05, \"L1_PROCESSING_LEVEL\": \"L1TP\", \"PROCESSING_SOFTWARE_VERSION\": \"LPGS_15.3.1c\", \"L1_DATE_PRODUCT_GENERATED\": \"2020-10-16T05:35:01Z\", \"ORIENTATION\": \"NORTH_UP\", \"REFLECTANCE_MULT_BAND_1\": 2.75e-05, \"WRS_ROW\": 92, \"REFLECTANCE_MULT_BAND_3\": 2.75e-05, \"REFLECTANCE_MULT_BAND_2\": 2.75e-05, \"TARGET_WRS_ROW\": 92, \"REFLECTANCE_MULT_BAND_5\": 2.75e-05, \"REFLECTANCE_MULT_BAND_4\": 2.75e-05, \"TIRS_SSM_POSITION_STATUS\": \"ESTIMATED\", \"IMAGE_QUALITY_TIRS\": 9, \"TRUNCATION_OLI\": \"UPPER\", \"NADIR_OFFNADIR\": \"NADIR\", \"CLOUD_COVER\": 29.33, \"REQUEST_ID\": \"L2\", \"EARTH_SUN_DISTANCE\": 0.9865608, \"TIRS_SSM_MODEL\": \"FINAL\", \"COLLECTION_CATEGORY\": \"T1\", \"SCENE_CENTER_TIME\": \"07:05:52.2639090Z\", \"GRID_CELL_SIZE_REFLECTIVE\": 30, \"SUN_ELEVATION\": 44.805923, \"CLOUD_COVER_LAND\": 24.69, \"GEOMETRIC_RMSE_MODEL\": 5.02, \"ROLL_ANGLE\": 0, \"COLLECTION_NUMBER\": 2, \"DATE_PRODUCT_GENERATED\": 1602826810000, \"L1_REQUEST_ID\": \"L2\", \"DATA_SOURCE_OZONE\": \"MODIS\", \"SATURATION_BAND_1\": \"N\", \"DATA_SOURCE_WATER_VAPOR\": \"MODIS\", \"SATURATION_BAND_2\": \"N\", \"SATURATION_BAND_3\": \"N\", \"IMAGE_QUALITY_OLI\": 9, \"SATURATION_BAND_4\": \"N\", \"LANDSAT_SCENE_ID\": \"LC81600922019040LGN00\", \"SATURATION_BAND_5\": \"N\", \"MAP_PROJECTION\": \"UTM\", \"SATURATION_BAND_6\": \"N\", \"SENSOR_ID\": \"OLI_TIRS\", \"SATURATION_BAND_7\": \"N\", \"SATURATION_BAND_8\": \"N\", \"WRS_PATH\": 160, \"SATURATION_BAND_9\": \"N\", \"TARGET_WRS_PATH\": 160, \"L1_PROCESSING_SOFTWARE_VERSION\": \"LPGS_15.3.1c\", \"L1_LANDSAT_PRODUCT_ID\": \"LC08_L1TP_160092_20190209_20201016_02_T1\", \"PROCESSING_LEVEL\": \"L2SR\", \"ALGORITHM_SOURCE_SURFACE_REFLECTANCE\": \"LaSRC_1.5.0\", \"GROUND_CONTROL_POINTS_MODEL\": 20, \"SPACECRAFT_ID\": \"LANDSAT_8\", \"GEOMETRIC_RMSE_MODEL_Y\": 3.099, \"REFLECTIVE_LINES\": 7871, \"GEOMETRIC_RMSE_MODEL_X\": 3.949, \"system:asset_size\": 614291028, \"DATA_SOURCE_AIR_TEMPERATURE\": \"MODIS\", \"system:index\": \"LC08_160092_20190209\"}}))\n",
       "            });\n",
       "        </script>\n",
       "    "
      ],
      "text/plain": [
       "<IPython.core.display.HTML object>"
      ]
     },
     "metadata": {},
     "output_type": "display_data"
    },
    {
     "data": {
      "text/html": [
       "<div id=\"58a17d30-fe1b-4bdc-9ee7-6f7a703366e0\" style=\"height: auto; width:100%;\"></div>"
      ],
      "text/plain": [
       "<IPython.core.display.HTML object>"
      ]
     },
     "metadata": {},
     "output_type": "display_data"
    },
    {
     "data": {
      "text/html": [
       " \n",
       "        <script src=\"/static/components/requirejs/require.js\"></script> <!-- Needed in Colab -->\n",
       "        <script>\n",
       "            require([\"https://rawgit.com/caldwell/renderjson/master/renderjson.js\"], function() {\n",
       "              renderjson.set_show_to_level(1)\n",
       "              document.getElementById('58a17d30-fe1b-4bdc-9ee7-6f7a703366e0').appendChild(renderjson({\"type\": \"Image\", \"bands\": [{\"id\": \"SR_B1\", \"data_type\": {\"type\": \"PixelType\", \"precision\": \"int\", \"min\": 0, \"max\": 65535}, \"dimensions\": [7861, 7871], \"crs\": \"EPSG:32637\", \"crs_transform\": [30, 0, 309285, 0, -30, -4979985]}, {\"id\": \"SR_B2\", \"data_type\": {\"type\": \"PixelType\", \"precision\": \"int\", \"min\": 0, \"max\": 65535}, \"dimensions\": [7861, 7871], \"crs\": \"EPSG:32637\", \"crs_transform\": [30, 0, 309285, 0, -30, -4979985]}, {\"id\": \"SR_B3\", \"data_type\": {\"type\": \"PixelType\", \"precision\": \"int\", \"min\": 0, \"max\": 65535}, \"dimensions\": [7861, 7871], \"crs\": \"EPSG:32637\", \"crs_transform\": [30, 0, 309285, 0, -30, -4979985]}, {\"id\": \"SR_B4\", \"data_type\": {\"type\": \"PixelType\", \"precision\": \"int\", \"min\": 0, \"max\": 65535}, \"dimensions\": [7861, 7871], \"crs\": \"EPSG:32637\", \"crs_transform\": [30, 0, 309285, 0, -30, -4979985]}, {\"id\": \"SR_B5\", \"data_type\": {\"type\": \"PixelType\", \"precision\": \"int\", \"min\": 0, \"max\": 65535}, \"dimensions\": [7861, 7871], \"crs\": \"EPSG:32637\", \"crs_transform\": [30, 0, 309285, 0, -30, -4979985]}, {\"id\": \"SR_B6\", \"data_type\": {\"type\": \"PixelType\", \"precision\": \"int\", \"min\": 0, \"max\": 65535}, \"dimensions\": [7861, 7871], \"crs\": \"EPSG:32637\", \"crs_transform\": [30, 0, 309285, 0, -30, -4979985]}, {\"id\": \"SR_B7\", \"data_type\": {\"type\": \"PixelType\", \"precision\": \"int\", \"min\": 0, \"max\": 65535}, \"dimensions\": [7861, 7871], \"crs\": \"EPSG:32637\", \"crs_transform\": [30, 0, 309285, 0, -30, -4979985]}, {\"id\": \"SR_QA_AEROSOL\", \"data_type\": {\"type\": \"PixelType\", \"precision\": \"int\", \"min\": 0, \"max\": 255}, \"dimensions\": [7861, 7871], \"crs\": \"EPSG:32637\", \"crs_transform\": [30, 0, 309285, 0, -30, -4979985]}, {\"id\": \"ST_B10\", \"data_type\": {\"type\": \"PixelType\", \"precision\": \"int\", \"min\": 0, \"max\": 65535}, \"dimensions\": [1, 1], \"crs\": \"EPSG:32637\", \"crs_transform\": [1, 0, 309285, 0, 1, -4979985]}, {\"id\": \"ST_ATRAN\", \"data_type\": {\"type\": \"PixelType\", \"precision\": \"int\", \"min\": -32768, \"max\": 32767}, \"dimensions\": [1, 1], \"crs\": \"EPSG:32637\", \"crs_transform\": [1, 0, 309285, 0, 1, -4979985]}, {\"id\": \"ST_CDIST\", \"data_type\": {\"type\": \"PixelType\", \"precision\": \"int\", \"min\": -32768, \"max\": 32767}, \"dimensions\": [1, 1], \"crs\": \"EPSG:32637\", \"crs_transform\": [1, 0, 309285, 0, 1, -4979985]}, {\"id\": \"ST_DRAD\", \"data_type\": {\"type\": \"PixelType\", \"precision\": \"int\", \"min\": -32768, \"max\": 32767}, \"dimensions\": [1, 1], \"crs\": \"EPSG:32637\", \"crs_transform\": [1, 0, 309285, 0, 1, -4979985]}, {\"id\": \"ST_EMIS\", \"data_type\": {\"type\": \"PixelType\", \"precision\": \"int\", \"min\": -32768, \"max\": 32767}, \"dimensions\": [1, 1], \"crs\": \"EPSG:32637\", \"crs_transform\": [1, 0, 309285, 0, 1, -4979985]}, {\"id\": \"ST_EMSD\", \"data_type\": {\"type\": \"PixelType\", \"precision\": \"int\", \"min\": -32768, \"max\": 32767}, \"dimensions\": [1, 1], \"crs\": \"EPSG:32637\", \"crs_transform\": [1, 0, 309285, 0, 1, -4979985]}, {\"id\": \"ST_QA\", \"data_type\": {\"type\": \"PixelType\", \"precision\": \"int\", \"min\": -32768, \"max\": 32767}, \"dimensions\": [1, 1], \"crs\": \"EPSG:32637\", \"crs_transform\": [1, 0, 309285, 0, 1, -4979985]}, {\"id\": \"ST_TRAD\", \"data_type\": {\"type\": \"PixelType\", \"precision\": \"int\", \"min\": -32768, \"max\": 32767}, \"dimensions\": [1, 1], \"crs\": \"EPSG:32637\", \"crs_transform\": [1, 0, 309285, 0, 1, -4979985]}, {\"id\": \"ST_URAD\", \"data_type\": {\"type\": \"PixelType\", \"precision\": \"int\", \"min\": -32768, \"max\": 32767}, \"dimensions\": [1, 1], \"crs\": \"EPSG:32637\", \"crs_transform\": [1, 0, 309285, 0, 1, -4979985]}, {\"id\": \"QA_PIXEL\", \"data_type\": {\"type\": \"PixelType\", \"precision\": \"int\", \"min\": 0, \"max\": 65535}, \"dimensions\": [7861, 7871], \"crs\": \"EPSG:32637\", \"crs_transform\": [30, 0, 309285, 0, -30, -4979985]}, {\"id\": \"QA_RADSAT\", \"data_type\": {\"type\": \"PixelType\", \"precision\": \"int\", \"min\": 0, \"max\": 65535}, \"dimensions\": [7861, 7871], \"crs\": \"EPSG:32637\", \"crs_transform\": [30, 0, 309285, 0, -30, -4979985]}], \"id\": \"LANDSAT/LC08/C02/T1_L2/LC08_160092_20190313\", \"version\": 1630191662398919, \"properties\": {\"label\": 0, \"DATA_SOURCE_ELEVATION\": \"GLS2000\", \"WRS_TYPE\": 2, \"REFLECTANCE_ADD_BAND_1\": -0.2, \"REFLECTANCE_ADD_BAND_2\": -0.2, \"DATUM\": \"WGS84\", \"REFLECTANCE_ADD_BAND_3\": -0.2, \"REFLECTANCE_ADD_BAND_4\": -0.2, \"REFLECTANCE_ADD_BAND_5\": -0.2, \"REFLECTANCE_ADD_BAND_6\": -0.2, \"REFLECTANCE_ADD_BAND_7\": -0.2, \"system:footprint\": {\"type\": \"LinearRing\", \"coordinates\": [[37.21285442262048, -44.96750330214036], [37.201093612875084, -44.965291478377544], [37.1961828535549, -44.97802538078816], [37.118891610156425, -45.179631544734875], [37.06198049786515, -45.327183069153016], [36.99834898414431, -45.49140002899971], [36.94827056868496, -45.620034570830896], [36.87861865457479, -45.7980439054655], [36.82120856567985, -45.94405373048561], [36.76566029627973, -46.084723422135305], [36.680886274712456, -46.29810437367223], [36.601910626183624, -46.49571913578729], [36.55232399360508, -46.61909642409729], [36.536771485671416, -46.65774274568068], [38.94997668776051, -47.090887941907965], [38.95328922183477, -47.08186130490159], [39.543096900163256, -45.38756639386475], [39.51664093452708, -45.383035931108786], [38.74426971476946, -45.24956106006488], [37.21285442262048, -44.96750330214036]]}, \"REFLECTIVE_SAMPLES\": 7861, \"GROUND_CONTROL_POINTS_VERSION\": 5, \"SUN_AZIMUTH\": 49.15234581, \"DATA_SOURCE_TIRS_STRAY_LIGHT_CORRECTION\": \"TIRS\", \"UTM_ZONE\": 37, \"DATE_ACQUIRED\": \"2019-03-13\", \"ELLIPSOID\": \"WGS84\", \"system:time_end\": 1552460743127, \"DATA_SOURCE_PRESSURE\": \"Calculated\", \"LANDSAT_PRODUCT_ID\": \"LC08_L2SR_160092_20190313_20201016_02_T1\", \"STATION_ID\": \"LGN\", \"REFLECTANCE_MULT_BAND_7\": 2.75e-05, \"system:time_start\": 1552460743127, \"REFLECTANCE_MULT_BAND_6\": 2.75e-05, \"L1_PROCESSING_LEVEL\": \"L1TP\", \"PROCESSING_SOFTWARE_VERSION\": \"LPGS_15.3.1c\", \"L1_DATE_PRODUCT_GENERATED\": \"2020-10-16T05:26:19Z\", \"ORIENTATION\": \"NORTH_UP\", \"REFLECTANCE_MULT_BAND_1\": 2.75e-05, \"WRS_ROW\": 92, \"REFLECTANCE_MULT_BAND_3\": 2.75e-05, \"REFLECTANCE_MULT_BAND_2\": 2.75e-05, \"TARGET_WRS_ROW\": 92, \"REFLECTANCE_MULT_BAND_5\": 2.75e-05, \"REFLECTANCE_MULT_BAND_4\": 2.75e-05, \"TIRS_SSM_POSITION_STATUS\": \"ESTIMATED\", \"IMAGE_QUALITY_TIRS\": 9, \"TRUNCATION_OLI\": \"UPPER\", \"NADIR_OFFNADIR\": \"NADIR\", \"CLOUD_COVER\": 57.75, \"REQUEST_ID\": \"L2\", \"EARTH_SUN_DISTANCE\": 0.9938151, \"TIRS_SSM_MODEL\": \"FINAL\", \"COLLECTION_CATEGORY\": \"T1\", \"SCENE_CENTER_TIME\": \"07:05:43.1278139Z\", \"GRID_CELL_SIZE_REFLECTIVE\": 30, \"SUN_ELEVATION\": 35.78553163, \"CLOUD_COVER_LAND\": 43.61, \"GEOMETRIC_RMSE_MODEL\": 6.827, \"ROLL_ANGLE\": -0.001, \"COLLECTION_NUMBER\": 2, \"DATE_PRODUCT_GENERATED\": 1602826263000, \"L1_REQUEST_ID\": \"L2\", \"DATA_SOURCE_OZONE\": \"MODIS\", \"SATURATION_BAND_1\": \"N\", \"DATA_SOURCE_WATER_VAPOR\": \"MODIS\", \"SATURATION_BAND_2\": \"N\", \"SATURATION_BAND_3\": \"N\", \"IMAGE_QUALITY_OLI\": 9, \"SATURATION_BAND_4\": \"N\", \"LANDSAT_SCENE_ID\": \"LC81600922019072LGN00\", \"SATURATION_BAND_5\": \"N\", \"MAP_PROJECTION\": \"UTM\", \"SATURATION_BAND_6\": \"N\", \"SENSOR_ID\": \"OLI_TIRS\", \"SATURATION_BAND_7\": \"N\", \"SATURATION_BAND_8\": \"N\", \"WRS_PATH\": 160, \"SATURATION_BAND_9\": \"N\", \"TARGET_WRS_PATH\": 160, \"L1_PROCESSING_SOFTWARE_VERSION\": \"LPGS_15.3.1c\", \"L1_LANDSAT_PRODUCT_ID\": \"LC08_L1TP_160092_20190313_20201016_02_T1\", \"PROCESSING_LEVEL\": \"L2SR\", \"ALGORITHM_SOURCE_SURFACE_REFLECTANCE\": \"LaSRC_1.5.0\", \"GROUND_CONTROL_POINTS_MODEL\": 16, \"SPACECRAFT_ID\": \"LANDSAT_8\", \"GEOMETRIC_RMSE_MODEL_Y\": 5.71, \"REFLECTIVE_LINES\": 7871, \"GEOMETRIC_RMSE_MODEL_X\": 3.742, \"system:asset_size\": 627893921, \"DATA_SOURCE_AIR_TEMPERATURE\": \"MODIS\", \"system:index\": \"LC08_160092_20190313\"}}))\n",
       "            });\n",
       "        </script>\n",
       "    "
      ],
      "text/plain": [
       "<IPython.core.display.HTML object>"
      ]
     },
     "metadata": {},
     "output_type": "display_data"
    },
    {
     "ename": "KeyboardInterrupt",
     "evalue": "",
     "output_type": "error",
     "traceback": [
      "\u001b[1;31m---------------------------------------------------------------------------\u001b[0m",
      "\u001b[1;31mKeyboardInterrupt\u001b[0m                         Traceback (most recent call last)",
      "Input \u001b[1;32mIn [21]\u001b[0m, in \u001b[0;36m<cell line: 1>\u001b[1;34m()\u001b[0m\n\u001b[1;32m----> 1\u001b[0m \u001b[43mextractDataset\u001b[49m\u001b[43m(\u001b[49m\u001b[38;5;124;43m'\u001b[39;49m\u001b[38;5;124;43mLANDSAT_8\u001b[39;49m\u001b[38;5;124;43m'\u001b[39;49m\u001b[43m,\u001b[49m\u001b[43m \u001b[49m\u001b[38;5;124;43m'\u001b[39;49m\u001b[38;5;124;43mSouth Africa\u001b[39;49m\u001b[38;5;124;43m'\u001b[39;49m\u001b[43m,\u001b[49m\u001b[43m \u001b[49m\u001b[43mee\u001b[49m\u001b[38;5;241;43m.\u001b[39;49m\u001b[43mDate\u001b[49m\u001b[43m(\u001b[49m\u001b[38;5;124;43m'\u001b[39;49m\u001b[38;5;124;43m2019-01-01\u001b[39;49m\u001b[38;5;124;43m'\u001b[39;49m\u001b[43m)\u001b[49m\u001b[43m,\u001b[49m\u001b[43m \u001b[49m\u001b[43mee\u001b[49m\u001b[38;5;241;43m.\u001b[39;49m\u001b[43mDate\u001b[49m\u001b[43m(\u001b[49m\u001b[38;5;124;43m'\u001b[39;49m\u001b[38;5;124;43m2020-01-01\u001b[39;49m\u001b[38;5;124;43m'\u001b[39;49m\u001b[43m)\u001b[49m\u001b[43m,\u001b[49m\u001b[43m \u001b[49m\u001b[43mfireEvents\u001b[49m\u001b[43m,\u001b[49m\u001b[43m \u001b[49m\u001b[38;5;241;43m16\u001b[39;49m\u001b[43m,\u001b[49m\u001b[43m \u001b[49m\u001b[38;5;124;43m'\u001b[39;49m\u001b[38;5;124;43mextract_test.csv\u001b[39;49m\u001b[38;5;124;43m'\u001b[39;49m\u001b[43m)\u001b[49m\n",
      "File \u001b[1;32m~\\myfiles\\postdoc\\Fire\\code\\Burn_Area_Mapping\\src\\components\\data_extraction.py:112\u001b[0m, in \u001b[0;36mextractDataset\u001b[1;34m(sensor, country, startDate, endDate, fireEvents, Xweeks, filename)\u001b[0m\n\u001b[0;32m    110\u001b[0m xImages, yImage = getImages(xImage, fireEvents, Xweeks)\n\u001b[0;32m    111\u001b[0m eeprint(yImage)\n\u001b[1;32m--> 112\u001b[0m # convert to geodataframe\n\u001b[0;32m    113\u001b[0m try:\n\u001b[0;32m    114\u001b[0m     row = getStats(xImages)\n",
      "File \u001b[1;32m~\\myfiles\\postdoc\\Fire\\code\\Burn_Area_Mapping\\src\\components\\data_extraction.py:44\u001b[0m, in \u001b[0;36mgetStats\u001b[1;34m(imageCollection)\u001b[0m\n\u001b[0;32m     40\u001b[0m \u001b[38;5;66;03m# Compute image spatial stats\u001b[39;00m\n\u001b[0;32m     41\u001b[0m stats \u001b[38;5;241m=\u001b[39m variance\u001b[38;5;241m.\u001b[39mreduceRegion(reducer \u001b[38;5;241m=\u001b[39m reducer,\n\u001b[0;32m     42\u001b[0m                                         geometry \u001b[38;5;241m=\u001b[39m imageCollection\u001b[38;5;241m.\u001b[39mgeometry(),\n\u001b[0;32m     43\u001b[0m                                         scale \u001b[38;5;241m=\u001b[39m \u001b[38;5;241m1000\u001b[39m)\n\u001b[1;32m---> 44\u001b[0m row \u001b[38;5;241m=\u001b[39m pd\u001b[38;5;241m.\u001b[39mDataFrame([\u001b[43mstats\u001b[49m\u001b[38;5;241;43m.\u001b[39;49m\u001b[43mgetInfo\u001b[49m\u001b[43m(\u001b[49m\u001b[43m)\u001b[49m])\n\u001b[0;32m     45\u001b[0m row[\u001b[38;5;124m'\u001b[39m\u001b[38;5;124mscenes\u001b[39m\u001b[38;5;124m'\u001b[39m] \u001b[38;5;241m=\u001b[39m scenes\n\u001b[0;32m     46\u001b[0m \u001b[38;5;28;01mreturn\u001b[39;00m row\n",
      "File \u001b[1;32mc:\\ProgramData\\Anaconda3\\envs\\erthy\\lib\\site-packages\\ee\\computedobject.py:107\u001b[0m, in \u001b[0;36mComputedObject.getInfo\u001b[1;34m(self)\u001b[0m\n\u001b[0;32m    101\u001b[0m \u001b[38;5;28;01mdef\u001b[39;00m \u001b[38;5;21mgetInfo\u001b[39m(\u001b[38;5;28mself\u001b[39m) \u001b[38;5;241m-\u001b[39m\u001b[38;5;241m>\u001b[39m Optional[Any]:\n\u001b[0;32m    102\u001b[0m   \u001b[38;5;124;03m\"\"\"Fetch and return information about this object.\u001b[39;00m\n\u001b[0;32m    103\u001b[0m \n\u001b[0;32m    104\u001b[0m \u001b[38;5;124;03m  Returns:\u001b[39;00m\n\u001b[0;32m    105\u001b[0m \u001b[38;5;124;03m    The object can evaluate to anything.\u001b[39;00m\n\u001b[0;32m    106\u001b[0m \u001b[38;5;124;03m  \"\"\"\u001b[39;00m\n\u001b[1;32m--> 107\u001b[0m   \u001b[38;5;28;01mreturn\u001b[39;00m \u001b[43mdata\u001b[49m\u001b[38;5;241;43m.\u001b[39;49m\u001b[43mcomputeValue\u001b[49m\u001b[43m(\u001b[49m\u001b[38;5;28;43mself\u001b[39;49m\u001b[43m)\u001b[49m\n",
      "File \u001b[1;32mc:\\ProgramData\\Anaconda3\\envs\\erthy\\lib\\site-packages\\ee\\data.py:1101\u001b[0m, in \u001b[0;36mcomputeValue\u001b[1;34m(obj)\u001b[0m\n\u001b[0;32m   1098\u001b[0m body \u001b[38;5;241m=\u001b[39m {\u001b[38;5;124m'\u001b[39m\u001b[38;5;124mexpression\u001b[39m\u001b[38;5;124m'\u001b[39m: serializer\u001b[38;5;241m.\u001b[39mencode(obj, for_cloud_api\u001b[38;5;241m=\u001b[39m\u001b[38;5;28;01mTrue\u001b[39;00m)}\n\u001b[0;32m   1099\u001b[0m _maybe_populate_workload_tag(body)\n\u001b[1;32m-> 1101\u001b[0m \u001b[38;5;28;01mreturn\u001b[39;00m \u001b[43m_execute_cloud_call\u001b[49m\u001b[43m(\u001b[49m\n\u001b[0;32m   1102\u001b[0m \u001b[43m    \u001b[49m\u001b[43m_get_cloud_projects\u001b[49m\u001b[43m(\u001b[49m\u001b[43m)\u001b[49m\n\u001b[0;32m   1103\u001b[0m \u001b[43m    \u001b[49m\u001b[38;5;241;43m.\u001b[39;49m\u001b[43mvalue\u001b[49m\u001b[43m(\u001b[49m\u001b[43m)\u001b[49m\n\u001b[0;32m   1104\u001b[0m \u001b[43m    \u001b[49m\u001b[38;5;241;43m.\u001b[39;49m\u001b[43mcompute\u001b[49m\u001b[43m(\u001b[49m\u001b[43mbody\u001b[49m\u001b[38;5;241;43m=\u001b[39;49m\u001b[43mbody\u001b[49m\u001b[43m,\u001b[49m\u001b[43m \u001b[49m\u001b[43mproject\u001b[49m\u001b[38;5;241;43m=\u001b[39;49m\u001b[43m_get_projects_path\u001b[49m\u001b[43m(\u001b[49m\u001b[43m)\u001b[49m\u001b[43m,\u001b[49m\u001b[43m \u001b[49m\u001b[43mprettyPrint\u001b[49m\u001b[38;5;241;43m=\u001b[39;49m\u001b[38;5;28;43;01mFalse\u001b[39;49;00m\u001b[43m)\u001b[49m\n\u001b[0;32m   1105\u001b[0m \u001b[43m\u001b[49m\u001b[43m)\u001b[49m[\u001b[38;5;124m'\u001b[39m\u001b[38;5;124mresult\u001b[39m\u001b[38;5;124m'\u001b[39m]\n",
      "File \u001b[1;32mc:\\ProgramData\\Anaconda3\\envs\\erthy\\lib\\site-packages\\ee\\data.py:402\u001b[0m, in \u001b[0;36m_execute_cloud_call\u001b[1;34m(call, num_retries)\u001b[0m\n\u001b[0;32m    388\u001b[0m \u001b[38;5;124;03m\"\"\"Executes a Cloud API call and translates errors to EEExceptions.\u001b[39;00m\n\u001b[0;32m    389\u001b[0m \n\u001b[0;32m    390\u001b[0m \u001b[38;5;124;03mArgs:\u001b[39;00m\n\u001b[1;32m   (...)\u001b[0m\n\u001b[0;32m    399\u001b[0m \u001b[38;5;124;03m  EEException if the call fails.\u001b[39;00m\n\u001b[0;32m    400\u001b[0m \u001b[38;5;124;03m\"\"\"\u001b[39;00m\n\u001b[0;32m    401\u001b[0m \u001b[38;5;28;01mtry\u001b[39;00m:\n\u001b[1;32m--> 402\u001b[0m   \u001b[38;5;28;01mreturn\u001b[39;00m \u001b[43mcall\u001b[49m\u001b[38;5;241;43m.\u001b[39;49m\u001b[43mexecute\u001b[49m\u001b[43m(\u001b[49m\u001b[43mnum_retries\u001b[49m\u001b[38;5;241;43m=\u001b[39;49m\u001b[43mnum_retries\u001b[49m\u001b[43m)\u001b[49m\n\u001b[0;32m    403\u001b[0m \u001b[38;5;28;01mexcept\u001b[39;00m googleapiclient\u001b[38;5;241m.\u001b[39merrors\u001b[38;5;241m.\u001b[39mHttpError \u001b[38;5;28;01mas\u001b[39;00m e:\n\u001b[0;32m    404\u001b[0m   \u001b[38;5;28;01mraise\u001b[39;00m _translate_cloud_exception(e)\n",
      "File \u001b[1;32mc:\\ProgramData\\Anaconda3\\envs\\erthy\\lib\\site-packages\\googleapiclient\\_helpers.py:134\u001b[0m, in \u001b[0;36mpositional.<locals>.positional_decorator.<locals>.positional_wrapper\u001b[1;34m(*args, **kwargs)\u001b[0m\n\u001b[0;32m    132\u001b[0m     \u001b[38;5;28;01melif\u001b[39;00m positional_parameters_enforcement \u001b[38;5;241m==\u001b[39m POSITIONAL_WARNING:\n\u001b[0;32m    133\u001b[0m         logger\u001b[38;5;241m.\u001b[39mwarning(message)\n\u001b[1;32m--> 134\u001b[0m \u001b[38;5;28;01mreturn\u001b[39;00m wrapped(\u001b[38;5;241m*\u001b[39margs, \u001b[38;5;241m*\u001b[39m\u001b[38;5;241m*\u001b[39mkwargs)\n",
      "File \u001b[1;32mc:\\ProgramData\\Anaconda3\\envs\\erthy\\lib\\site-packages\\googleapiclient\\http.py:900\u001b[0m, in \u001b[0;36mHttpRequest.execute\u001b[1;34m(self, http, num_retries)\u001b[0m\n\u001b[0;32m    897\u001b[0m     \u001b[38;5;28mself\u001b[39m\u001b[38;5;241m.\u001b[39mheaders[\u001b[38;5;124m\"\u001b[39m\u001b[38;5;124mcontent-length\u001b[39m\u001b[38;5;124m\"\u001b[39m] \u001b[38;5;241m=\u001b[39m \u001b[38;5;28mstr\u001b[39m(\u001b[38;5;28mlen\u001b[39m(\u001b[38;5;28mself\u001b[39m\u001b[38;5;241m.\u001b[39mbody))\n\u001b[0;32m    899\u001b[0m \u001b[38;5;66;03m# Handle retries for server-side errors.\u001b[39;00m\n\u001b[1;32m--> 900\u001b[0m resp, content \u001b[38;5;241m=\u001b[39m \u001b[43m_retry_request\u001b[49m\u001b[43m(\u001b[49m\n\u001b[0;32m    901\u001b[0m \u001b[43m    \u001b[49m\u001b[43mhttp\u001b[49m\u001b[43m,\u001b[49m\n\u001b[0;32m    902\u001b[0m \u001b[43m    \u001b[49m\u001b[43mnum_retries\u001b[49m\u001b[43m,\u001b[49m\n\u001b[0;32m    903\u001b[0m \u001b[43m    \u001b[49m\u001b[38;5;124;43m\"\u001b[39;49m\u001b[38;5;124;43mrequest\u001b[39;49m\u001b[38;5;124;43m\"\u001b[39;49m\u001b[43m,\u001b[49m\n\u001b[0;32m    904\u001b[0m \u001b[43m    \u001b[49m\u001b[38;5;28;43mself\u001b[39;49m\u001b[38;5;241;43m.\u001b[39;49m\u001b[43m_sleep\u001b[49m\u001b[43m,\u001b[49m\n\u001b[0;32m    905\u001b[0m \u001b[43m    \u001b[49m\u001b[38;5;28;43mself\u001b[39;49m\u001b[38;5;241;43m.\u001b[39;49m\u001b[43m_rand\u001b[49m\u001b[43m,\u001b[49m\n\u001b[0;32m    906\u001b[0m \u001b[43m    \u001b[49m\u001b[38;5;28;43mstr\u001b[39;49m\u001b[43m(\u001b[49m\u001b[38;5;28;43mself\u001b[39;49m\u001b[38;5;241;43m.\u001b[39;49m\u001b[43muri\u001b[49m\u001b[43m)\u001b[49m\u001b[43m,\u001b[49m\n\u001b[0;32m    907\u001b[0m \u001b[43m    \u001b[49m\u001b[43mmethod\u001b[49m\u001b[38;5;241;43m=\u001b[39;49m\u001b[38;5;28;43mstr\u001b[39;49m\u001b[43m(\u001b[49m\u001b[38;5;28;43mself\u001b[39;49m\u001b[38;5;241;43m.\u001b[39;49m\u001b[43mmethod\u001b[49m\u001b[43m)\u001b[49m\u001b[43m,\u001b[49m\n\u001b[0;32m    908\u001b[0m \u001b[43m    \u001b[49m\u001b[43mbody\u001b[49m\u001b[38;5;241;43m=\u001b[39;49m\u001b[38;5;28;43mself\u001b[39;49m\u001b[38;5;241;43m.\u001b[39;49m\u001b[43mbody\u001b[49m\u001b[43m,\u001b[49m\n\u001b[0;32m    909\u001b[0m \u001b[43m    \u001b[49m\u001b[43mheaders\u001b[49m\u001b[38;5;241;43m=\u001b[39;49m\u001b[38;5;28;43mself\u001b[39;49m\u001b[38;5;241;43m.\u001b[39;49m\u001b[43mheaders\u001b[49m\u001b[43m,\u001b[49m\n\u001b[0;32m    910\u001b[0m \u001b[43m\u001b[49m\u001b[43m)\u001b[49m\n\u001b[0;32m    912\u001b[0m \u001b[38;5;28;01mfor\u001b[39;00m callback \u001b[38;5;129;01min\u001b[39;00m \u001b[38;5;28mself\u001b[39m\u001b[38;5;241m.\u001b[39mresponse_callbacks:\n\u001b[0;32m    913\u001b[0m     callback(resp)\n",
      "File \u001b[1;32mc:\\ProgramData\\Anaconda3\\envs\\erthy\\lib\\site-packages\\googleapiclient\\http.py:177\u001b[0m, in \u001b[0;36m_retry_request\u001b[1;34m(http, num_retries, req_type, sleep, rand, uri, method, *args, **kwargs)\u001b[0m\n\u001b[0;32m    175\u001b[0m \u001b[38;5;28;01mtry\u001b[39;00m:\n\u001b[0;32m    176\u001b[0m     exception \u001b[38;5;241m=\u001b[39m \u001b[38;5;28;01mNone\u001b[39;00m\n\u001b[1;32m--> 177\u001b[0m     resp, content \u001b[38;5;241m=\u001b[39m http\u001b[38;5;241m.\u001b[39mrequest(uri, method, \u001b[38;5;241m*\u001b[39margs, \u001b[38;5;241m*\u001b[39m\u001b[38;5;241m*\u001b[39mkwargs)\n\u001b[0;32m    178\u001b[0m \u001b[38;5;66;03m# Retry on SSL errors and socket timeout errors.\u001b[39;00m\n\u001b[0;32m    179\u001b[0m \u001b[38;5;28;01mexcept\u001b[39;00m _ssl_SSLError \u001b[38;5;28;01mas\u001b[39;00m ssl_error:\n",
      "File \u001b[1;32mc:\\ProgramData\\Anaconda3\\envs\\erthy\\lib\\site-packages\\google_auth_httplib2.py:218\u001b[0m, in \u001b[0;36mAuthorizedHttp.request\u001b[1;34m(self, uri, method, body, headers, redirections, connection_type, **kwargs)\u001b[0m\n\u001b[0;32m    215\u001b[0m     body_stream_position \u001b[38;5;241m=\u001b[39m body\u001b[38;5;241m.\u001b[39mtell()\n\u001b[0;32m    217\u001b[0m \u001b[38;5;66;03m# Make the request.\u001b[39;00m\n\u001b[1;32m--> 218\u001b[0m response, content \u001b[38;5;241m=\u001b[39m \u001b[38;5;28mself\u001b[39m\u001b[38;5;241m.\u001b[39mhttp\u001b[38;5;241m.\u001b[39mrequest(\n\u001b[0;32m    219\u001b[0m     uri,\n\u001b[0;32m    220\u001b[0m     method,\n\u001b[0;32m    221\u001b[0m     body\u001b[38;5;241m=\u001b[39mbody,\n\u001b[0;32m    222\u001b[0m     headers\u001b[38;5;241m=\u001b[39mrequest_headers,\n\u001b[0;32m    223\u001b[0m     redirections\u001b[38;5;241m=\u001b[39mredirections,\n\u001b[0;32m    224\u001b[0m     connection_type\u001b[38;5;241m=\u001b[39mconnection_type,\n\u001b[0;32m    225\u001b[0m     \u001b[38;5;241m*\u001b[39m\u001b[38;5;241m*\u001b[39mkwargs\n\u001b[0;32m    226\u001b[0m )\n\u001b[0;32m    228\u001b[0m \u001b[38;5;66;03m# If the response indicated that the credentials needed to be\u001b[39;00m\n\u001b[0;32m    229\u001b[0m \u001b[38;5;66;03m# refreshed, then refresh the credentials and re-attempt the\u001b[39;00m\n\u001b[0;32m    230\u001b[0m \u001b[38;5;66;03m# request.\u001b[39;00m\n\u001b[0;32m    231\u001b[0m \u001b[38;5;66;03m# A stored token may expire between the time it is retrieved and\u001b[39;00m\n\u001b[0;32m    232\u001b[0m \u001b[38;5;66;03m# the time the request is made, so we may need to try twice.\u001b[39;00m\n\u001b[0;32m    233\u001b[0m \u001b[38;5;28;01mif\u001b[39;00m (\n\u001b[0;32m    234\u001b[0m     response\u001b[38;5;241m.\u001b[39mstatus \u001b[38;5;129;01min\u001b[39;00m \u001b[38;5;28mself\u001b[39m\u001b[38;5;241m.\u001b[39m_refresh_status_codes\n\u001b[0;32m    235\u001b[0m     \u001b[38;5;129;01mand\u001b[39;00m _credential_refresh_attempt \u001b[38;5;241m<\u001b[39m \u001b[38;5;28mself\u001b[39m\u001b[38;5;241m.\u001b[39m_max_refresh_attempts\n\u001b[0;32m    236\u001b[0m ):\n",
      "File \u001b[1;32mc:\\ProgramData\\Anaconda3\\envs\\erthy\\lib\\site-packages\\ee\\_cloud_api_utils.py:65\u001b[0m, in \u001b[0;36m_Http.request\u001b[1;34m(***failed resolving arguments***)\u001b[0m\n\u001b[0;32m     62\u001b[0m \u001b[38;5;28;01mdel\u001b[39;00m connection_type  \u001b[38;5;66;03m# Ignored\u001b[39;00m\n\u001b[0;32m     63\u001b[0m \u001b[38;5;28;01mdel\u001b[39;00m redirections  \u001b[38;5;66;03m# Ignored\u001b[39;00m\n\u001b[1;32m---> 65\u001b[0m response \u001b[38;5;241m=\u001b[39m \u001b[38;5;28;43mself\u001b[39;49m\u001b[38;5;241;43m.\u001b[39;49m\u001b[43m_session\u001b[49m\u001b[38;5;241;43m.\u001b[39;49m\u001b[43mrequest\u001b[49m\u001b[43m(\u001b[49m\n\u001b[0;32m     66\u001b[0m \u001b[43m    \u001b[49m\u001b[43mmethod\u001b[49m\u001b[43m,\u001b[49m\u001b[43m \u001b[49m\u001b[43muri\u001b[49m\u001b[43m,\u001b[49m\u001b[43m \u001b[49m\u001b[43mdata\u001b[49m\u001b[38;5;241;43m=\u001b[39;49m\u001b[43mbody\u001b[49m\u001b[43m,\u001b[49m\u001b[43m \u001b[49m\u001b[43mheaders\u001b[49m\u001b[38;5;241;43m=\u001b[39;49m\u001b[43mheaders\u001b[49m\u001b[43m,\u001b[49m\u001b[43m \u001b[49m\u001b[43mtimeout\u001b[49m\u001b[38;5;241;43m=\u001b[39;49m\u001b[38;5;28;43mself\u001b[39;49m\u001b[38;5;241;43m.\u001b[39;49m\u001b[43m_timeout\u001b[49m\n\u001b[0;32m     67\u001b[0m \u001b[43m\u001b[49m\u001b[43m)\u001b[49m\n\u001b[0;32m     68\u001b[0m headers \u001b[38;5;241m=\u001b[39m \u001b[38;5;28mdict\u001b[39m(response\u001b[38;5;241m.\u001b[39mheaders)\n\u001b[0;32m     69\u001b[0m headers[\u001b[38;5;124m'\u001b[39m\u001b[38;5;124mstatus\u001b[39m\u001b[38;5;124m'\u001b[39m] \u001b[38;5;241m=\u001b[39m response\u001b[38;5;241m.\u001b[39mstatus_code\n",
      "File \u001b[1;32mc:\\ProgramData\\Anaconda3\\envs\\erthy\\lib\\site-packages\\requests\\sessions.py:589\u001b[0m, in \u001b[0;36mSession.request\u001b[1;34m(self, method, url, params, data, headers, cookies, files, auth, timeout, allow_redirects, proxies, hooks, stream, verify, cert, json)\u001b[0m\n\u001b[0;32m    584\u001b[0m send_kwargs \u001b[38;5;241m=\u001b[39m {\n\u001b[0;32m    585\u001b[0m     \u001b[38;5;124m\"\u001b[39m\u001b[38;5;124mtimeout\u001b[39m\u001b[38;5;124m\"\u001b[39m: timeout,\n\u001b[0;32m    586\u001b[0m     \u001b[38;5;124m\"\u001b[39m\u001b[38;5;124mallow_redirects\u001b[39m\u001b[38;5;124m\"\u001b[39m: allow_redirects,\n\u001b[0;32m    587\u001b[0m }\n\u001b[0;32m    588\u001b[0m send_kwargs\u001b[38;5;241m.\u001b[39mupdate(settings)\n\u001b[1;32m--> 589\u001b[0m resp \u001b[38;5;241m=\u001b[39m \u001b[38;5;28mself\u001b[39m\u001b[38;5;241m.\u001b[39msend(prep, \u001b[38;5;241m*\u001b[39m\u001b[38;5;241m*\u001b[39msend_kwargs)\n\u001b[0;32m    591\u001b[0m \u001b[38;5;28;01mreturn\u001b[39;00m resp\n",
      "File \u001b[1;32mc:\\ProgramData\\Anaconda3\\envs\\erthy\\lib\\site-packages\\requests\\sessions.py:703\u001b[0m, in \u001b[0;36mSession.send\u001b[1;34m(self, request, **kwargs)\u001b[0m\n\u001b[0;32m    700\u001b[0m start \u001b[38;5;241m=\u001b[39m preferred_clock()\n\u001b[0;32m    702\u001b[0m \u001b[38;5;66;03m# Send the request\u001b[39;00m\n\u001b[1;32m--> 703\u001b[0m r \u001b[38;5;241m=\u001b[39m adapter\u001b[38;5;241m.\u001b[39msend(request, \u001b[38;5;241m*\u001b[39m\u001b[38;5;241m*\u001b[39mkwargs)\n\u001b[0;32m    705\u001b[0m \u001b[38;5;66;03m# Total elapsed time of the request (approximately)\u001b[39;00m\n\u001b[0;32m    706\u001b[0m elapsed \u001b[38;5;241m=\u001b[39m preferred_clock() \u001b[38;5;241m-\u001b[39m start\n",
      "File \u001b[1;32mc:\\ProgramData\\Anaconda3\\envs\\erthy\\lib\\site-packages\\requests\\adapters.py:486\u001b[0m, in \u001b[0;36mHTTPAdapter.send\u001b[1;34m(self, request, stream, timeout, verify, cert, proxies)\u001b[0m\n\u001b[0;32m    483\u001b[0m     timeout \u001b[38;5;241m=\u001b[39m TimeoutSauce(connect\u001b[38;5;241m=\u001b[39mtimeout, read\u001b[38;5;241m=\u001b[39mtimeout)\n\u001b[0;32m    485\u001b[0m \u001b[38;5;28;01mtry\u001b[39;00m:\n\u001b[1;32m--> 486\u001b[0m     resp \u001b[38;5;241m=\u001b[39m \u001b[43mconn\u001b[49m\u001b[38;5;241;43m.\u001b[39;49m\u001b[43murlopen\u001b[49m\u001b[43m(\u001b[49m\n\u001b[0;32m    487\u001b[0m \u001b[43m        \u001b[49m\u001b[43mmethod\u001b[49m\u001b[38;5;241;43m=\u001b[39;49m\u001b[43mrequest\u001b[49m\u001b[38;5;241;43m.\u001b[39;49m\u001b[43mmethod\u001b[49m\u001b[43m,\u001b[49m\n\u001b[0;32m    488\u001b[0m \u001b[43m        \u001b[49m\u001b[43murl\u001b[49m\u001b[38;5;241;43m=\u001b[39;49m\u001b[43murl\u001b[49m\u001b[43m,\u001b[49m\n\u001b[0;32m    489\u001b[0m \u001b[43m        \u001b[49m\u001b[43mbody\u001b[49m\u001b[38;5;241;43m=\u001b[39;49m\u001b[43mrequest\u001b[49m\u001b[38;5;241;43m.\u001b[39;49m\u001b[43mbody\u001b[49m\u001b[43m,\u001b[49m\n\u001b[0;32m    490\u001b[0m \u001b[43m        \u001b[49m\u001b[43mheaders\u001b[49m\u001b[38;5;241;43m=\u001b[39;49m\u001b[43mrequest\u001b[49m\u001b[38;5;241;43m.\u001b[39;49m\u001b[43mheaders\u001b[49m\u001b[43m,\u001b[49m\n\u001b[0;32m    491\u001b[0m \u001b[43m        \u001b[49m\u001b[43mredirect\u001b[49m\u001b[38;5;241;43m=\u001b[39;49m\u001b[38;5;28;43;01mFalse\u001b[39;49;00m\u001b[43m,\u001b[49m\n\u001b[0;32m    492\u001b[0m \u001b[43m        \u001b[49m\u001b[43massert_same_host\u001b[49m\u001b[38;5;241;43m=\u001b[39;49m\u001b[38;5;28;43;01mFalse\u001b[39;49;00m\u001b[43m,\u001b[49m\n\u001b[0;32m    493\u001b[0m \u001b[43m        \u001b[49m\u001b[43mpreload_content\u001b[49m\u001b[38;5;241;43m=\u001b[39;49m\u001b[38;5;28;43;01mFalse\u001b[39;49;00m\u001b[43m,\u001b[49m\n\u001b[0;32m    494\u001b[0m \u001b[43m        \u001b[49m\u001b[43mdecode_content\u001b[49m\u001b[38;5;241;43m=\u001b[39;49m\u001b[38;5;28;43;01mFalse\u001b[39;49;00m\u001b[43m,\u001b[49m\n\u001b[0;32m    495\u001b[0m \u001b[43m        \u001b[49m\u001b[43mretries\u001b[49m\u001b[38;5;241;43m=\u001b[39;49m\u001b[38;5;28;43mself\u001b[39;49m\u001b[38;5;241;43m.\u001b[39;49m\u001b[43mmax_retries\u001b[49m\u001b[43m,\u001b[49m\n\u001b[0;32m    496\u001b[0m \u001b[43m        \u001b[49m\u001b[43mtimeout\u001b[49m\u001b[38;5;241;43m=\u001b[39;49m\u001b[43mtimeout\u001b[49m\u001b[43m,\u001b[49m\n\u001b[0;32m    497\u001b[0m \u001b[43m        \u001b[49m\u001b[43mchunked\u001b[49m\u001b[38;5;241;43m=\u001b[39;49m\u001b[43mchunked\u001b[49m\u001b[43m,\u001b[49m\n\u001b[0;32m    498\u001b[0m \u001b[43m    \u001b[49m\u001b[43m)\u001b[49m\n\u001b[0;32m    500\u001b[0m \u001b[38;5;28;01mexcept\u001b[39;00m (ProtocolError, \u001b[38;5;167;01mOSError\u001b[39;00m) \u001b[38;5;28;01mas\u001b[39;00m err:\n\u001b[0;32m    501\u001b[0m     \u001b[38;5;28;01mraise\u001b[39;00m \u001b[38;5;167;01mConnectionError\u001b[39;00m(err, request\u001b[38;5;241m=\u001b[39mrequest)\n",
      "File \u001b[1;32mc:\\ProgramData\\Anaconda3\\envs\\erthy\\lib\\site-packages\\urllib3\\connectionpool.py:703\u001b[0m, in \u001b[0;36mHTTPConnectionPool.urlopen\u001b[1;34m(self, method, url, body, headers, retries, redirect, assert_same_host, timeout, pool_timeout, release_conn, chunked, body_pos, **response_kw)\u001b[0m\n\u001b[0;32m    700\u001b[0m     \u001b[38;5;28mself\u001b[39m\u001b[38;5;241m.\u001b[39m_prepare_proxy(conn)\n\u001b[0;32m    702\u001b[0m \u001b[38;5;66;03m# Make the request on the httplib connection object.\u001b[39;00m\n\u001b[1;32m--> 703\u001b[0m httplib_response \u001b[38;5;241m=\u001b[39m \u001b[38;5;28;43mself\u001b[39;49m\u001b[38;5;241;43m.\u001b[39;49m\u001b[43m_make_request\u001b[49m\u001b[43m(\u001b[49m\n\u001b[0;32m    704\u001b[0m \u001b[43m    \u001b[49m\u001b[43mconn\u001b[49m\u001b[43m,\u001b[49m\n\u001b[0;32m    705\u001b[0m \u001b[43m    \u001b[49m\u001b[43mmethod\u001b[49m\u001b[43m,\u001b[49m\n\u001b[0;32m    706\u001b[0m \u001b[43m    \u001b[49m\u001b[43murl\u001b[49m\u001b[43m,\u001b[49m\n\u001b[0;32m    707\u001b[0m \u001b[43m    \u001b[49m\u001b[43mtimeout\u001b[49m\u001b[38;5;241;43m=\u001b[39;49m\u001b[43mtimeout_obj\u001b[49m\u001b[43m,\u001b[49m\n\u001b[0;32m    708\u001b[0m \u001b[43m    \u001b[49m\u001b[43mbody\u001b[49m\u001b[38;5;241;43m=\u001b[39;49m\u001b[43mbody\u001b[49m\u001b[43m,\u001b[49m\n\u001b[0;32m    709\u001b[0m \u001b[43m    \u001b[49m\u001b[43mheaders\u001b[49m\u001b[38;5;241;43m=\u001b[39;49m\u001b[43mheaders\u001b[49m\u001b[43m,\u001b[49m\n\u001b[0;32m    710\u001b[0m \u001b[43m    \u001b[49m\u001b[43mchunked\u001b[49m\u001b[38;5;241;43m=\u001b[39;49m\u001b[43mchunked\u001b[49m\u001b[43m,\u001b[49m\n\u001b[0;32m    711\u001b[0m \u001b[43m\u001b[49m\u001b[43m)\u001b[49m\n\u001b[0;32m    713\u001b[0m \u001b[38;5;66;03m# If we're going to release the connection in ``finally:``, then\u001b[39;00m\n\u001b[0;32m    714\u001b[0m \u001b[38;5;66;03m# the response doesn't need to know about the connection. Otherwise\u001b[39;00m\n\u001b[0;32m    715\u001b[0m \u001b[38;5;66;03m# it will also try to release it and we'll have a double-release\u001b[39;00m\n\u001b[0;32m    716\u001b[0m \u001b[38;5;66;03m# mess.\u001b[39;00m\n\u001b[0;32m    717\u001b[0m response_conn \u001b[38;5;241m=\u001b[39m conn \u001b[38;5;28;01mif\u001b[39;00m \u001b[38;5;129;01mnot\u001b[39;00m release_conn \u001b[38;5;28;01melse\u001b[39;00m \u001b[38;5;28;01mNone\u001b[39;00m\n",
      "File \u001b[1;32mc:\\ProgramData\\Anaconda3\\envs\\erthy\\lib\\site-packages\\urllib3\\connectionpool.py:449\u001b[0m, in \u001b[0;36mHTTPConnectionPool._make_request\u001b[1;34m(self, conn, method, url, timeout, chunked, **httplib_request_kw)\u001b[0m\n\u001b[0;32m    444\u001b[0m             httplib_response \u001b[38;5;241m=\u001b[39m conn\u001b[38;5;241m.\u001b[39mgetresponse()\n\u001b[0;32m    445\u001b[0m         \u001b[38;5;28;01mexcept\u001b[39;00m \u001b[38;5;167;01mBaseException\u001b[39;00m \u001b[38;5;28;01mas\u001b[39;00m e:\n\u001b[0;32m    446\u001b[0m             \u001b[38;5;66;03m# Remove the TypeError from the exception chain in\u001b[39;00m\n\u001b[0;32m    447\u001b[0m             \u001b[38;5;66;03m# Python 3 (including for exceptions like SystemExit).\u001b[39;00m\n\u001b[0;32m    448\u001b[0m             \u001b[38;5;66;03m# Otherwise it looks like a bug in the code.\u001b[39;00m\n\u001b[1;32m--> 449\u001b[0m             \u001b[43msix\u001b[49m\u001b[38;5;241;43m.\u001b[39;49m\u001b[43mraise_from\u001b[49m\u001b[43m(\u001b[49m\u001b[43me\u001b[49m\u001b[43m,\u001b[49m\u001b[43m \u001b[49m\u001b[38;5;28;43;01mNone\u001b[39;49;00m\u001b[43m)\u001b[49m\n\u001b[0;32m    450\u001b[0m \u001b[38;5;28;01mexcept\u001b[39;00m (SocketTimeout, BaseSSLError, SocketError) \u001b[38;5;28;01mas\u001b[39;00m e:\n\u001b[0;32m    451\u001b[0m     \u001b[38;5;28mself\u001b[39m\u001b[38;5;241m.\u001b[39m_raise_timeout(err\u001b[38;5;241m=\u001b[39me, url\u001b[38;5;241m=\u001b[39murl, timeout_value\u001b[38;5;241m=\u001b[39mread_timeout)\n",
      "File \u001b[1;32m<string>:3\u001b[0m, in \u001b[0;36mraise_from\u001b[1;34m(value, from_value)\u001b[0m\n",
      "File \u001b[1;32mc:\\ProgramData\\Anaconda3\\envs\\erthy\\lib\\site-packages\\urllib3\\connectionpool.py:444\u001b[0m, in \u001b[0;36mHTTPConnectionPool._make_request\u001b[1;34m(self, conn, method, url, timeout, chunked, **httplib_request_kw)\u001b[0m\n\u001b[0;32m    441\u001b[0m \u001b[38;5;28;01mexcept\u001b[39;00m \u001b[38;5;167;01mTypeError\u001b[39;00m:\n\u001b[0;32m    442\u001b[0m     \u001b[38;5;66;03m# Python 3\u001b[39;00m\n\u001b[0;32m    443\u001b[0m     \u001b[38;5;28;01mtry\u001b[39;00m:\n\u001b[1;32m--> 444\u001b[0m         httplib_response \u001b[38;5;241m=\u001b[39m \u001b[43mconn\u001b[49m\u001b[38;5;241;43m.\u001b[39;49m\u001b[43mgetresponse\u001b[49m\u001b[43m(\u001b[49m\u001b[43m)\u001b[49m\n\u001b[0;32m    445\u001b[0m     \u001b[38;5;28;01mexcept\u001b[39;00m \u001b[38;5;167;01mBaseException\u001b[39;00m \u001b[38;5;28;01mas\u001b[39;00m e:\n\u001b[0;32m    446\u001b[0m         \u001b[38;5;66;03m# Remove the TypeError from the exception chain in\u001b[39;00m\n\u001b[0;32m    447\u001b[0m         \u001b[38;5;66;03m# Python 3 (including for exceptions like SystemExit).\u001b[39;00m\n\u001b[0;32m    448\u001b[0m         \u001b[38;5;66;03m# Otherwise it looks like a bug in the code.\u001b[39;00m\n\u001b[0;32m    449\u001b[0m         six\u001b[38;5;241m.\u001b[39mraise_from(e, \u001b[38;5;28;01mNone\u001b[39;00m)\n",
      "File \u001b[1;32mc:\\ProgramData\\Anaconda3\\envs\\erthy\\lib\\http\\client.py:1377\u001b[0m, in \u001b[0;36mHTTPConnection.getresponse\u001b[1;34m(self)\u001b[0m\n\u001b[0;32m   1375\u001b[0m \u001b[38;5;28;01mtry\u001b[39;00m:\n\u001b[0;32m   1376\u001b[0m     \u001b[38;5;28;01mtry\u001b[39;00m:\n\u001b[1;32m-> 1377\u001b[0m         \u001b[43mresponse\u001b[49m\u001b[38;5;241;43m.\u001b[39;49m\u001b[43mbegin\u001b[49m\u001b[43m(\u001b[49m\u001b[43m)\u001b[49m\n\u001b[0;32m   1378\u001b[0m     \u001b[38;5;28;01mexcept\u001b[39;00m \u001b[38;5;167;01mConnectionError\u001b[39;00m:\n\u001b[0;32m   1379\u001b[0m         \u001b[38;5;28mself\u001b[39m\u001b[38;5;241m.\u001b[39mclose()\n",
      "File \u001b[1;32mc:\\ProgramData\\Anaconda3\\envs\\erthy\\lib\\http\\client.py:320\u001b[0m, in \u001b[0;36mHTTPResponse.begin\u001b[1;34m(self)\u001b[0m\n\u001b[0;32m    318\u001b[0m \u001b[38;5;66;03m# read until we get a non-100 response\u001b[39;00m\n\u001b[0;32m    319\u001b[0m \u001b[38;5;28;01mwhile\u001b[39;00m \u001b[38;5;28;01mTrue\u001b[39;00m:\n\u001b[1;32m--> 320\u001b[0m     version, status, reason \u001b[38;5;241m=\u001b[39m \u001b[38;5;28;43mself\u001b[39;49m\u001b[38;5;241;43m.\u001b[39;49m\u001b[43m_read_status\u001b[49m\u001b[43m(\u001b[49m\u001b[43m)\u001b[49m\n\u001b[0;32m    321\u001b[0m     \u001b[38;5;28;01mif\u001b[39;00m status \u001b[38;5;241m!=\u001b[39m CONTINUE:\n\u001b[0;32m    322\u001b[0m         \u001b[38;5;28;01mbreak\u001b[39;00m\n",
      "File \u001b[1;32mc:\\ProgramData\\Anaconda3\\envs\\erthy\\lib\\http\\client.py:281\u001b[0m, in \u001b[0;36mHTTPResponse._read_status\u001b[1;34m(self)\u001b[0m\n\u001b[0;32m    280\u001b[0m \u001b[38;5;28;01mdef\u001b[39;00m \u001b[38;5;21m_read_status\u001b[39m(\u001b[38;5;28mself\u001b[39m):\n\u001b[1;32m--> 281\u001b[0m     line \u001b[38;5;241m=\u001b[39m \u001b[38;5;28mstr\u001b[39m(\u001b[38;5;28;43mself\u001b[39;49m\u001b[38;5;241;43m.\u001b[39;49m\u001b[43mfp\u001b[49m\u001b[38;5;241;43m.\u001b[39;49m\u001b[43mreadline\u001b[49m\u001b[43m(\u001b[49m\u001b[43m_MAXLINE\u001b[49m\u001b[43m \u001b[49m\u001b[38;5;241;43m+\u001b[39;49m\u001b[43m \u001b[49m\u001b[38;5;241;43m1\u001b[39;49m\u001b[43m)\u001b[49m, \u001b[38;5;124m\"\u001b[39m\u001b[38;5;124miso-8859-1\u001b[39m\u001b[38;5;124m\"\u001b[39m)\n\u001b[0;32m    282\u001b[0m     \u001b[38;5;28;01mif\u001b[39;00m \u001b[38;5;28mlen\u001b[39m(line) \u001b[38;5;241m>\u001b[39m _MAXLINE:\n\u001b[0;32m    283\u001b[0m         \u001b[38;5;28;01mraise\u001b[39;00m LineTooLong(\u001b[38;5;124m\"\u001b[39m\u001b[38;5;124mstatus line\u001b[39m\u001b[38;5;124m\"\u001b[39m)\n",
      "File \u001b[1;32mc:\\ProgramData\\Anaconda3\\envs\\erthy\\lib\\socket.py:704\u001b[0m, in \u001b[0;36mSocketIO.readinto\u001b[1;34m(self, b)\u001b[0m\n\u001b[0;32m    702\u001b[0m \u001b[38;5;28;01mwhile\u001b[39;00m \u001b[38;5;28;01mTrue\u001b[39;00m:\n\u001b[0;32m    703\u001b[0m     \u001b[38;5;28;01mtry\u001b[39;00m:\n\u001b[1;32m--> 704\u001b[0m         \u001b[38;5;28;01mreturn\u001b[39;00m \u001b[38;5;28;43mself\u001b[39;49m\u001b[38;5;241;43m.\u001b[39;49m\u001b[43m_sock\u001b[49m\u001b[38;5;241;43m.\u001b[39;49m\u001b[43mrecv_into\u001b[49m\u001b[43m(\u001b[49m\u001b[43mb\u001b[49m\u001b[43m)\u001b[49m\n\u001b[0;32m    705\u001b[0m     \u001b[38;5;28;01mexcept\u001b[39;00m timeout:\n\u001b[0;32m    706\u001b[0m         \u001b[38;5;28mself\u001b[39m\u001b[38;5;241m.\u001b[39m_timeout_occurred \u001b[38;5;241m=\u001b[39m \u001b[38;5;28;01mTrue\u001b[39;00m\n",
      "File \u001b[1;32mc:\\ProgramData\\Anaconda3\\envs\\erthy\\lib\\ssl.py:1242\u001b[0m, in \u001b[0;36mSSLSocket.recv_into\u001b[1;34m(self, buffer, nbytes, flags)\u001b[0m\n\u001b[0;32m   1238\u001b[0m     \u001b[38;5;28;01mif\u001b[39;00m flags \u001b[38;5;241m!=\u001b[39m \u001b[38;5;241m0\u001b[39m:\n\u001b[0;32m   1239\u001b[0m         \u001b[38;5;28;01mraise\u001b[39;00m \u001b[38;5;167;01mValueError\u001b[39;00m(\n\u001b[0;32m   1240\u001b[0m           \u001b[38;5;124m\"\u001b[39m\u001b[38;5;124mnon-zero flags not allowed in calls to recv_into() on \u001b[39m\u001b[38;5;132;01m%s\u001b[39;00m\u001b[38;5;124m\"\u001b[39m \u001b[38;5;241m%\u001b[39m\n\u001b[0;32m   1241\u001b[0m           \u001b[38;5;28mself\u001b[39m\u001b[38;5;241m.\u001b[39m\u001b[38;5;18m__class__\u001b[39m)\n\u001b[1;32m-> 1242\u001b[0m     \u001b[38;5;28;01mreturn\u001b[39;00m \u001b[38;5;28;43mself\u001b[39;49m\u001b[38;5;241;43m.\u001b[39;49m\u001b[43mread\u001b[49m\u001b[43m(\u001b[49m\u001b[43mnbytes\u001b[49m\u001b[43m,\u001b[49m\u001b[43m \u001b[49m\u001b[43mbuffer\u001b[49m\u001b[43m)\u001b[49m\n\u001b[0;32m   1243\u001b[0m \u001b[38;5;28;01melse\u001b[39;00m:\n\u001b[0;32m   1244\u001b[0m     \u001b[38;5;28;01mreturn\u001b[39;00m \u001b[38;5;28msuper\u001b[39m()\u001b[38;5;241m.\u001b[39mrecv_into(buffer, nbytes, flags)\n",
      "File \u001b[1;32mc:\\ProgramData\\Anaconda3\\envs\\erthy\\lib\\ssl.py:1100\u001b[0m, in \u001b[0;36mSSLSocket.read\u001b[1;34m(self, len, buffer)\u001b[0m\n\u001b[0;32m   1098\u001b[0m \u001b[38;5;28;01mtry\u001b[39;00m:\n\u001b[0;32m   1099\u001b[0m     \u001b[38;5;28;01mif\u001b[39;00m buffer \u001b[38;5;129;01mis\u001b[39;00m \u001b[38;5;129;01mnot\u001b[39;00m \u001b[38;5;28;01mNone\u001b[39;00m:\n\u001b[1;32m-> 1100\u001b[0m         \u001b[38;5;28;01mreturn\u001b[39;00m \u001b[38;5;28;43mself\u001b[39;49m\u001b[38;5;241;43m.\u001b[39;49m\u001b[43m_sslobj\u001b[49m\u001b[38;5;241;43m.\u001b[39;49m\u001b[43mread\u001b[49m\u001b[43m(\u001b[49m\u001b[38;5;28;43mlen\u001b[39;49m\u001b[43m,\u001b[49m\u001b[43m \u001b[49m\u001b[43mbuffer\u001b[49m\u001b[43m)\u001b[49m\n\u001b[0;32m   1101\u001b[0m     \u001b[38;5;28;01melse\u001b[39;00m:\n\u001b[0;32m   1102\u001b[0m         \u001b[38;5;28;01mreturn\u001b[39;00m \u001b[38;5;28mself\u001b[39m\u001b[38;5;241m.\u001b[39m_sslobj\u001b[38;5;241m.\u001b[39mread(\u001b[38;5;28mlen\u001b[39m)\n",
      "\u001b[1;31mKeyboardInterrupt\u001b[0m: "
     ]
    }
   ],
   "source": [
    "extractDataset('LANDSAT_8', 'South Africa', ee.Date('2019-01-01'), ee.Date('2020-01-01'), fireEvents, 16, 'extract_test.csv')"
   ]
  },
  {
   "cell_type": "code",
   "execution_count": 20,
   "metadata": {},
   "outputs": [
    {
     "data": {
      "text/html": [
       "\n",
       "            <style>\n",
       "                .geemap-dark {\n",
       "                    --jp-widgets-color: white;\n",
       "                    --jp-widgets-label-color: white;\n",
       "                    --jp-ui-font-color1: white;\n",
       "                    --jp-layout-color2: #454545;\n",
       "                    background-color: #383838;\n",
       "                }\n",
       "                    \n",
       "                .geemap-dark .jupyter-button {\n",
       "                    --jp-layout-color3: #383838;\n",
       "                }\n",
       "                \n",
       "                .geemap-colab {\n",
       "                    background-color: var(--colab-primary-surface-color, white);\n",
       "                }\n",
       "                    \n",
       "                .geemap-colab .jupyter-button {\n",
       "                    --jp-layout-color3: var(--colab-primary-surface-color, white);\n",
       "                }\n",
       "            </style>\n",
       "            "
      ],
      "text/plain": [
       "<IPython.core.display.HTML object>"
      ]
     },
     "metadata": {},
     "output_type": "display_data"
    },
    {
     "data": {
      "text/html": [
       "<div id=\"8472710f-fb3e-4c57-9874-39a08ea62d6b\" style=\"height: auto; width:100%;\"></div>"
      ],
      "text/plain": [
       "<IPython.core.display.HTML object>"
      ]
     },
     "metadata": {},
     "output_type": "display_data"
    },
    {
     "data": {
      "text/html": [
       " \n",
       "        <script src=\"/static/components/requirejs/require.js\"></script> <!-- Needed in Colab -->\n",
       "        <script>\n",
       "            require([\"https://rawgit.com/caldwell/renderjson/master/renderjson.js\"], function() {\n",
       "              renderjson.set_show_to_level(1)\n",
       "              document.getElementById('8472710f-fb3e-4c57-9874-39a08ea62d6b').appendChild(renderjson({\"type\": \"Date\", \"value\": 1625788800000}))\n",
       "            });\n",
       "        </script>\n",
       "    "
      ],
      "text/plain": [
       "<IPython.core.display.HTML object>"
      ]
     },
     "metadata": {},
     "output_type": "display_data"
    }
   ],
   "source": [
    "endDate = ee.Date(fc.first().get('ig_date'))\n",
    "startDate = endDate.advance(8*-7,'days')\n",
    "\n",
    "eeprint(endDate)"
   ]
  },
  {
   "cell_type": "code",
   "execution_count": 18,
   "metadata": {},
   "outputs": [
    {
     "data": {
      "text/html": [
       "\n",
       "            <style>\n",
       "                .geemap-dark {\n",
       "                    --jp-widgets-color: white;\n",
       "                    --jp-widgets-label-color: white;\n",
       "                    --jp-ui-font-color1: white;\n",
       "                    --jp-layout-color2: #454545;\n",
       "                    background-color: #383838;\n",
       "                }\n",
       "                    \n",
       "                .geemap-dark .jupyter-button {\n",
       "                    --jp-layout-color3: #383838;\n",
       "                }\n",
       "                \n",
       "                .geemap-colab {\n",
       "                    background-color: var(--colab-primary-surface-color, white);\n",
       "                }\n",
       "                    \n",
       "                .geemap-colab .jupyter-button {\n",
       "                    --jp-layout-color3: var(--colab-primary-surface-color, white);\n",
       "                }\n",
       "            </style>\n",
       "            "
      ],
      "text/plain": [
       "<IPython.core.display.HTML object>"
      ]
     },
     "metadata": {},
     "output_type": "display_data"
    }
   ],
   "source": [
    "t1 = ee.ImageCollection('LANDSAT/LC08/C02/T1_L2').filterBounds(fireEvent).filterDate(startDate, endDate)\n",
    "Map.addLayer(t1.sort('CLOUD_COVER', False).first(), {'min': 0, 'max': 0.3}, \"L8 VNIR\")\n",
    "\n",
    "from data_preprocessing import cloudMask\n",
    "cloudMasked = cloudMask('LANDSAT_8', ee.Image(t1.sort('CLOUD_COVER', False).first()))\n",
    "Map.addLayer(cloudMasked, {'min': 0, 'max': 0.3}, \"L8 SWIR\")\n",
    "# eeprint(t1.sort('CLOUD_COVER', False).first())"
   ]
  },
  {
   "cell_type": "code",
   "execution_count": 44,
   "metadata": {},
   "outputs": [
    {
     "data": {
      "text/html": [
       "\n",
       "            <style>\n",
       "                .geemap-dark {\n",
       "                    --jp-widgets-color: white;\n",
       "                    --jp-widgets-label-color: white;\n",
       "                    --jp-ui-font-color1: white;\n",
       "                    --jp-layout-color2: #454545;\n",
       "                    background-color: #383838;\n",
       "                }\n",
       "                    \n",
       "                .geemap-dark .jupyter-button {\n",
       "                    --jp-layout-color3: #383838;\n",
       "                }\n",
       "                \n",
       "                .geemap-colab {\n",
       "                    background-color: var(--colab-primary-surface-color, white);\n",
       "                }\n",
       "                    \n",
       "                .geemap-colab .jupyter-button {\n",
       "                    --jp-layout-color3: var(--colab-primary-surface-color, white);\n",
       "                }\n",
       "            </style>\n",
       "            "
      ],
      "text/plain": [
       "<IPython.core.display.HTML object>"
      ]
     },
     "metadata": {},
     "output_type": "display_data"
    },
    {
     "data": {
      "text/html": [
       "<div id=\"82537b94-60ed-407a-9879-108b1b24be5f\" style=\"height: auto; width:100%;\"></div>"
      ],
      "text/plain": [
       "<IPython.core.display.HTML object>"
      ]
     },
     "metadata": {},
     "output_type": "display_data"
    },
    {
     "data": {
      "text/html": [
       " \n",
       "        <script src=\"/static/components/requirejs/require.js\"></script> <!-- Needed in Colab -->\n",
       "        <script>\n",
       "            require([\"https://rawgit.com/caldwell/renderjson/master/renderjson.js\"], function() {\n",
       "              renderjson.set_show_to_level(1)\n",
       "              document.getElementById('82537b94-60ed-407a-9879-108b1b24be5f').appendChild(renderjson(['LC08_168082_20210529', 'LC08_168082_20210614', 'LC08_168082_20210630', 'LC08_169082_20210520', 'LC08_169082_20210605', 'LC08_169082_20210621', 'LC08_169082_20210707']))\n",
       "            });\n",
       "        </script>\n",
       "    "
      ],
      "text/plain": [
       "<IPython.core.display.HTML object>"
      ]
     },
     "metadata": {},
     "output_type": "display_data"
    },
    {
     "data": {
      "text/html": [
       "<div>\n",
       "<style scoped>\n",
       "    .dataframe tbody tr th:only-of-type {\n",
       "        vertical-align: middle;\n",
       "    }\n",
       "\n",
       "    .dataframe tbody tr th {\n",
       "        vertical-align: top;\n",
       "    }\n",
       "\n",
       "    .dataframe thead th {\n",
       "        text-align: right;\n",
       "    }\n",
       "</style>\n",
       "<table border=\"1\" class=\"dataframe\">\n",
       "  <thead>\n",
       "    <tr style=\"text-align: right;\">\n",
       "      <th></th>\n",
       "      <th>temporal_variance_p25</th>\n",
       "      <th>temporal_variance_p5</th>\n",
       "      <th>temporal_variance_p50</th>\n",
       "      <th>temporal_variance_p75</th>\n",
       "      <th>temporal_variance_p95</th>\n",
       "      <th>Scene_IDs</th>\n",
       "    </tr>\n",
       "  </thead>\n",
       "  <tbody>\n",
       "    <tr>\n",
       "      <th>0</th>\n",
       "      <td>0.000192</td>\n",
       "      <td>0.000192</td>\n",
       "      <td>0.000192</td>\n",
       "      <td>0.000192</td>\n",
       "      <td>0.003374</td>\n",
       "      <td>[LC08_L2SP_168082_20210529_20210608_02_T1, LC0...</td>\n",
       "    </tr>\n",
       "  </tbody>\n",
       "</table>\n",
       "</div>"
      ],
      "text/plain": [
       "   temporal_variance_p25  temporal_variance_p5  temporal_variance_p50  \\\n",
       "0               0.000192              0.000192               0.000192   \n",
       "\n",
       "   temporal_variance_p75  temporal_variance_p95  \\\n",
       "0               0.000192               0.003374   \n",
       "\n",
       "                                           Scene_IDs  \n",
       "0  [LC08_L2SP_168082_20210529_20210608_02_T1, LC0...  "
      ]
     },
     "execution_count": 44,
     "metadata": {},
     "output_type": "execute_result"
    }
   ],
   "source": [
    "fireEvent = fc.first().geometry()\n",
    "X = preProcessXCollection(collection = ee.ImageCollection('LANDSAT/LC08/C02/T1_L2'), region = fireEvent, startDate = startDate, endDate = endDate)\n",
    "# eeprint(X.first())\n",
    "eeprint(X.aggregate_array(\"system:index\"))\n",
    "reducer = ee.Reducer.percentile([5, 25, 50, 75, 95])\n",
    "L8percentiles = X.select('nbr').reduce(reducer)\n",
    "# S2percentiles = S2filtered.reduce(reducer)\n",
    "# Compute temporal variance\n",
    "L8variance = L8percentiles.reduce(ee.Reducer.variance()).rename('temporal_variance')\n",
    "# S2variance = S2percentiles.reduce(ee.Reducer.variance())\n",
    "\n",
    "# Compute image spatial stats\n",
    "L8stats = L8variance.reduceRegion(reducer = reducer,\n",
    "                                        geometry = X.geometry(),\n",
    "                                        scale = 250)\n",
    "# eeprint(L8stats)\n",
    "# import pandas as pd\n",
    "outdf = pd.DataFrame().append(pd.DataFrame([L8stats.getInfo()]))\n",
    "outdf['Scene_IDs'] = [X.aggregate_array(\"LANDSAT_PRODUCT_ID\").getInfo()]\n",
    "outdf\n",
    "#     # features_df = ee.data.computeFeatures({'expression': L8stats, 'fileFormat': 'PANDAS_DATAFRAME'})\n",
    "#     # features_df.crs = 'EPSG:4326'\n",
    "#     # outdf = pd.concat([outdf, features_df])\n",
    "#     row = pd.Series(L8stats.getInfo())\n",
    "#     print(row)\n",
    "#     print(row)\n",
    "#     outdf = pd.concat([outdf, row])"
   ]
  },
  {
   "cell_type": "code",
   "execution_count": 46,
   "metadata": {},
   "outputs": [
    {
     "data": {
      "text/html": [
       "\n",
       "            <style>\n",
       "                .geemap-dark {\n",
       "                    --jp-widgets-color: white;\n",
       "                    --jp-widgets-label-color: white;\n",
       "                    --jp-ui-font-color1: white;\n",
       "                    --jp-layout-color2: #454545;\n",
       "                    background-color: #383838;\n",
       "                }\n",
       "                    \n",
       "                .geemap-dark .jupyter-button {\n",
       "                    --jp-layout-color3: #383838;\n",
       "                }\n",
       "                \n",
       "                .geemap-colab {\n",
       "                    background-color: var(--colab-primary-surface-color, white);\n",
       "                }\n",
       "                    \n",
       "                .geemap-colab .jupyter-button {\n",
       "                    --jp-layout-color3: var(--colab-primary-surface-color, white);\n",
       "                }\n",
       "            </style>\n",
       "            "
      ],
      "text/plain": [
       "<IPython.core.display.HTML object>"
      ]
     },
     "metadata": {},
     "output_type": "display_data"
    },
    {
     "data": {
      "application/vnd.jupyter.widget-view+json": {
       "model_id": "c078c76efc5d465ebf0b8490e5855da1",
       "version_major": 2,
       "version_minor": 0
      },
      "text/plain": [
       "  0%|          | 0/3 [00:00<?, ?it/s]"
      ]
     },
     "metadata": {},
     "output_type": "display_data"
    }
   ],
   "source": [
    "# fc = ee.FeatureCollection(\"projects/ee-geethensingh/assets/postdoc/proj_fired_south_africa_to2021182_events\")\n",
    "extractXy(yCollection= fc.limit(3), Xweeks= 4, filename= 'fired_test.csv')"
   ]
  },
  {
   "cell_type": "code",
   "execution_count": 12,
   "metadata": {},
   "outputs": [
    {
     "data": {
      "text/html": [
       "\n",
       "            <style>\n",
       "                .geemap-dark {\n",
       "                    --jp-widgets-color: white;\n",
       "                    --jp-widgets-label-color: white;\n",
       "                    --jp-ui-font-color1: white;\n",
       "                    --jp-layout-color2: #454545;\n",
       "                    background-color: #383838;\n",
       "                }\n",
       "                    \n",
       "                .geemap-dark .jupyter-button {\n",
       "                    --jp-layout-color3: #383838;\n",
       "                }\n",
       "                \n",
       "                .geemap-colab {\n",
       "                    background-color: var(--colab-primary-surface-color, white);\n",
       "                }\n",
       "                    \n",
       "                .geemap-colab .jupyter-button {\n",
       "                    --jp-layout-color3: var(--colab-primary-surface-color, white);\n",
       "                }\n",
       "            </style>\n",
       "            "
      ],
      "text/plain": [
       "<IPython.core.display.HTML object>"
      ]
     },
     "metadata": {},
     "output_type": "display_data"
    },
    {
     "name": "stdout",
     "output_type": "stream",
     "text": [
      "False\n"
     ]
    }
   ],
   "source": [
    "\n",
    "# Define the date range\n",
    "start_date = '2023-01-01'\n",
    "end_date = '2023-12-31'\n",
    "\n",
    "# Convert start and end dates to ee.Date objects\n",
    "start_date_ee = ee.Date(start_date)\n",
    "end_date_ee = ee.Date(end_date)\n",
    "\n",
    "# Define the date to check\n",
    "date_to_check = '2024-06-15'\n",
    "date_to_check_ee = ee.Date(date_to_check)\n",
    "\n",
    "dateRange = ee.DateRange(date_to_check_ee, date_to_check_ee)\n",
    "\n",
    "print(dateRange.contains(date_to_check_ee).getInfo())"
   ]
  },
  {
   "cell_type": "code",
   "execution_count": 16,
   "metadata": {},
   "outputs": [
    {
     "data": {
      "text/html": [
       "\n",
       "            <style>\n",
       "                .geemap-dark {\n",
       "                    --jp-widgets-color: white;\n",
       "                    --jp-widgets-label-color: white;\n",
       "                    --jp-ui-font-color1: white;\n",
       "                    --jp-layout-color2: #454545;\n",
       "                    background-color: #383838;\n",
       "                }\n",
       "                    \n",
       "                .geemap-dark .jupyter-button {\n",
       "                    --jp-layout-color3: #383838;\n",
       "                }\n",
       "                \n",
       "                .geemap-colab {\n",
       "                    background-color: var(--colab-primary-surface-color, white);\n",
       "                }\n",
       "                    \n",
       "                .geemap-colab .jupyter-button {\n",
       "                    --jp-layout-color3: var(--colab-primary-surface-color, white);\n",
       "                }\n",
       "            </style>\n",
       "            "
      ],
      "text/plain": [
       "<IPython.core.display.HTML object>"
      ]
     },
     "metadata": {},
     "output_type": "display_data"
    }
   ],
   "source": [
    "collection = ee.ImageCollection(\"COPERNICUS/S2_SR_HARMONIZED\")\n",
    "# Filter countries by geometry\n",
    "countries = ee.FeatureCollection(\"USDOS/LSIB_SIMPLE/2017\")\n",
    "geometry = ee.Geometry.Point([24.06353794842853, -29.732969740562062])\n",
    "sa = countries.filterBounds(geometry)\n",
    "sa_geo = sa.geometry()\n",
    "\n",
    "# Define start and end dates\n",
    "startDate = ee.Date.fromYMD(2018, 7, 4)\n",
    "endDate = ee.Date.fromYMD(2019, 8, 15)"
   ]
  },
  {
   "cell_type": "code",
   "execution_count": 7,
   "metadata": {},
   "outputs": [
    {
     "data": {
      "text/html": [
       "<div id=\"bdf3816c-36bb-4fb8-ac01-81753ae576b9\" style=\"height: auto; width:100%;\"></div>"
      ],
      "text/plain": [
       "<IPython.core.display.HTML object>"
      ]
     },
     "metadata": {},
     "output_type": "display_data"
    },
    {
     "data": {
      "text/html": [
       " \n",
       "        <script src=\"/static/components/requirejs/require.js\"></script> <!-- Needed in Colab -->\n",
       "        <script>\n",
       "            require([\"https://rawgit.com/caldwell/renderjson/master/renderjson.js\"], function() {\n",
       "              renderjson.set_show_to_level(1)\n",
       "              document.getElementById('bdf3816c-36bb-4fb8-ac01-81753ae576b9').appendChild(renderjson({\"type\": \"ImageCollection\", \"bands\": [], \"id\": \"LANDSAT/LC08/C02/T1_L2\", \"version\": 1706738839325192, \"properties\": {\"type_name\": \"ImageCollection\", \"keywords\": [\"cfmask\", \"cloud\", \"fmask\", \"global\", \"l8sr\", \"landsat\", \"lasrc\", \"lst\", \"reflectance\", \"sr\", \"usgs\"], \"visualization_1_bands\": \"SR_B5,SR_B4,SR_B3\", \"thumb\": \"https://mw1.google.com/ges/dd/images/LANDSAT_SR_thumb.png\", \"visualization_1_max\": \"30000.0\", \"description\": \"<p>This dataset contains atmospherically corrected\\\\nsurface reflectance and land surface temperature derived from the data\\\\nproduced by the Landsat 8 OLI/TIRS sensors.\\\\nThese images contain 5 visible and near-infrared (VNIR) bands and\\\\n2 short-wave infrared (SWIR) bands processed to orthorectified surface\\\\nreflectance, and one thermal infrared (TIR) band processed to orthorectified\\\\nsurface temperature. They also contain intermediate bands used in\\\\ncalculation of the ST products, as well as QA bands.</p><p>Landsat 8 SR products are created with the Land Surface Reflectance Code\\\\n(LaSRC). All Collection 2 ST products are created with a single-channel\\\\nalgorithm jointly created by the Rochester Institute of Technology (RIT) and\\\\nNational Aeronautics and Space Administration (NASA)\\\\nJet Propulsion Laboratory (JPL).</p><p>Strips of collected data are packaged into overlapping &quot;scenes&quot; covering approximately\\\\n170km x 183km using a <a href=\\\"https://landsat.gsfc.nasa.gov/about/worldwide-reference-system\\\">standardized reference grid</a>.</p><p>Some assets have only SR data, in which case ST bands are present but empty.\\\\nFor assets with both ST and SR bands, &#39;PROCESSING_LEVEL&#39; is set to &#39;L2SP&#39;.\\\\nFor assets with only SR bands, &#39;PROCESSING_LEVEL&#39; is set to &#39;L2SR&#39;.</p><p><a href=\\\"/earth-engine/guides/landsat\\\">Additional documentation and usage examples.</a></p><p>Data provider notes:</p><ul><li><p>Data products must contain both optical and thermal data to be\\\\nsuccessfully processed to surface temperature, as ASTER NDVI is\\\\nrequired to temporally adjust the ASTER GED product to the target Landsat\\\\nscene. Therefore, night time acquisitions cannot be processed to\\\\nsurface temperature.</p></li><li><p>A known error exists in the surface temperature retrievals relative\\\\nto clouds and possibly cloud shadows. The characterization of these\\\\nissues has been documented by\\\\n<a href=\\\"https://doi.org/10.3390/rs61111244\\\">Cook et al., (2014)</a>.</p></li></ul><p><b>Provider: <a href=\\\"https://www.usgs.gov/core-science-systems/nli/landsat/landsat-collection-2-level-2-science-products\\\">USGS</a></b><br><p><b>Resolution</b><br>30 meters\\\\n</p><p><b>Revisit Interval</b><br>\\\\n  16 days\\\\n</p><p><b>Bands</b><table class=\\\"eecat\\\"><tr><th scope=\\\"col\\\">Name</th><th scope=\\\"col\\\">Units</th><th scope=\\\"col\\\">Min</th><th scope=\\\"col\\\">Max</th><th scope=\\\"col\\\">Scale</th><th scope=\\\"col\\\">Offset</th><th scope=\\\"col\\\">Wavelength</th><th scope=\\\"col\\\">Description</th></tr><tr><td>SR_B1</td><td></td><td>\\\\n          1\\\\n</td><td>\\\\n          65455\\\\n</td><td>2.75e-05</td><td>-0.2</td><td>0.435-0.451 &mu;m</td><td><p>Band 1 (ultra blue, coastal aerosol) surface reflectance</p></td></tr><tr><td>SR_B2</td><td></td><td>\\\\n          1\\\\n</td><td>\\\\n          65455\\\\n</td><td>2.75e-05</td><td>-0.2</td><td>0.452-0.512 &mu;m</td><td><p>Band 2 (blue) surface reflectance</p></td></tr><tr><td>SR_B3</td><td></td><td>\\\\n          1\\\\n</td><td>\\\\n          65455\\\\n</td><td>2.75e-05</td><td>-0.2</td><td>0.533-0.590 &mu;m</td><td><p>Band 3 (green) surface reflectance</p></td></tr><tr><td>SR_B4</td><td></td><td>\\\\n          1\\\\n</td><td>\\\\n          65455\\\\n</td><td>2.75e-05</td><td>-0.2</td><td>0.636-0.673 &mu;m</td><td><p>Band 4 (red) surface reflectance</p></td></tr><tr><td>SR_B5</td><td></td><td>\\\\n          1\\\\n</td><td>\\\\n          65455\\\\n</td><td>2.75e-05</td><td>-0.2</td><td>0.851-0.879 &mu;m</td><td><p>Band 5 (near infrared) surface reflectance</p></td></tr><tr><td>SR_B6</td><td></td><td>\\\\n          1\\\\n</td><td>\\\\n          65455\\\\n</td><td>2.75e-05</td><td>-0.2</td><td>1.566-1.651 &mu;m</td><td><p>Band 6 (shortwave infrared 1) surface reflectance</p></td></tr><tr><td>SR_B7</td><td></td><td>\\\\n          1\\\\n</td><td>\\\\n          65455\\\\n</td><td>2.75e-05</td><td>-0.2</td><td>2.107-2.294 &mu;m</td><td><p>Band 7 (shortwave infrared 2) surface reflectance</p></td></tr><tr><td>SR_QA_AEROSOL</td><td></td><td></td><td></td><td></td><td></td><td></td><td><p>Aerosol attributes</p></td></tr><tr><td colspan=100>\\\\n      Bitmask for SR_QA_AEROSOL\\\\n<ul><li>\\\\n          Bit 0: Fill\\\\n<ul></ul></li><li>\\\\n          Bit 1: Aerosol retrieval - valid\\\\n<ul></ul></li><li>\\\\n          Bit 2: Water pixel\\\\n<ul></ul></li><li>\\\\n          Bit 3: Unused\\\\n<ul></ul></li><li>\\\\n          Bit 4: Unused\\\\n<ul></ul></li><li>\\\\n          Bit 5: Interpolated Aerosol\\\\n<ul></ul></li><li>\\\\n          Bits 6-7: Aerosol Level\\\\n<ul><li>0: Climatology</li><li>1: Low</li><li>2: Medium</li><li>3: High</li></ul></li></ul></td></tr><tr><td>ST_B10</td><td>Kelvin</td><td>\\\\n          0\\\\n</td><td>\\\\n          65535\\\\n</td><td>0.00341802</td><td>149</td><td>10.60-11.19 &mu;m</td><td><p>Band 10 surface temperature.\\\\nIf &#39;PROCESSING_LEVEL&#39; is set to &#39;L2SR&#39;, this band is fully masked out.</p></td></tr><tr><td>ST_ATRAN</td><td></td><td>\\\\n          0\\\\n</td><td>\\\\n          10000\\\\n</td><td>0.0001</td><td></td><td></td><td><p>Atmospheric Transmittance.\\\\nIf &#39;PROCESSING_LEVEL&#39; is set to &#39;L2SR&#39;, this band is fully masked out.</p></td></tr><tr><td>ST_CDIST</td><td>km</td><td>\\\\n          0\\\\n</td><td>\\\\n          24000\\\\n</td><td>0.01</td><td></td><td></td><td><p>Pixel distance to cloud.\\\\nIf &#39;PROCESSING_LEVEL&#39; is set to &#39;L2SR&#39;, this band is fully masked out.</p></td></tr><tr><td>ST_DRAD</td><td>W/(m^2*sr*um)/ DN</td><td>\\\\n          0\\\\n</td><td>\\\\n          28000\\\\n</td><td>0.001</td><td></td><td></td><td><p>Downwelled Radiance.\\\\nIf &#39;PROCESSING_LEVEL&#39; is set to &#39;L2SR&#39;, this band is fully masked out.</p></td></tr><tr><td>ST_EMIS</td><td></td><td>\\\\n          0\\\\n</td><td>\\\\n          10000\\\\n</td><td>0.0001</td><td></td><td></td><td><p>Emissivity of Band 10 estimated from ASTER GED.\\\\nIf &#39;PROCESSING_LEVEL&#39; is set to &#39;L2SR&#39;, this band is fully masked out.</p></td></tr><tr><td>ST_EMSD</td><td></td><td>\\\\n          0\\\\n</td><td>\\\\n          10000\\\\n</td><td>0.0001</td><td></td><td></td><td><p>Emissivity standard deviation.\\\\nIf &#39;PROCESSING_LEVEL&#39; is set to &#39;L2SR&#39;, this band is fully masked out.</p></td></tr><tr><td>ST_QA</td><td>K</td><td>\\\\n          0\\\\n</td><td>\\\\n          32767\\\\n</td><td>0.01</td><td></td><td></td><td><p>Uncertainty of the Surface Temperature band.\\\\nIf &#39;PROCESSING_LEVEL&#39; is set to &#39;L2SR&#39;, this band is fully masked out.</p></td></tr><tr><td>ST_TRAD</td><td>W/(m^2*sr*um)/ DN</td><td>\\\\n          0\\\\n</td><td>\\\\n          22000\\\\n</td><td>0.001</td><td></td><td></td><td><p>Thermal band converted to radiance.\\\\nIf &#39;PROCESSING_LEVEL&#39; is set to &#39;L2SR&#39;, this band is fully masked out.</p></td></tr><tr><td>ST_URAD</td><td>W/(m^2*sr*um)/ DN</td><td>\\\\n          0\\\\n</td><td>\\\\n          28000\\\\n</td><td>0.001</td><td></td><td></td><td><p>Upwelled Radiance. If &#39;PROCESSING_LEVEL&#39; is set to &#39;L2SR&#39;, this band is fully masked out.</p></td></tr><tr><td>QA_PIXEL</td><td></td><td></td><td></td><td></td><td></td><td></td><td><p>Pixel quality attributes generated from the CFMASK algorithm.</p></td></tr><tr><td colspan=100>\\\\n      Bitmask for QA_PIXEL\\\\n<ul><li>\\\\n          Bit 0: Fill\\\\n<ul></ul></li><li>\\\\n          Bit 1: Dilated Cloud\\\\n<ul></ul></li><li>\\\\n          Bit 2: Cirrus (high confidence)\\\\n<ul></ul></li><li>\\\\n          Bit 3: Cloud\\\\n<ul></ul></li><li>\\\\n          Bit 4: Cloud Shadow\\\\n<ul></ul></li><li>\\\\n          Bit 5: Snow\\\\n<ul></ul></li><li>\\\\n          Bit 6: Clear\\\\n<ul><li>0: Cloud or Dilated Cloud bits are set</li><li>1: Cloud and Dilated Cloud bits are not set</li></ul></li><li>\\\\n          Bit 7: Water\\\\n<ul></ul></li><li>\\\\n          Bits 8-9: Cloud Confidence\\\\n<ul><li>0: None</li><li>1: Low</li><li>2: Medium</li><li>3: High</li></ul></li><li>\\\\n          Bits 10-11: Cloud Shadow Confidence\\\\n<ul><li>0: None</li><li>1: Low</li><li>2: Medium</li><li>3: High</li></ul></li><li>\\\\n          Bits 12-13: Snow/Ice Confidence\\\\n<ul><li>0: None</li><li>1: Low</li><li>2: Medium</li><li>3: High</li></ul></li><li>\\\\n          Bits 14-15: Cirrus Confidence\\\\n<ul><li>0: None</li><li>1: Low</li><li>2: Medium</li><li>3: High</li></ul></li></ul></td></tr><tr><td>QA_RADSAT</td><td></td><td></td><td></td><td></td><td></td><td></td><td><p>Radiometric saturation QA</p></td></tr><tr><td colspan=100>\\\\n      Bitmask for QA_RADSAT\\\\n<ul><li>\\\\n          Bit 0: Band 1 data saturated\\\\n<ul></ul></li><li>\\\\n          Bit 1: Band 2 data saturated\\\\n<ul></ul></li><li>\\\\n          Bit 2: Band 3 data saturated\\\\n<ul></ul></li><li>\\\\n          Bit 3: Band 4 data saturated\\\\n<ul></ul></li><li>\\\\n          Bit 4: Band 5 data saturated\\\\n<ul></ul></li><li>\\\\n          Bit 5: Band 6 data saturated\\\\n<ul></ul></li><li>\\\\n          Bit 6: Band 7 data saturated\\\\n<ul></ul></li><li>\\\\n          Bit 7: Unused\\\\n<ul></ul></li><li>\\\\n          Bit 8: Band 9 data saturated\\\\n<ul></ul></li><li>\\\\n          Bit 9: Unused\\\\n<ul></ul></li><li>\\\\n          Bit 10: Unused\\\\n<ul></ul></li><li>\\\\n          Bit 11: Terrain occlusion\\\\n<ul></ul></li></ul></td></tr></table><p><b>Image Properties</b><table class=\\\"eecat\\\"><tr><th scope=\\\"col\\\">Name</th><th scope=\\\"col\\\">Type</th><th scope=\\\"col\\\">Description</th></tr><tr><td>ALGORITHM_SOURCE_SURFACE_REFLECTANCE</td><td>STRING</td><td><p>Name and version of the surface reflectance algorithm.</p></td></tr><tr><td>ALGORITHM_SOURCE_SURFACE_TEMPERATURE</td><td>STRING</td><td><p>Name and version of the surface temperature algorithm.</p></td></tr><tr><td>CLOUD_COVER</td><td>DOUBLE</td><td><p>Percentage cloud cover (0-100), -1 = not calculated.</p></td></tr><tr><td>CLOUD_COVER_LAND</td><td>DOUBLE</td><td><p>Percentage cloud cover over land (0-100), -1 = not calculated.</p></td></tr><tr><td>COLLECTION_CATEGORY</td><td>STRING</td><td><p>Scene collection category, &quot;T1&quot; or &quot;T2&quot;.</p></td></tr><tr><td>DATA_SOURCE_AIR_TEMPERATURE</td><td>STRING</td><td><p>Air temperature data source.</p></td></tr><tr><td>DATA_SOURCE_ELEVATION</td><td>STRING</td><td><p>Elevation data source.</p></td></tr><tr><td>DATA_SOURCE_OZONE</td><td>STRING</td><td><p>Ozone data source.</p></td></tr><tr><td>DATA_SOURCE_PRESSURE</td><td>STRING</td><td><p>Pressure data source.</p></td></tr><tr><td>DATA_SOURCE_REANALYSIS</td><td>STRING</td><td><p>Reanalysis data source.</p></td></tr><tr><td>DATA_SOURCE_TIRS_STRAY_LIGHT_CORRECTION</td><td>STRING</td><td><p>TIRS stray light correction data source.</p></td></tr><tr><td>DATA_SOURCE_WATER_VAPOR</td><td>STRING</td><td><p>Water vapor data source.</p></td></tr><tr><td>DATE_PRODUCT_GENERATED</td><td>DOUBLE</td><td><p>Timestamp of the date when the product was generated.</p></td></tr><tr><td>EARTH_SUN_DISTANCE</td><td>DOUBLE</td><td><p>Earth-Sun distance (AU).</p></td></tr><tr><td>EPHEMERIS_TYPE</td><td>STRING</td><td><p>Identifier to inform the user of the orbital ephemeris type used:\\\\n&quot;DEFINITIVE&quot; or &quot;PREDICTIVE&quot;. If the field is not present, the user should\\\\nassume &quot;PREDICTIVE&quot;.</p></td></tr><tr><td>GEOMETRIC_RMSE_MODEL</td><td>DOUBLE</td><td><p>Combined RMSE (Root Mean Square Error) of the geometric\\\\nresiduals (meters) in both across-track and along-track\\\\ndirections.</p></td></tr><tr><td>GEOMETRIC_RMSE_MODEL_X</td><td>DOUBLE</td><td><p>RMSE (Root Mean Square Error) of the geometric residuals (meters)\\\\nmeasured on the GCPs (Ground Control Points) used in geometric\\\\nprecision correction in the across-track direction.</p></td></tr><tr><td>GEOMETRIC_RMSE_MODEL_Y</td><td>DOUBLE</td><td><p>RMSE (Root Mean Square Error) of the geometric residuals (meters)\\\\nmeasured on the GCPs (Ground Control Points) used in geometric\\\\nprecision correction in the along-track direction.</p></td></tr><tr><td>GEOMETRIC_RMSE_VERIFY</td><td>DOUBLE</td><td><p>RMSE of the geometric residuals (meters) measured on the\\\\nterrain-corrected product independently using GLS2000.</p></td></tr><tr><td>GROUND_CONTROL_POINTS_MODEL</td><td>DOUBLE</td><td><p>Number of GCPs used in the precision correction process.\\\\nThis parameter is only present if the PROCESSING_LEVEL is L1TP.</p></td></tr><tr><td>GROUND_CONTROL_POINTS_VERIFY</td><td>DOUBLE</td><td><p>Number of GCPs (Ground Control Points) used in the verification\\\\nof the terrain corrected product.</p></td></tr><tr><td>GROUND_CONTROL_POINTS_VERSION</td><td>DOUBLE</td><td><p>GCP dataset version used in the precision correction process. This\\\\nparameter is only present if the PROCESSING_LEVEL is L1TP.</p></td></tr><tr><td>IMAGE_QUALITY_OLI</td><td>INT</td><td><p>Image quality of the OLI bands.\\\\n1 = worst, 9 = best, 0 = quality not calculated.\\\\nFor Landsat 8, this parameter is adjusted downward for\\\\nscenes collected using the lower 12 bits from the OLI sensor\\\\n(TRUNCATION_OLI = &quot;LOWER&quot;).</p></td></tr><tr><td>IMAGE_QUALITY_TIRS</td><td>INT</td><td><p>Image quality of the TIRS bands.\\\\n1 = worst, 9 = best, 0 = quality not calculated.\\\\nIt is also adjusted downward for scenes processed with\\\\n&quot;SWITCHED&quot; for the TIRS_SSM_POSITION_STATUS value.</p></td></tr><tr><td>L1_DATE_PRODUCT_GENERATED</td><td>STRING</td><td><p>Product generation date for the corresponding L1 product.</p></td></tr><tr><td>L1_LANDSAT_PRODUCT_ID</td><td>STRING</td><td><p>Landsat Product Identifier for the corresponding L1 product.</p></td></tr><tr><td>L1_PROCESSING_LEVEL</td><td>STRING</td><td><p>Processing Level for the corresponding L1 product.</p></td></tr><tr><td>L1_PROCESSING_SOFTWARE_VERSION</td><td>STRING</td><td><p>Processing software version for the corresponding L1 product.</p></td></tr><tr><td>LANDSAT_PRODUCT_ID</td><td>STRING</td><td><p>Landsat Product Identifier</p></td></tr><tr><td>LANDSAT_SCENE_ID</td><td>STRING</td><td><p>Short Landsat Scene Identifier</p></td></tr><tr><td>PROCESSING_LEVEL</td><td>STRING</td><td><p>&quot;L2SP&quot; when both SR and LST bands are present, or &quot;L2SR&quot; when only\\\\nSR bands are present.</p></td></tr><tr><td>PROCESSING_SOFTWARE_VERSION</td><td>STRING</td><td><p>The processing software version that created the product.</p></td></tr><tr><td>ROLL_ANGLE</td><td>DOUBLE</td><td><p>The amount of spacecraft roll angle at the scene center. The roll value is\\\\ngiven in the Yaw Steering Frame (YSF) reference, whose x-axis is\\\\naligned with the instantaneous ground track velocity vector. Rolls about\\\\nthis x-axis go by the right-hand rule: a positive roll results in the\\\\ninstruments pointing to the left of the ground track, while a negative\\\\nroll results in the instrument pointing to the right.</p></td></tr><tr><td>SCENE_CENTER_TIME</td><td>STRING</td><td><p>Time of the observations as in ISO 8601 string.</p></td></tr><tr><td>SENSOR_ID</td><td>STRING</td><td><p>Name of the sensor.</p></td></tr><tr><td>SPACECRAFT_ID</td><td>STRING</td><td><p>Name of the spacecraft.</p></td></tr><tr><td>SUN_AZIMUTH</td><td>DOUBLE</td><td><p>Sun azimuth angle in degrees for the image center location at the\\\\nimage center acquisition time. A positive value indicates angles to the\\\\neast or clockwise from the north. A negative value indicates angles to\\\\nthe west or counterclockwise from the north.</p></td></tr><tr><td>SUN_ELEVATION</td><td>DOUBLE</td><td><p>Sun elevation angle in degrees for the image center location at the\\\\nimage center acquisition time. A positive value indicates a daytime\\\\nscene. A negative value indicates a nighttime scene.\\\\nNote: For reflectance calculation, the sun zenith angle is needed,\\\\nwhich is 90 - sun elevation angle.</p></td></tr><tr><td>TARGET_WRS_PATH</td><td>INT</td><td><p>Nearest WRS-2 path to the Line-ofSight (LOS) scene center of the image.</p></td></tr><tr><td>TARGET_WRS_ROW</td><td>INT</td><td><p>Nearest WRS-2 row to the LOS scene center of the image. Rows 880-889\\\\nare reserved for the north pole and 990-999 are reserved for the south\\\\npole, where WRS-2 is not defined.</p></td></tr><tr><td>TEMPERATURE_MAXIMUM_BAND_ST_B10</td><td>DOUBLE</td><td><p>Maximum achievable temperature value for Band 10.</p></td></tr><tr><td>TEMPERATURE_MINIMUM_BAND_ST_B10</td><td>DOUBLE</td><td><p>Minimum achievable temperature value for Band 10.</p></td></tr><tr><td>TIRS_SSM_MODEL</td><td>STRING</td><td><p>Indicates how the Landsat 8 TIRS Scene Select Mirror (SSM) position\\\\nwas determined.</p><ul><li><p>&quot;FINAL&quot; indicates final estimated encoder values generated after\\\\nthe switch event.</p></li><li><p>&quot;ACTUAL&quot; indicates actual encoder values.</p></li></ul></td></tr><tr><td>TIRS_SSM_POSITION_STATUS</td><td>STRING</td><td><ul><li><p>&quot;NOMINAL&quot; indicates the SSM was functioning normally for this scene.</p></li><li><p>&quot;SWITCHED&quot; indicates the SSM switched operating modes in the scene and\\\\nmay have TIRS image quality issues, which directly impact the\\\\nIMAGE_QUALITY_TIRS value.</p></li><li><p>&quot;ESTIMATED&quot; indicates the SSM position was estimated, which may not be\\\\nas accurate as the &quot;NOMINAL&quot; status.</p></li></ul></td></tr><tr><td>TRUNCATION_OLI</td><td>STRING</td><td><ul><li><p>&quot;LOWER&quot; indicates that the lower 12 bits were used.</p></li><li><p>&quot;UPPER&quot; indicates the upper 12 bits were used.</p></li></ul><p>The normal truncation mode is &quot;UPPER&quot;.</p></td></tr><tr><td>WRS_PATH</td><td>INT</td><td><p>WRS path number of scene.</p></td></tr><tr><td>WRS_ROW</td><td>INT</td><td><p>WRS row number of scene.</p></td></tr></table><p><b>Terms of Use</b><br><p>Landsat datasets are federally created data\\\\nand therefore reside in the public domain and may be used, transferred, or reproduced without copyright restriction.</p><p>Acknowledgement or credit of the USGS as data source should be provided\\\\nby including a line of text citation such as the example shown below.</p><p>(Product, Image, Photograph, or Dataset Name) courtesy of\\\\nthe U.S. Geological Survey</p><p>Example: Landsat-7 image courtesy of the U.S. Geological Survey</p><p>See the\\\\n<a href=\\\"https://www.usgs.gov/information-policies-and-instructions/usgs-visual-identity-system\\\">USGS Visual Identity System Guidance</a>\\\\nfor further details on proper citation and acknowledgement of USGS products.</p><style>\\\\n  table.eecat {\\\\n  border: 1px solid black;\\\\n  border-collapse: collapse;\\\\n  font-size: 13px;\\\\n  }\\\\n  table.eecat td, tr, th {\\\\n  text-align: left; vertical-align: top;\\\\n  border: 1px solid gray; padding: 3px;\\\\n  }\\\\n  td.nobreak { white-space: nowrap; }\\\\n</style>\", \"source_tags\": [\"landsat\", \"usgs\"], \"visualization_1_name\": \"Near Infrared (543)\", \"visualization_0_max\": \"30000.0\", \"title\": \"USGS Landsat 8 Level 2, Collection 2, Tier 1\", \"product_tags\": [\"global\", \"sr\", \"reflectance\", \"l8sr\", \"lst\", \"cloud\", \"lasrc\", \"fmask\", \"cfmask\", \"lc08\"], \"provider\": \"USGS\", \"visualization_1_min\": \"0.0\", \"visualization_0_min\": \"0.0\", \"visualization_0_name\": \"True Color (432)\", \"date_range\": [1365638400000, 1654560000000], \"visualization_2_bands\": \"SR_B7,SR_B5,SR_B3\", \"visualization_2_name\": \"Shortwave Infrared (753)\", \"period\": 0, \"visualization_2_min\": \"0.0\", \"provider_url\": \"https://www.usgs.gov/core-science-systems/nli/landsat/landsat-collection-2-level-2-science-products\", \"sample\": \"https://mw1.google.com/ges/dd/images/LANDSAT_SR_sample.png\", \"tags\": [\"cfmask\", \"cloud\", \"fmask\", \"global\", \"l8sr\", \"landsat\", \"lasrc\", \"lst\", \"reflectance\", \"sr\", \"usgs\"], \"visualization_2_max\": \"30000.0\", \"visualization_0_bands\": \"SR_B4,SR_B3,SR_B2\"}, \"features\": [{\"type\": \"Image\", \"bands\": [{\"id\": \"SR_B1\", \"data_type\": {\"type\": \"PixelType\", \"precision\": \"double\", \"min\": -0.2, \"max\": 1.6022125}, \"dimensions\": [7871, 7871], \"crs\": \"EPSG:32637\", \"crs_transform\": [30, 0, 305685, 0, -30, -4979985]}, {\"id\": \"SR_B2\", \"data_type\": {\"type\": \"PixelType\", \"precision\": \"double\", \"min\": -0.2, \"max\": 1.6022125}, \"dimensions\": [7871, 7871], \"crs\": \"EPSG:32637\", \"crs_transform\": [30, 0, 305685, 0, -30, -4979985]}, {\"id\": \"SR_B3\", \"data_type\": {\"type\": \"PixelType\", \"precision\": \"double\", \"min\": -0.2, \"max\": 1.6022125}, \"dimensions\": [7871, 7871], \"crs\": \"EPSG:32637\", \"crs_transform\": [30, 0, 305685, 0, -30, -4979985]}, {\"id\": \"SR_B4\", \"data_type\": {\"type\": \"PixelType\", \"precision\": \"double\", \"min\": -0.2, \"max\": 1.6022125}, \"dimensions\": [7871, 7871], \"crs\": \"EPSG:32637\", \"crs_transform\": [30, 0, 305685, 0, -30, -4979985]}, {\"id\": \"SR_B5\", \"data_type\": {\"type\": \"PixelType\", \"precision\": \"double\", \"min\": -0.2, \"max\": 1.6022125}, \"dimensions\": [7871, 7871], \"crs\": \"EPSG:32637\", \"crs_transform\": [30, 0, 305685, 0, -30, -4979985]}, {\"id\": \"SR_B6\", \"data_type\": {\"type\": \"PixelType\", \"precision\": \"double\", \"min\": -0.2, \"max\": 1.6022125}, \"dimensions\": [7871, 7871], \"crs\": \"EPSG:32637\", \"crs_transform\": [30, 0, 305685, 0, -30, -4979985]}, {\"id\": \"SR_B7\", \"data_type\": {\"type\": \"PixelType\", \"precision\": \"double\", \"min\": -0.2, \"max\": 1.6022125}, \"dimensions\": [7871, 7871], \"crs\": \"EPSG:32637\", \"crs_transform\": [30, 0, 305685, 0, -30, -4979985]}, {\"id\": \"SR_QA_AEROSOL\", \"data_type\": {\"type\": \"PixelType\", \"precision\": \"int\", \"min\": 0, \"max\": 255}, \"dimensions\": [7871, 7871], \"crs\": \"EPSG:32637\", \"crs_transform\": [30, 0, 305685, 0, -30, -4979985]}, {\"id\": \"ST_B10\", \"data_type\": {\"type\": \"PixelType\", \"precision\": \"double\", \"min\": 149, \"max\": 372.9999407}, \"crs\": \"EPSG:32637\", \"crs_transform\": [1, 0, 305685, 0, 1, -4979985]}, {\"id\": \"ST_ATRAN\", \"data_type\": {\"type\": \"PixelType\", \"precision\": \"int\", \"min\": -32768, \"max\": 32767}, \"crs\": \"EPSG:32637\", \"crs_transform\": [1, 0, 305685, 0, 1, -4979985]}, {\"id\": \"ST_CDIST\", \"data_type\": {\"type\": \"PixelType\", \"precision\": \"int\", \"min\": -32768, \"max\": 32767}, \"crs\": \"EPSG:32637\", \"crs_transform\": [1, 0, 305685, 0, 1, -4979985]}, {\"id\": \"ST_DRAD\", \"data_type\": {\"type\": \"PixelType\", \"precision\": \"int\", \"min\": -32768, \"max\": 32767}, \"crs\": \"EPSG:32637\", \"crs_transform\": [1, 0, 305685, 0, 1, -4979985]}, {\"id\": \"ST_EMIS\", \"data_type\": {\"type\": \"PixelType\", \"precision\": \"int\", \"min\": -32768, \"max\": 32767}, \"crs\": \"EPSG:32637\", \"crs_transform\": [1, 0, 305685, 0, 1, -4979985]}, {\"id\": \"ST_EMSD\", \"data_type\": {\"type\": \"PixelType\", \"precision\": \"int\", \"min\": -32768, \"max\": 32767}, \"crs\": \"EPSG:32637\", \"crs_transform\": [1, 0, 305685, 0, 1, -4979985]}, {\"id\": \"ST_QA\", \"data_type\": {\"type\": \"PixelType\", \"precision\": \"int\", \"min\": -32768, \"max\": 32767}, \"crs\": \"EPSG:32637\", \"crs_transform\": [1, 0, 305685, 0, 1, -4979985]}, {\"id\": \"ST_TRAD\", \"data_type\": {\"type\": \"PixelType\", \"precision\": \"int\", \"min\": -32768, \"max\": 32767}, \"crs\": \"EPSG:32637\", \"crs_transform\": [1, 0, 305685, 0, 1, -4979985]}, {\"id\": \"ST_URAD\", \"data_type\": {\"type\": \"PixelType\", \"precision\": \"int\", \"min\": -32768, \"max\": 32767}, \"crs\": \"EPSG:32637\", \"crs_transform\": [1, 0, 305685, 0, 1, -4979985]}, {\"id\": \"QA_PIXEL\", \"data_type\": {\"type\": \"PixelType\", \"precision\": \"int\", \"min\": 0, \"max\": 65535}, \"dimensions\": [7871, 7871], \"crs\": \"EPSG:32637\", \"crs_transform\": [30, 0, 305685, 0, -30, -4979985]}, {\"id\": \"QA_RADSAT\", \"data_type\": {\"type\": \"PixelType\", \"precision\": \"int\", \"min\": 0, \"max\": 65535}, \"dimensions\": [7871, 7871], \"crs\": \"EPSG:32637\", \"crs_transform\": [30, 0, 305685, 0, -30, -4979985]}, {\"id\": \"nbr\", \"data_type\": {\"type\": \"PixelType\", \"precision\": \"float\", \"min\": -1, \"max\": 1}, \"dimensions\": [7871, 7871], \"crs\": \"EPSG:32637\", \"crs_transform\": [30, 0, 305685, 0, -30, -4979985]}], \"id\": \"LANDSAT/LC08/C02/T1_L2/LC08_160092_20180716\", \"version\": 1630127032859057, \"properties\": {\"DATA_SOURCE_ELEVATION\": \"GLS2000\", \"WRS_TYPE\": 2, \"REFLECTANCE_ADD_BAND_1\": -0.2, \"REFLECTANCE_ADD_BAND_2\": -0.2, \"DATUM\": \"WGS84\", \"REFLECTANCE_ADD_BAND_3\": -0.2, \"REFLECTANCE_ADD_BAND_4\": -0.2, \"REFLECTANCE_ADD_BAND_5\": -0.2, \"REFLECTANCE_ADD_BAND_6\": -0.2, \"REFLECTANCE_ADD_BAND_7\": -0.2, \"system:footprint\": {\"type\": \"LinearRing\", \"coordinates\": [[37.149791527091736, -44.963660429872085], [37.144295745315574, -44.97787589410496], [37.126491534665206, -45.02422959407723], [37.0654836560798, -45.18261935147786], [37.014692787189816, -45.31387451679183], [36.953091251812765, -45.472337170471675], [36.9022511822374, -45.60258646985124], [36.839463371611565, -45.762716664933485], [36.79867780960211, -45.86625333401222], [36.76218542434964, -45.958642684079756], [36.66984885294268, -46.19121303963584], [36.63645221300616, -46.274911248861166], [36.59631078340931, -46.37520458228852], [36.54978503723996, -46.49111163593163], [36.48337850089664, -46.65572912891998], [36.98523543591358, -46.75089924441088], [38.527254545083366, -47.02764045185208], [38.89642110830818, -47.09040858944325], [39.49158108003042, -45.387433660820804], [39.464662073959474, -45.38281091779184], [38.8489485806149, -45.27648198039797], [37.17187528105219, -44.96788520825806], [37.149791527091736, -44.963660429872085]]}, \"REFLECTIVE_SAMPLES\": 7871, \"GROUND_CONTROL_POINTS_VERSION\": 5, \"SUN_AZIMUTH\": 35.57339295, \"DATA_SOURCE_TIRS_STRAY_LIGHT_CORRECTION\": \"TIRS\", \"UTM_ZONE\": 37, \"DATE_ACQUIRED\": \"2018-07-16\", \"ELLIPSOID\": \"WGS84\", \"system:time_end\": 1531724717464, \"DATA_SOURCE_PRESSURE\": \"Calculated\", \"LANDSAT_PRODUCT_ID\": \"LC08_L2SR_160092_20180716_20201016_02_T1\", \"STATION_ID\": \"LGN\", \"REFLECTANCE_MULT_BAND_7\": 2.75e-05, \"system:time_start\": 1531724717464, \"REFLECTANCE_MULT_BAND_6\": 2.75e-05, \"L1_PROCESSING_LEVEL\": \"L1TP\", \"PROCESSING_SOFTWARE_VERSION\": \"LPGS_15.3.1c\", \"L1_DATE_PRODUCT_GENERATED\": \"2020-10-16T06:42:04Z\", \"ORIENTATION\": \"NORTH_UP\", \"REFLECTANCE_MULT_BAND_1\": 2.75e-05, \"WRS_ROW\": 92, \"REFLECTANCE_MULT_BAND_3\": 2.75e-05, \"REFLECTANCE_MULT_BAND_2\": 2.75e-05, \"TARGET_WRS_ROW\": 92, \"REFLECTANCE_MULT_BAND_5\": 2.75e-05, \"REFLECTANCE_MULT_BAND_4\": 2.75e-05, \"TIRS_SSM_POSITION_STATUS\": \"ESTIMATED\", \"IMAGE_QUALITY_TIRS\": 9, \"TRUNCATION_OLI\": \"UPPER\", \"NADIR_OFFNADIR\": \"NADIR\", \"CLOUD_COVER\": 44.1, \"REQUEST_ID\": \"L2\", \"EARTH_SUN_DISTANCE\": 1.016433, \"TIRS_SSM_MODEL\": \"FINAL\", \"COLLECTION_CATEGORY\": \"T1\", \"SCENE_CENTER_TIME\": \"07:05:17.4649320Z\", \"GRID_CELL_SIZE_REFLECTIVE\": 30, \"SUN_ELEVATION\": 14.66195302, \"CLOUD_COVER_LAND\": 1.45, \"GEOMETRIC_RMSE_MODEL\": 11.309, \"ROLL_ANGLE\": 0, \"COLLECTION_NUMBER\": 2, \"DATE_PRODUCT_GENERATED\": 1602830802000, \"L1_REQUEST_ID\": \"L2\", \"DATA_SOURCE_OZONE\": \"MODIS\", \"SATURATION_BAND_1\": \"N\", \"DATA_SOURCE_WATER_VAPOR\": \"MODIS\", \"SATURATION_BAND_2\": \"N\", \"SATURATION_BAND_3\": \"N\", \"IMAGE_QUALITY_OLI\": 9, \"SATURATION_BAND_4\": \"N\", \"LANDSAT_SCENE_ID\": \"LC81600922018197LGN00\", \"SATURATION_BAND_5\": \"N\", \"MAP_PROJECTION\": \"UTM\", \"SATURATION_BAND_6\": \"N\", \"SENSOR_ID\": \"OLI_TIRS\", \"SATURATION_BAND_7\": \"N\", \"SATURATION_BAND_8\": \"N\", \"WRS_PATH\": 160, \"SATURATION_BAND_9\": \"N\", \"TARGET_WRS_PATH\": 160, \"L1_PROCESSING_SOFTWARE_VERSION\": \"LPGS_15.3.1c\", \"L1_LANDSAT_PRODUCT_ID\": \"LC08_L1TP_160092_20180716_20201016_02_T1\", \"PROCESSING_LEVEL\": \"L2SR\", \"ALGORITHM_SOURCE_SURFACE_REFLECTANCE\": \"LaSRC_1.5.0\", \"GROUND_CONTROL_POINTS_MODEL\": 15, \"SPACECRAFT_ID\": \"LANDSAT_8\", \"GEOMETRIC_RMSE_MODEL_Y\": 9.449, \"REFLECTIVE_LINES\": 7871, \"GEOMETRIC_RMSE_MODEL_X\": 6.215, \"system:asset_size\": 722342444, \"DATA_SOURCE_AIR_TEMPERATURE\": \"MODIS\", \"system:index\": \"LC08_160092_20180716\"}}, {\"type\": \"Image\", \"bands\": [{\"id\": \"SR_B1\", \"data_type\": {\"type\": \"PixelType\", \"precision\": \"double\", \"min\": -0.2, \"max\": 1.6022125}, \"dimensions\": [7861, 7871], \"crs\": \"EPSG:32637\", \"crs_transform\": [30, 0, 306285, 0, -30, -4979985]}, {\"id\": \"SR_B2\", \"data_type\": {\"type\": \"PixelType\", \"precision\": \"double\", \"min\": -0.2, \"max\": 1.6022125}, \"dimensions\": [7861, 7871], \"crs\": \"EPSG:32637\", \"crs_transform\": [30, 0, 306285, 0, -30, -4979985]}, {\"id\": \"SR_B3\", \"data_type\": {\"type\": \"PixelType\", \"precision\": \"double\", \"min\": -0.2, \"max\": 1.6022125}, \"dimensions\": [7861, 7871], \"crs\": \"EPSG:32637\", \"crs_transform\": [30, 0, 306285, 0, -30, -4979985]}, {\"id\": \"SR_B4\", \"data_type\": {\"type\": \"PixelType\", \"precision\": \"double\", \"min\": -0.2, \"max\": 1.6022125}, \"dimensions\": [7861, 7871], \"crs\": \"EPSG:32637\", \"crs_transform\": [30, 0, 306285, 0, -30, -4979985]}, {\"id\": \"SR_B5\", \"data_type\": {\"type\": \"PixelType\", \"precision\": \"double\", \"min\": -0.2, \"max\": 1.6022125}, \"dimensions\": [7861, 7871], \"crs\": \"EPSG:32637\", \"crs_transform\": [30, 0, 306285, 0, -30, -4979985]}, {\"id\": \"SR_B6\", \"data_type\": {\"type\": \"PixelType\", \"precision\": \"double\", \"min\": -0.2, \"max\": 1.6022125}, \"dimensions\": [7861, 7871], \"crs\": \"EPSG:32637\", \"crs_transform\": [30, 0, 306285, 0, -30, -4979985]}, {\"id\": \"SR_B7\", \"data_type\": {\"type\": \"PixelType\", \"precision\": \"double\", \"min\": -0.2, \"max\": 1.6022125}, \"dimensions\": [7861, 7871], \"crs\": \"EPSG:32637\", \"crs_transform\": [30, 0, 306285, 0, -30, -4979985]}, {\"id\": \"SR_QA_AEROSOL\", \"data_type\": {\"type\": \"PixelType\", \"precision\": \"int\", \"min\": 0, \"max\": 255}, \"dimensions\": [7861, 7871], \"crs\": \"EPSG:32637\", \"crs_transform\": [30, 0, 306285, 0, -30, -4979985]}, {\"id\": \"ST_B10\", \"data_type\": {\"type\": \"PixelType\", \"precision\": \"double\", \"min\": 149, \"max\": 372.9999407}, \"crs\": \"EPSG:32637\", \"crs_transform\": [1, 0, 306285, 0, 1, -4979985]}, {\"id\": \"ST_ATRAN\", \"data_type\": {\"type\": \"PixelType\", \"precision\": \"int\", \"min\": -32768, \"max\": 32767}, \"crs\": \"EPSG:32637\", \"crs_transform\": [1, 0, 306285, 0, 1, -4979985]}, {\"id\": \"ST_CDIST\", \"data_type\": {\"type\": \"PixelType\", \"precision\": \"int\", \"min\": -32768, \"max\": 32767}, \"crs\": \"EPSG:32637\", \"crs_transform\": [1, 0, 306285, 0, 1, -4979985]}, {\"id\": \"ST_DRAD\", \"data_type\": {\"type\": \"PixelType\", \"precision\": \"int\", \"min\": -32768, \"max\": 32767}, \"crs\": \"EPSG:32637\", \"crs_transform\": [1, 0, 306285, 0, 1, -4979985]}, {\"id\": \"ST_EMIS\", \"data_type\": {\"type\": \"PixelType\", \"precision\": \"int\", \"min\": -32768, \"max\": 32767}, \"crs\": \"EPSG:32637\", \"crs_transform\": [1, 0, 306285, 0, 1, -4979985]}, {\"id\": \"ST_EMSD\", \"data_type\": {\"type\": \"PixelType\", \"precision\": \"int\", \"min\": -32768, \"max\": 32767}, \"crs\": \"EPSG:32637\", \"crs_transform\": [1, 0, 306285, 0, 1, -4979985]}, {\"id\": \"ST_QA\", \"data_type\": {\"type\": \"PixelType\", \"precision\": \"int\", \"min\": -32768, \"max\": 32767}, \"crs\": \"EPSG:32637\", \"crs_transform\": [1, 0, 306285, 0, 1, -4979985]}, {\"id\": \"ST_TRAD\", \"data_type\": {\"type\": \"PixelType\", \"precision\": \"int\", \"min\": -32768, \"max\": 32767}, \"crs\": \"EPSG:32637\", \"crs_transform\": [1, 0, 306285, 0, 1, -4979985]}, {\"id\": \"ST_URAD\", \"data_type\": {\"type\": \"PixelType\", \"precision\": \"int\", \"min\": -32768, \"max\": 32767}, \"crs\": \"EPSG:32637\", \"crs_transform\": [1, 0, 306285, 0, 1, -4979985]}, {\"id\": \"QA_PIXEL\", \"data_type\": {\"type\": \"PixelType\", \"precision\": \"int\", \"min\": 0, \"max\": 65535}, \"dimensions\": [7861, 7871], \"crs\": \"EPSG:32637\", \"crs_transform\": [30, 0, 306285, 0, -30, -4979985]}, {\"id\": \"QA_RADSAT\", \"data_type\": {\"type\": \"PixelType\", \"precision\": \"int\", \"min\": 0, \"max\": 65535}, \"dimensions\": [7861, 7871], \"crs\": \"EPSG:32637\", \"crs_transform\": [30, 0, 306285, 0, -30, -4979985]}, {\"id\": \"nbr\", \"data_type\": {\"type\": \"PixelType\", \"precision\": \"float\", \"min\": -1, \"max\": 1}, \"dimensions\": [7861, 7871], \"crs\": \"EPSG:32637\", \"crs_transform\": [30, 0, 306285, 0, -30, -4979985]}], \"id\": \"LANDSAT/LC08/C02/T1_L2/LC08_160092_20180801\", \"version\": 1630172298061773, \"properties\": {\"DATA_SOURCE_ELEVATION\": \"GLS2000\", \"WRS_TYPE\": 2, \"REFLECTANCE_ADD_BAND_1\": -0.2, \"REFLECTANCE_ADD_BAND_2\": -0.2, \"DATUM\": \"WGS84\", \"REFLECTANCE_ADD_BAND_3\": -0.2, \"REFLECTANCE_ADD_BAND_4\": -0.2, \"REFLECTANCE_ADD_BAND_5\": -0.2, \"REFLECTANCE_ADD_BAND_6\": -0.2, \"REFLECTANCE_ADD_BAND_7\": -0.2, \"system:footprint\": {\"type\": \"LinearRing\", \"coordinates\": [[37.11132558097831, -46.7732990917819], [38.58792135059213, -47.03697876812095], [38.90119128692381, -47.09015422556484], [39.496341034135575, -45.387080460887795], [39.14205360781202, -45.326451608878195], [37.154582207705225, -44.96339089715197], [37.14802044357676, -44.9803669219132], [37.099163829043995, -45.107429412910975], [37.04072823801363, -45.258701184501355], [36.98346516492271, -45.40638509231159], [36.93125957006972, -45.54039125223017], [36.88518484825894, -45.658204382961955], [36.83943080731871, -45.77480952145613], [36.77799037624706, -45.93064865055745], [36.73189235689097, -46.047065923256476], [36.68281764712998, -46.17054701047998], [36.62019374692908, -46.327475581142274], [36.57491835098435, -46.440384284352206], [36.488290164029614, -46.65529217265269], [36.48964897339956, -46.65579794801491], [37.11132558097831, -46.7732990917819]]}, \"REFLECTIVE_SAMPLES\": 7861, \"GROUND_CONTROL_POINTS_VERSION\": 5, \"SUN_AZIMUTH\": 37.12842729, \"DATA_SOURCE_TIRS_STRAY_LIGHT_CORRECTION\": \"TIRS\", \"UTM_ZONE\": 37, \"DATE_ACQUIRED\": \"2018-08-01\", \"ELLIPSOID\": \"WGS84\", \"system:time_end\": 1533107124832, \"DATA_SOURCE_PRESSURE\": \"Calculated\", \"LANDSAT_PRODUCT_ID\": \"LC08_L2SR_160092_20180801_20201016_02_T1\", \"STATION_ID\": \"LGN\", \"REFLECTANCE_MULT_BAND_7\": 2.75e-05, \"system:time_start\": 1533107124832, \"REFLECTANCE_MULT_BAND_6\": 2.75e-05, \"L1_PROCESSING_LEVEL\": \"L1TP\", \"PROCESSING_SOFTWARE_VERSION\": \"LPGS_15.3.1c\", \"L1_DATE_PRODUCT_GENERATED\": \"2020-10-16T06:53:17Z\", \"ORIENTATION\": \"NORTH_UP\", \"REFLECTANCE_MULT_BAND_1\": 2.75e-05, \"WRS_ROW\": 92, \"REFLECTANCE_MULT_BAND_3\": 2.75e-05, \"REFLECTANCE_MULT_BAND_2\": 2.75e-05, \"TARGET_WRS_ROW\": 92, \"REFLECTANCE_MULT_BAND_5\": 2.75e-05, \"REFLECTANCE_MULT_BAND_4\": 2.75e-05, \"TIRS_SSM_POSITION_STATUS\": \"ESTIMATED\", \"IMAGE_QUALITY_TIRS\": 9, \"TRUNCATION_OLI\": \"UPPER\", \"NADIR_OFFNADIR\": \"NADIR\", \"CLOUD_COVER\": 10.51, \"REQUEST_ID\": \"L2\", \"EARTH_SUN_DISTANCE\": 1.0149679, \"TIRS_SSM_MODEL\": \"FINAL\", \"COLLECTION_CATEGORY\": \"T1\", \"SCENE_CENTER_TIME\": \"07:05:24.8321750Z\", \"GRID_CELL_SIZE_REFLECTIVE\": 30, \"SUN_ELEVATION\": 17.66010747, \"CLOUD_COVER_LAND\": 24.93, \"GEOMETRIC_RMSE_MODEL\": 8.048, \"ROLL_ANGLE\": 0, \"COLLECTION_NUMBER\": 2, \"DATE_PRODUCT_GENERATED\": 1602831490000, \"L1_REQUEST_ID\": \"L2\", \"DATA_SOURCE_OZONE\": \"MODIS\", \"SATURATION_BAND_1\": \"N\", \"DATA_SOURCE_WATER_VAPOR\": \"MODIS\", \"SATURATION_BAND_2\": \"N\", \"SATURATION_BAND_3\": \"N\", \"IMAGE_QUALITY_OLI\": 9, \"SATURATION_BAND_4\": \"N\", \"LANDSAT_SCENE_ID\": \"LC81600922018213LGN00\", \"SATURATION_BAND_5\": \"N\", \"MAP_PROJECTION\": \"UTM\", \"SATURATION_BAND_6\": \"N\", \"SENSOR_ID\": \"OLI_TIRS\", \"SATURATION_BAND_7\": \"N\", \"SATURATION_BAND_8\": \"N\", \"WRS_PATH\": 160, \"SATURATION_BAND_9\": \"N\", \"TARGET_WRS_PATH\": 160, \"L1_PROCESSING_SOFTWARE_VERSION\": \"LPGS_15.3.1c\", \"L1_LANDSAT_PRODUCT_ID\": \"LC08_L1TP_160092_20180801_20201016_02_T1\", \"PROCESSING_LEVEL\": \"L2SR\", \"ALGORITHM_SOURCE_SURFACE_REFLECTANCE\": \"LaSRC_1.5.0\", \"GROUND_CONTROL_POINTS_MODEL\": 8, \"SPACECRAFT_ID\": \"LANDSAT_8\", \"GEOMETRIC_RMSE_MODEL_Y\": 7.767, \"REFLECTIVE_LINES\": 7871, \"GEOMETRIC_RMSE_MODEL_X\": 2.109, \"system:asset_size\": 625295632, \"DATA_SOURCE_AIR_TEMPERATURE\": \"MODIS\", \"system:index\": \"LC08_160092_20180801\"}}]}))\n",
       "            });\n",
       "        </script>\n",
       "    "
      ],
      "text/plain": [
       "<IPython.core.display.HTML object>"
      ]
     },
     "metadata": {},
     "output_type": "display_data"
    },
    {
     "data": {
      "text/html": [
       "<div id=\"ac0381ba-7bf3-4dd8-959c-869246a82628\" style=\"height: auto; width:100%;\"></div>"
      ],
      "text/plain": [
       "<IPython.core.display.HTML object>"
      ]
     },
     "metadata": {},
     "output_type": "display_data"
    },
    {
     "data": {
      "text/html": [
       " \n",
       "        <script src=\"/static/components/requirejs/require.js\"></script> <!-- Needed in Colab -->\n",
       "        <script>\n",
       "            require([\"https://rawgit.com/caldwell/renderjson/master/renderjson.js\"], function() {\n",
       "              renderjson.set_show_to_level(1)\n",
       "              document.getElementById('ac0381ba-7bf3-4dd8-959c-869246a82628').appendChild(renderjson(['SR_B1', 'SR_B2', 'SR_B3', 'SR_B4', 'SR_B5', 'SR_B6', 'SR_B7', 'SR_QA_AEROSOL', 'ST_B10', 'ST_ATRAN', 'ST_CDIST', 'ST_DRAD', 'ST_EMIS', 'ST_EMSD', 'ST_QA', 'ST_TRAD', 'ST_URAD', 'QA_PIXEL', 'QA_RADSAT', 'nbr']))\n",
       "            });\n",
       "        </script>\n",
       "    "
      ],
      "text/plain": [
       "<IPython.core.display.HTML object>"
      ]
     },
     "metadata": {},
     "output_type": "display_data"
    }
   ],
   "source": [
    "X = preProcessXCollection(collection = ee.ImageCollection('LANDSAT/LC08/C02/T1_L2'), region = sa_geo, startDate = startDate, endDate = endDate)\n",
    "eeprint(X.limit(2))\n",
    "eeprint(X.first().bandNames())"
   ]
  }
 ],
 "metadata": {
  "kernelspec": {
   "display_name": "erthy",
   "language": "python",
   "name": "python3"
  },
  "language_info": {
   "codemirror_mode": {
    "name": "ipython",
    "version": 3
   },
   "file_extension": ".py",
   "mimetype": "text/x-python",
   "name": "python",
   "nbconvert_exporter": "python",
   "pygments_lexer": "ipython3",
   "version": "3.9.13"
  }
 },
 "nbformat": 4,
 "nbformat_minor": 2
}
