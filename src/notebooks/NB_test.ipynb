{
 "cells": [
  {
   "cell_type": "code",
   "execution_count": 1,
   "metadata": {},
   "outputs": [],
   "source": [
    "import ee\n",
    "try:\n",
    "    ee.Initialize()\n",
    "except:\n",
    "    ee.Authenticate()\n",
    "    ee.Initialize()\n",
    "\n",
    "from geeml.utils import eeprint"
   ]
  },
  {
   "cell_type": "code",
   "execution_count": 9,
   "metadata": {},
   "outputs": [
    {
     "data": {
      "text/plain": [
       "'C:\\\\Users\\\\coach\\\\myfiles\\\\postdoc\\\\Fire\\\\code\\\\Burn_Area_Mapping\\\\src\\\\components'"
      ]
     },
     "execution_count": 9,
     "metadata": {},
     "output_type": "execute_result"
    }
   ],
   "source": [
    "import os\n",
    "os.chdir(r\"C:\\Users\\coach\\myfiles\\postdoc\\Fire\\code\\Burn_Area_Mapping\\src\\components\")\n",
    "os.getcwd()"
   ]
  },
  {
   "cell_type": "code",
   "execution_count": 15,
   "metadata": {},
   "outputs": [
    {
     "name": "stdout",
     "output_type": "stream",
     "text": [
      "The autoreload extension is already loaded. To reload it, use:\n",
      "  %reload_ext autoreload\n"
     ]
    }
   ],
   "source": [
    "from src.logger import logging\n",
    "from data_preprocessing import preProcessyCollection\n",
    "from data_preprocessing import preProcessXCollection\n",
    "%load_ext autoreload"
   ]
  },
  {
   "cell_type": "code",
   "execution_count": 11,
   "metadata": {},
   "outputs": [],
   "source": [
    "from exception import customException\n",
    "import sys"
   ]
  },
  {
   "cell_type": "code",
   "execution_count": 12,
   "metadata": {},
   "outputs": [],
   "source": [
    "%autoreload 2"
   ]
  },
  {
   "cell_type": "code",
   "execution_count": 13,
   "metadata": {},
   "outputs": [],
   "source": [
    "collection = ee.ImageCollection(\"COPERNICUS/S2_SR_HARMONIZED\")\n",
    "# Filter countries by geometry\n",
    "countries = ee.FeatureCollection(\"USDOS/LSIB_SIMPLE/2017\")\n",
    "geometry = ee.Geometry.Point([24.06353794842853, -29.732969740562062])\n",
    "sa = countries.filterBounds(geometry)\n",
    "sa_geo = sa.geometry()\n",
    "\n",
    "# Define start and end dates\n",
    "startDate = ee.Date.fromYMD(2018, 7, 4)\n",
    "endDate = ee.Date.fromYMD(2019, 8, 15)"
   ]
  },
  {
   "cell_type": "code",
   "execution_count": 7,
   "metadata": {},
   "outputs": [
    {
     "data": {
      "text/html": [
       "<div id=\"bdf3816c-36bb-4fb8-ac01-81753ae576b9\" style=\"height: auto; width:100%;\"></div>"
      ],
      "text/plain": [
       "<IPython.core.display.HTML object>"
      ]
     },
     "metadata": {},
     "output_type": "display_data"
    },
    {
     "data": {
      "text/html": [
       " \n",
       "        <script src=\"/static/components/requirejs/require.js\"></script> <!-- Needed in Colab -->\n",
       "        <script>\n",
       "            require([\"https://rawgit.com/caldwell/renderjson/master/renderjson.js\"], function() {\n",
       "              renderjson.set_show_to_level(1)\n",
       "              document.getElementById('bdf3816c-36bb-4fb8-ac01-81753ae576b9').appendChild(renderjson({\"type\": \"ImageCollection\", \"bands\": [], \"id\": \"LANDSAT/LC08/C02/T1_L2\", \"version\": 1706738839325192, \"properties\": {\"type_name\": \"ImageCollection\", \"keywords\": [\"cfmask\", \"cloud\", \"fmask\", \"global\", \"l8sr\", \"landsat\", \"lasrc\", \"lst\", \"reflectance\", \"sr\", \"usgs\"], \"visualization_1_bands\": \"SR_B5,SR_B4,SR_B3\", \"thumb\": \"https://mw1.google.com/ges/dd/images/LANDSAT_SR_thumb.png\", \"visualization_1_max\": \"30000.0\", \"description\": \"<p>This dataset contains atmospherically corrected\\\\nsurface reflectance and land surface temperature derived from the data\\\\nproduced by the Landsat 8 OLI/TIRS sensors.\\\\nThese images contain 5 visible and near-infrared (VNIR) bands and\\\\n2 short-wave infrared (SWIR) bands processed to orthorectified surface\\\\nreflectance, and one thermal infrared (TIR) band processed to orthorectified\\\\nsurface temperature. They also contain intermediate bands used in\\\\ncalculation of the ST products, as well as QA bands.</p><p>Landsat 8 SR products are created with the Land Surface Reflectance Code\\\\n(LaSRC). All Collection 2 ST products are created with a single-channel\\\\nalgorithm jointly created by the Rochester Institute of Technology (RIT) and\\\\nNational Aeronautics and Space Administration (NASA)\\\\nJet Propulsion Laboratory (JPL).</p><p>Strips of collected data are packaged into overlapping &quot;scenes&quot; covering approximately\\\\n170km x 183km using a <a href=\\\"https://landsat.gsfc.nasa.gov/about/worldwide-reference-system\\\">standardized reference grid</a>.</p><p>Some assets have only SR data, in which case ST bands are present but empty.\\\\nFor assets with both ST and SR bands, &#39;PROCESSING_LEVEL&#39; is set to &#39;L2SP&#39;.\\\\nFor assets with only SR bands, &#39;PROCESSING_LEVEL&#39; is set to &#39;L2SR&#39;.</p><p><a href=\\\"/earth-engine/guides/landsat\\\">Additional documentation and usage examples.</a></p><p>Data provider notes:</p><ul><li><p>Data products must contain both optical and thermal data to be\\\\nsuccessfully processed to surface temperature, as ASTER NDVI is\\\\nrequired to temporally adjust the ASTER GED product to the target Landsat\\\\nscene. Therefore, night time acquisitions cannot be processed to\\\\nsurface temperature.</p></li><li><p>A known error exists in the surface temperature retrievals relative\\\\nto clouds and possibly cloud shadows. The characterization of these\\\\nissues has been documented by\\\\n<a href=\\\"https://doi.org/10.3390/rs61111244\\\">Cook et al., (2014)</a>.</p></li></ul><p><b>Provider: <a href=\\\"https://www.usgs.gov/core-science-systems/nli/landsat/landsat-collection-2-level-2-science-products\\\">USGS</a></b><br><p><b>Resolution</b><br>30 meters\\\\n</p><p><b>Revisit Interval</b><br>\\\\n  16 days\\\\n</p><p><b>Bands</b><table class=\\\"eecat\\\"><tr><th scope=\\\"col\\\">Name</th><th scope=\\\"col\\\">Units</th><th scope=\\\"col\\\">Min</th><th scope=\\\"col\\\">Max</th><th scope=\\\"col\\\">Scale</th><th scope=\\\"col\\\">Offset</th><th scope=\\\"col\\\">Wavelength</th><th scope=\\\"col\\\">Description</th></tr><tr><td>SR_B1</td><td></td><td>\\\\n          1\\\\n</td><td>\\\\n          65455\\\\n</td><td>2.75e-05</td><td>-0.2</td><td>0.435-0.451 &mu;m</td><td><p>Band 1 (ultra blue, coastal aerosol) surface reflectance</p></td></tr><tr><td>SR_B2</td><td></td><td>\\\\n          1\\\\n</td><td>\\\\n          65455\\\\n</td><td>2.75e-05</td><td>-0.2</td><td>0.452-0.512 &mu;m</td><td><p>Band 2 (blue) surface reflectance</p></td></tr><tr><td>SR_B3</td><td></td><td>\\\\n          1\\\\n</td><td>\\\\n          65455\\\\n</td><td>2.75e-05</td><td>-0.2</td><td>0.533-0.590 &mu;m</td><td><p>Band 3 (green) surface reflectance</p></td></tr><tr><td>SR_B4</td><td></td><td>\\\\n          1\\\\n</td><td>\\\\n          65455\\\\n</td><td>2.75e-05</td><td>-0.2</td><td>0.636-0.673 &mu;m</td><td><p>Band 4 (red) surface reflectance</p></td></tr><tr><td>SR_B5</td><td></td><td>\\\\n          1\\\\n</td><td>\\\\n          65455\\\\n</td><td>2.75e-05</td><td>-0.2</td><td>0.851-0.879 &mu;m</td><td><p>Band 5 (near infrared) surface reflectance</p></td></tr><tr><td>SR_B6</td><td></td><td>\\\\n          1\\\\n</td><td>\\\\n          65455\\\\n</td><td>2.75e-05</td><td>-0.2</td><td>1.566-1.651 &mu;m</td><td><p>Band 6 (shortwave infrared 1) surface reflectance</p></td></tr><tr><td>SR_B7</td><td></td><td>\\\\n          1\\\\n</td><td>\\\\n          65455\\\\n</td><td>2.75e-05</td><td>-0.2</td><td>2.107-2.294 &mu;m</td><td><p>Band 7 (shortwave infrared 2) surface reflectance</p></td></tr><tr><td>SR_QA_AEROSOL</td><td></td><td></td><td></td><td></td><td></td><td></td><td><p>Aerosol attributes</p></td></tr><tr><td colspan=100>\\\\n      Bitmask for SR_QA_AEROSOL\\\\n<ul><li>\\\\n          Bit 0: Fill\\\\n<ul></ul></li><li>\\\\n          Bit 1: Aerosol retrieval - valid\\\\n<ul></ul></li><li>\\\\n          Bit 2: Water pixel\\\\n<ul></ul></li><li>\\\\n          Bit 3: Unused\\\\n<ul></ul></li><li>\\\\n          Bit 4: Unused\\\\n<ul></ul></li><li>\\\\n          Bit 5: Interpolated Aerosol\\\\n<ul></ul></li><li>\\\\n          Bits 6-7: Aerosol Level\\\\n<ul><li>0: Climatology</li><li>1: Low</li><li>2: Medium</li><li>3: High</li></ul></li></ul></td></tr><tr><td>ST_B10</td><td>Kelvin</td><td>\\\\n          0\\\\n</td><td>\\\\n          65535\\\\n</td><td>0.00341802</td><td>149</td><td>10.60-11.19 &mu;m</td><td><p>Band 10 surface temperature.\\\\nIf &#39;PROCESSING_LEVEL&#39; is set to &#39;L2SR&#39;, this band is fully masked out.</p></td></tr><tr><td>ST_ATRAN</td><td></td><td>\\\\n          0\\\\n</td><td>\\\\n          10000\\\\n</td><td>0.0001</td><td></td><td></td><td><p>Atmospheric Transmittance.\\\\nIf &#39;PROCESSING_LEVEL&#39; is set to &#39;L2SR&#39;, this band is fully masked out.</p></td></tr><tr><td>ST_CDIST</td><td>km</td><td>\\\\n          0\\\\n</td><td>\\\\n          24000\\\\n</td><td>0.01</td><td></td><td></td><td><p>Pixel distance to cloud.\\\\nIf &#39;PROCESSING_LEVEL&#39; is set to &#39;L2SR&#39;, this band is fully masked out.</p></td></tr><tr><td>ST_DRAD</td><td>W/(m^2*sr*um)/ DN</td><td>\\\\n          0\\\\n</td><td>\\\\n          28000\\\\n</td><td>0.001</td><td></td><td></td><td><p>Downwelled Radiance.\\\\nIf &#39;PROCESSING_LEVEL&#39; is set to &#39;L2SR&#39;, this band is fully masked out.</p></td></tr><tr><td>ST_EMIS</td><td></td><td>\\\\n          0\\\\n</td><td>\\\\n          10000\\\\n</td><td>0.0001</td><td></td><td></td><td><p>Emissivity of Band 10 estimated from ASTER GED.\\\\nIf &#39;PROCESSING_LEVEL&#39; is set to &#39;L2SR&#39;, this band is fully masked out.</p></td></tr><tr><td>ST_EMSD</td><td></td><td>\\\\n          0\\\\n</td><td>\\\\n          10000\\\\n</td><td>0.0001</td><td></td><td></td><td><p>Emissivity standard deviation.\\\\nIf &#39;PROCESSING_LEVEL&#39; is set to &#39;L2SR&#39;, this band is fully masked out.</p></td></tr><tr><td>ST_QA</td><td>K</td><td>\\\\n          0\\\\n</td><td>\\\\n          32767\\\\n</td><td>0.01</td><td></td><td></td><td><p>Uncertainty of the Surface Temperature band.\\\\nIf &#39;PROCESSING_LEVEL&#39; is set to &#39;L2SR&#39;, this band is fully masked out.</p></td></tr><tr><td>ST_TRAD</td><td>W/(m^2*sr*um)/ DN</td><td>\\\\n          0\\\\n</td><td>\\\\n          22000\\\\n</td><td>0.001</td><td></td><td></td><td><p>Thermal band converted to radiance.\\\\nIf &#39;PROCESSING_LEVEL&#39; is set to &#39;L2SR&#39;, this band is fully masked out.</p></td></tr><tr><td>ST_URAD</td><td>W/(m^2*sr*um)/ DN</td><td>\\\\n          0\\\\n</td><td>\\\\n          28000\\\\n</td><td>0.001</td><td></td><td></td><td><p>Upwelled Radiance. If &#39;PROCESSING_LEVEL&#39; is set to &#39;L2SR&#39;, this band is fully masked out.</p></td></tr><tr><td>QA_PIXEL</td><td></td><td></td><td></td><td></td><td></td><td></td><td><p>Pixel quality attributes generated from the CFMASK algorithm.</p></td></tr><tr><td colspan=100>\\\\n      Bitmask for QA_PIXEL\\\\n<ul><li>\\\\n          Bit 0: Fill\\\\n<ul></ul></li><li>\\\\n          Bit 1: Dilated Cloud\\\\n<ul></ul></li><li>\\\\n          Bit 2: Cirrus (high confidence)\\\\n<ul></ul></li><li>\\\\n          Bit 3: Cloud\\\\n<ul></ul></li><li>\\\\n          Bit 4: Cloud Shadow\\\\n<ul></ul></li><li>\\\\n          Bit 5: Snow\\\\n<ul></ul></li><li>\\\\n          Bit 6: Clear\\\\n<ul><li>0: Cloud or Dilated Cloud bits are set</li><li>1: Cloud and Dilated Cloud bits are not set</li></ul></li><li>\\\\n          Bit 7: Water\\\\n<ul></ul></li><li>\\\\n          Bits 8-9: Cloud Confidence\\\\n<ul><li>0: None</li><li>1: Low</li><li>2: Medium</li><li>3: High</li></ul></li><li>\\\\n          Bits 10-11: Cloud Shadow Confidence\\\\n<ul><li>0: None</li><li>1: Low</li><li>2: Medium</li><li>3: High</li></ul></li><li>\\\\n          Bits 12-13: Snow/Ice Confidence\\\\n<ul><li>0: None</li><li>1: Low</li><li>2: Medium</li><li>3: High</li></ul></li><li>\\\\n          Bits 14-15: Cirrus Confidence\\\\n<ul><li>0: None</li><li>1: Low</li><li>2: Medium</li><li>3: High</li></ul></li></ul></td></tr><tr><td>QA_RADSAT</td><td></td><td></td><td></td><td></td><td></td><td></td><td><p>Radiometric saturation QA</p></td></tr><tr><td colspan=100>\\\\n      Bitmask for QA_RADSAT\\\\n<ul><li>\\\\n          Bit 0: Band 1 data saturated\\\\n<ul></ul></li><li>\\\\n          Bit 1: Band 2 data saturated\\\\n<ul></ul></li><li>\\\\n          Bit 2: Band 3 data saturated\\\\n<ul></ul></li><li>\\\\n          Bit 3: Band 4 data saturated\\\\n<ul></ul></li><li>\\\\n          Bit 4: Band 5 data saturated\\\\n<ul></ul></li><li>\\\\n          Bit 5: Band 6 data saturated\\\\n<ul></ul></li><li>\\\\n          Bit 6: Band 7 data saturated\\\\n<ul></ul></li><li>\\\\n          Bit 7: Unused\\\\n<ul></ul></li><li>\\\\n          Bit 8: Band 9 data saturated\\\\n<ul></ul></li><li>\\\\n          Bit 9: Unused\\\\n<ul></ul></li><li>\\\\n          Bit 10: Unused\\\\n<ul></ul></li><li>\\\\n          Bit 11: Terrain occlusion\\\\n<ul></ul></li></ul></td></tr></table><p><b>Image Properties</b><table class=\\\"eecat\\\"><tr><th scope=\\\"col\\\">Name</th><th scope=\\\"col\\\">Type</th><th scope=\\\"col\\\">Description</th></tr><tr><td>ALGORITHM_SOURCE_SURFACE_REFLECTANCE</td><td>STRING</td><td><p>Name and version of the surface reflectance algorithm.</p></td></tr><tr><td>ALGORITHM_SOURCE_SURFACE_TEMPERATURE</td><td>STRING</td><td><p>Name and version of the surface temperature algorithm.</p></td></tr><tr><td>CLOUD_COVER</td><td>DOUBLE</td><td><p>Percentage cloud cover (0-100), -1 = not calculated.</p></td></tr><tr><td>CLOUD_COVER_LAND</td><td>DOUBLE</td><td><p>Percentage cloud cover over land (0-100), -1 = not calculated.</p></td></tr><tr><td>COLLECTION_CATEGORY</td><td>STRING</td><td><p>Scene collection category, &quot;T1&quot; or &quot;T2&quot;.</p></td></tr><tr><td>DATA_SOURCE_AIR_TEMPERATURE</td><td>STRING</td><td><p>Air temperature data source.</p></td></tr><tr><td>DATA_SOURCE_ELEVATION</td><td>STRING</td><td><p>Elevation data source.</p></td></tr><tr><td>DATA_SOURCE_OZONE</td><td>STRING</td><td><p>Ozone data source.</p></td></tr><tr><td>DATA_SOURCE_PRESSURE</td><td>STRING</td><td><p>Pressure data source.</p></td></tr><tr><td>DATA_SOURCE_REANALYSIS</td><td>STRING</td><td><p>Reanalysis data source.</p></td></tr><tr><td>DATA_SOURCE_TIRS_STRAY_LIGHT_CORRECTION</td><td>STRING</td><td><p>TIRS stray light correction data source.</p></td></tr><tr><td>DATA_SOURCE_WATER_VAPOR</td><td>STRING</td><td><p>Water vapor data source.</p></td></tr><tr><td>DATE_PRODUCT_GENERATED</td><td>DOUBLE</td><td><p>Timestamp of the date when the product was generated.</p></td></tr><tr><td>EARTH_SUN_DISTANCE</td><td>DOUBLE</td><td><p>Earth-Sun distance (AU).</p></td></tr><tr><td>EPHEMERIS_TYPE</td><td>STRING</td><td><p>Identifier to inform the user of the orbital ephemeris type used:\\\\n&quot;DEFINITIVE&quot; or &quot;PREDICTIVE&quot;. If the field is not present, the user should\\\\nassume &quot;PREDICTIVE&quot;.</p></td></tr><tr><td>GEOMETRIC_RMSE_MODEL</td><td>DOUBLE</td><td><p>Combined RMSE (Root Mean Square Error) of the geometric\\\\nresiduals (meters) in both across-track and along-track\\\\ndirections.</p></td></tr><tr><td>GEOMETRIC_RMSE_MODEL_X</td><td>DOUBLE</td><td><p>RMSE (Root Mean Square Error) of the geometric residuals (meters)\\\\nmeasured on the GCPs (Ground Control Points) used in geometric\\\\nprecision correction in the across-track direction.</p></td></tr><tr><td>GEOMETRIC_RMSE_MODEL_Y</td><td>DOUBLE</td><td><p>RMSE (Root Mean Square Error) of the geometric residuals (meters)\\\\nmeasured on the GCPs (Ground Control Points) used in geometric\\\\nprecision correction in the along-track direction.</p></td></tr><tr><td>GEOMETRIC_RMSE_VERIFY</td><td>DOUBLE</td><td><p>RMSE of the geometric residuals (meters) measured on the\\\\nterrain-corrected product independently using GLS2000.</p></td></tr><tr><td>GROUND_CONTROL_POINTS_MODEL</td><td>DOUBLE</td><td><p>Number of GCPs used in the precision correction process.\\\\nThis parameter is only present if the PROCESSING_LEVEL is L1TP.</p></td></tr><tr><td>GROUND_CONTROL_POINTS_VERIFY</td><td>DOUBLE</td><td><p>Number of GCPs (Ground Control Points) used in the verification\\\\nof the terrain corrected product.</p></td></tr><tr><td>GROUND_CONTROL_POINTS_VERSION</td><td>DOUBLE</td><td><p>GCP dataset version used in the precision correction process. This\\\\nparameter is only present if the PROCESSING_LEVEL is L1TP.</p></td></tr><tr><td>IMAGE_QUALITY_OLI</td><td>INT</td><td><p>Image quality of the OLI bands.\\\\n1 = worst, 9 = best, 0 = quality not calculated.\\\\nFor Landsat 8, this parameter is adjusted downward for\\\\nscenes collected using the lower 12 bits from the OLI sensor\\\\n(TRUNCATION_OLI = &quot;LOWER&quot;).</p></td></tr><tr><td>IMAGE_QUALITY_TIRS</td><td>INT</td><td><p>Image quality of the TIRS bands.\\\\n1 = worst, 9 = best, 0 = quality not calculated.\\\\nIt is also adjusted downward for scenes processed with\\\\n&quot;SWITCHED&quot; for the TIRS_SSM_POSITION_STATUS value.</p></td></tr><tr><td>L1_DATE_PRODUCT_GENERATED</td><td>STRING</td><td><p>Product generation date for the corresponding L1 product.</p></td></tr><tr><td>L1_LANDSAT_PRODUCT_ID</td><td>STRING</td><td><p>Landsat Product Identifier for the corresponding L1 product.</p></td></tr><tr><td>L1_PROCESSING_LEVEL</td><td>STRING</td><td><p>Processing Level for the corresponding L1 product.</p></td></tr><tr><td>L1_PROCESSING_SOFTWARE_VERSION</td><td>STRING</td><td><p>Processing software version for the corresponding L1 product.</p></td></tr><tr><td>LANDSAT_PRODUCT_ID</td><td>STRING</td><td><p>Landsat Product Identifier</p></td></tr><tr><td>LANDSAT_SCENE_ID</td><td>STRING</td><td><p>Short Landsat Scene Identifier</p></td></tr><tr><td>PROCESSING_LEVEL</td><td>STRING</td><td><p>&quot;L2SP&quot; when both SR and LST bands are present, or &quot;L2SR&quot; when only\\\\nSR bands are present.</p></td></tr><tr><td>PROCESSING_SOFTWARE_VERSION</td><td>STRING</td><td><p>The processing software version that created the product.</p></td></tr><tr><td>ROLL_ANGLE</td><td>DOUBLE</td><td><p>The amount of spacecraft roll angle at the scene center. The roll value is\\\\ngiven in the Yaw Steering Frame (YSF) reference, whose x-axis is\\\\naligned with the instantaneous ground track velocity vector. Rolls about\\\\nthis x-axis go by the right-hand rule: a positive roll results in the\\\\ninstruments pointing to the left of the ground track, while a negative\\\\nroll results in the instrument pointing to the right.</p></td></tr><tr><td>SCENE_CENTER_TIME</td><td>STRING</td><td><p>Time of the observations as in ISO 8601 string.</p></td></tr><tr><td>SENSOR_ID</td><td>STRING</td><td><p>Name of the sensor.</p></td></tr><tr><td>SPACECRAFT_ID</td><td>STRING</td><td><p>Name of the spacecraft.</p></td></tr><tr><td>SUN_AZIMUTH</td><td>DOUBLE</td><td><p>Sun azimuth angle in degrees for the image center location at the\\\\nimage center acquisition time. A positive value indicates angles to the\\\\neast or clockwise from the north. A negative value indicates angles to\\\\nthe west or counterclockwise from the north.</p></td></tr><tr><td>SUN_ELEVATION</td><td>DOUBLE</td><td><p>Sun elevation angle in degrees for the image center location at the\\\\nimage center acquisition time. A positive value indicates a daytime\\\\nscene. A negative value indicates a nighttime scene.\\\\nNote: For reflectance calculation, the sun zenith angle is needed,\\\\nwhich is 90 - sun elevation angle.</p></td></tr><tr><td>TARGET_WRS_PATH</td><td>INT</td><td><p>Nearest WRS-2 path to the Line-ofSight (LOS) scene center of the image.</p></td></tr><tr><td>TARGET_WRS_ROW</td><td>INT</td><td><p>Nearest WRS-2 row to the LOS scene center of the image. Rows 880-889\\\\nare reserved for the north pole and 990-999 are reserved for the south\\\\npole, where WRS-2 is not defined.</p></td></tr><tr><td>TEMPERATURE_MAXIMUM_BAND_ST_B10</td><td>DOUBLE</td><td><p>Maximum achievable temperature value for Band 10.</p></td></tr><tr><td>TEMPERATURE_MINIMUM_BAND_ST_B10</td><td>DOUBLE</td><td><p>Minimum achievable temperature value for Band 10.</p></td></tr><tr><td>TIRS_SSM_MODEL</td><td>STRING</td><td><p>Indicates how the Landsat 8 TIRS Scene Select Mirror (SSM) position\\\\nwas determined.</p><ul><li><p>&quot;FINAL&quot; indicates final estimated encoder values generated after\\\\nthe switch event.</p></li><li><p>&quot;ACTUAL&quot; indicates actual encoder values.</p></li></ul></td></tr><tr><td>TIRS_SSM_POSITION_STATUS</td><td>STRING</td><td><ul><li><p>&quot;NOMINAL&quot; indicates the SSM was functioning normally for this scene.</p></li><li><p>&quot;SWITCHED&quot; indicates the SSM switched operating modes in the scene and\\\\nmay have TIRS image quality issues, which directly impact the\\\\nIMAGE_QUALITY_TIRS value.</p></li><li><p>&quot;ESTIMATED&quot; indicates the SSM position was estimated, which may not be\\\\nas accurate as the &quot;NOMINAL&quot; status.</p></li></ul></td></tr><tr><td>TRUNCATION_OLI</td><td>STRING</td><td><ul><li><p>&quot;LOWER&quot; indicates that the lower 12 bits were used.</p></li><li><p>&quot;UPPER&quot; indicates the upper 12 bits were used.</p></li></ul><p>The normal truncation mode is &quot;UPPER&quot;.</p></td></tr><tr><td>WRS_PATH</td><td>INT</td><td><p>WRS path number of scene.</p></td></tr><tr><td>WRS_ROW</td><td>INT</td><td><p>WRS row number of scene.</p></td></tr></table><p><b>Terms of Use</b><br><p>Landsat datasets are federally created data\\\\nand therefore reside in the public domain and may be used, transferred, or reproduced without copyright restriction.</p><p>Acknowledgement or credit of the USGS as data source should be provided\\\\nby including a line of text citation such as the example shown below.</p><p>(Product, Image, Photograph, or Dataset Name) courtesy of\\\\nthe U.S. Geological Survey</p><p>Example: Landsat-7 image courtesy of the U.S. Geological Survey</p><p>See the\\\\n<a href=\\\"https://www.usgs.gov/information-policies-and-instructions/usgs-visual-identity-system\\\">USGS Visual Identity System Guidance</a>\\\\nfor further details on proper citation and acknowledgement of USGS products.</p><style>\\\\n  table.eecat {\\\\n  border: 1px solid black;\\\\n  border-collapse: collapse;\\\\n  font-size: 13px;\\\\n  }\\\\n  table.eecat td, tr, th {\\\\n  text-align: left; vertical-align: top;\\\\n  border: 1px solid gray; padding: 3px;\\\\n  }\\\\n  td.nobreak { white-space: nowrap; }\\\\n</style>\", \"source_tags\": [\"landsat\", \"usgs\"], \"visualization_1_name\": \"Near Infrared (543)\", \"visualization_0_max\": \"30000.0\", \"title\": \"USGS Landsat 8 Level 2, Collection 2, Tier 1\", \"product_tags\": [\"global\", \"sr\", \"reflectance\", \"l8sr\", \"lst\", \"cloud\", \"lasrc\", \"fmask\", \"cfmask\", \"lc08\"], \"provider\": \"USGS\", \"visualization_1_min\": \"0.0\", \"visualization_0_min\": \"0.0\", \"visualization_0_name\": \"True Color (432)\", \"date_range\": [1365638400000, 1654560000000], \"visualization_2_bands\": \"SR_B7,SR_B5,SR_B3\", \"visualization_2_name\": \"Shortwave Infrared (753)\", \"period\": 0, \"visualization_2_min\": \"0.0\", \"provider_url\": \"https://www.usgs.gov/core-science-systems/nli/landsat/landsat-collection-2-level-2-science-products\", \"sample\": \"https://mw1.google.com/ges/dd/images/LANDSAT_SR_sample.png\", \"tags\": [\"cfmask\", \"cloud\", \"fmask\", \"global\", \"l8sr\", \"landsat\", \"lasrc\", \"lst\", \"reflectance\", \"sr\", \"usgs\"], \"visualization_2_max\": \"30000.0\", \"visualization_0_bands\": \"SR_B4,SR_B3,SR_B2\"}, \"features\": [{\"type\": \"Image\", \"bands\": [{\"id\": \"SR_B1\", \"data_type\": {\"type\": \"PixelType\", \"precision\": \"double\", \"min\": -0.2, \"max\": 1.6022125}, \"dimensions\": [7871, 7871], \"crs\": \"EPSG:32637\", \"crs_transform\": [30, 0, 305685, 0, -30, -4979985]}, {\"id\": \"SR_B2\", \"data_type\": {\"type\": \"PixelType\", \"precision\": \"double\", \"min\": -0.2, \"max\": 1.6022125}, \"dimensions\": [7871, 7871], \"crs\": \"EPSG:32637\", \"crs_transform\": [30, 0, 305685, 0, -30, -4979985]}, {\"id\": \"SR_B3\", \"data_type\": {\"type\": \"PixelType\", \"precision\": \"double\", \"min\": -0.2, \"max\": 1.6022125}, \"dimensions\": [7871, 7871], \"crs\": \"EPSG:32637\", \"crs_transform\": [30, 0, 305685, 0, -30, -4979985]}, {\"id\": \"SR_B4\", \"data_type\": {\"type\": \"PixelType\", \"precision\": \"double\", \"min\": -0.2, \"max\": 1.6022125}, \"dimensions\": [7871, 7871], \"crs\": \"EPSG:32637\", \"crs_transform\": [30, 0, 305685, 0, -30, -4979985]}, {\"id\": \"SR_B5\", \"data_type\": {\"type\": \"PixelType\", \"precision\": \"double\", \"min\": -0.2, \"max\": 1.6022125}, \"dimensions\": [7871, 7871], \"crs\": \"EPSG:32637\", \"crs_transform\": [30, 0, 305685, 0, -30, -4979985]}, {\"id\": \"SR_B6\", \"data_type\": {\"type\": \"PixelType\", \"precision\": \"double\", \"min\": -0.2, \"max\": 1.6022125}, \"dimensions\": [7871, 7871], \"crs\": \"EPSG:32637\", \"crs_transform\": [30, 0, 305685, 0, -30, -4979985]}, {\"id\": \"SR_B7\", \"data_type\": {\"type\": \"PixelType\", \"precision\": \"double\", \"min\": -0.2, \"max\": 1.6022125}, \"dimensions\": [7871, 7871], \"crs\": \"EPSG:32637\", \"crs_transform\": [30, 0, 305685, 0, -30, -4979985]}, {\"id\": \"SR_QA_AEROSOL\", \"data_type\": {\"type\": \"PixelType\", \"precision\": \"int\", \"min\": 0, \"max\": 255}, \"dimensions\": [7871, 7871], \"crs\": \"EPSG:32637\", \"crs_transform\": [30, 0, 305685, 0, -30, -4979985]}, {\"id\": \"ST_B10\", \"data_type\": {\"type\": \"PixelType\", \"precision\": \"double\", \"min\": 149, \"max\": 372.9999407}, \"crs\": \"EPSG:32637\", \"crs_transform\": [1, 0, 305685, 0, 1, -4979985]}, {\"id\": \"ST_ATRAN\", \"data_type\": {\"type\": \"PixelType\", \"precision\": \"int\", \"min\": -32768, \"max\": 32767}, \"crs\": \"EPSG:32637\", \"crs_transform\": [1, 0, 305685, 0, 1, -4979985]}, {\"id\": \"ST_CDIST\", \"data_type\": {\"type\": \"PixelType\", \"precision\": \"int\", \"min\": -32768, \"max\": 32767}, \"crs\": \"EPSG:32637\", \"crs_transform\": [1, 0, 305685, 0, 1, -4979985]}, {\"id\": \"ST_DRAD\", \"data_type\": {\"type\": \"PixelType\", \"precision\": \"int\", \"min\": -32768, \"max\": 32767}, \"crs\": \"EPSG:32637\", \"crs_transform\": [1, 0, 305685, 0, 1, -4979985]}, {\"id\": \"ST_EMIS\", \"data_type\": {\"type\": \"PixelType\", \"precision\": \"int\", \"min\": -32768, \"max\": 32767}, \"crs\": \"EPSG:32637\", \"crs_transform\": [1, 0, 305685, 0, 1, -4979985]}, {\"id\": \"ST_EMSD\", \"data_type\": {\"type\": \"PixelType\", \"precision\": \"int\", \"min\": -32768, \"max\": 32767}, \"crs\": \"EPSG:32637\", \"crs_transform\": [1, 0, 305685, 0, 1, -4979985]}, {\"id\": \"ST_QA\", \"data_type\": {\"type\": \"PixelType\", \"precision\": \"int\", \"min\": -32768, \"max\": 32767}, \"crs\": \"EPSG:32637\", \"crs_transform\": [1, 0, 305685, 0, 1, -4979985]}, {\"id\": \"ST_TRAD\", \"data_type\": {\"type\": \"PixelType\", \"precision\": \"int\", \"min\": -32768, \"max\": 32767}, \"crs\": \"EPSG:32637\", \"crs_transform\": [1, 0, 305685, 0, 1, -4979985]}, {\"id\": \"ST_URAD\", \"data_type\": {\"type\": \"PixelType\", \"precision\": \"int\", \"min\": -32768, \"max\": 32767}, \"crs\": \"EPSG:32637\", \"crs_transform\": [1, 0, 305685, 0, 1, -4979985]}, {\"id\": \"QA_PIXEL\", \"data_type\": {\"type\": \"PixelType\", \"precision\": \"int\", \"min\": 0, \"max\": 65535}, \"dimensions\": [7871, 7871], \"crs\": \"EPSG:32637\", \"crs_transform\": [30, 0, 305685, 0, -30, -4979985]}, {\"id\": \"QA_RADSAT\", \"data_type\": {\"type\": \"PixelType\", \"precision\": \"int\", \"min\": 0, \"max\": 65535}, \"dimensions\": [7871, 7871], \"crs\": \"EPSG:32637\", \"crs_transform\": [30, 0, 305685, 0, -30, -4979985]}, {\"id\": \"nbr\", \"data_type\": {\"type\": \"PixelType\", \"precision\": \"float\", \"min\": -1, \"max\": 1}, \"dimensions\": [7871, 7871], \"crs\": \"EPSG:32637\", \"crs_transform\": [30, 0, 305685, 0, -30, -4979985]}], \"id\": \"LANDSAT/LC08/C02/T1_L2/LC08_160092_20180716\", \"version\": 1630127032859057, \"properties\": {\"DATA_SOURCE_ELEVATION\": \"GLS2000\", \"WRS_TYPE\": 2, \"REFLECTANCE_ADD_BAND_1\": -0.2, \"REFLECTANCE_ADD_BAND_2\": -0.2, \"DATUM\": \"WGS84\", \"REFLECTANCE_ADD_BAND_3\": -0.2, \"REFLECTANCE_ADD_BAND_4\": -0.2, \"REFLECTANCE_ADD_BAND_5\": -0.2, \"REFLECTANCE_ADD_BAND_6\": -0.2, \"REFLECTANCE_ADD_BAND_7\": -0.2, \"system:footprint\": {\"type\": \"LinearRing\", \"coordinates\": [[37.149791527091736, -44.963660429872085], [37.144295745315574, -44.97787589410496], [37.126491534665206, -45.02422959407723], [37.0654836560798, -45.18261935147786], [37.014692787189816, -45.31387451679183], [36.953091251812765, -45.472337170471675], [36.9022511822374, -45.60258646985124], [36.839463371611565, -45.762716664933485], [36.79867780960211, -45.86625333401222], [36.76218542434964, -45.958642684079756], [36.66984885294268, -46.19121303963584], [36.63645221300616, -46.274911248861166], [36.59631078340931, -46.37520458228852], [36.54978503723996, -46.49111163593163], [36.48337850089664, -46.65572912891998], [36.98523543591358, -46.75089924441088], [38.527254545083366, -47.02764045185208], [38.89642110830818, -47.09040858944325], [39.49158108003042, -45.387433660820804], [39.464662073959474, -45.38281091779184], [38.8489485806149, -45.27648198039797], [37.17187528105219, -44.96788520825806], [37.149791527091736, -44.963660429872085]]}, \"REFLECTIVE_SAMPLES\": 7871, \"GROUND_CONTROL_POINTS_VERSION\": 5, \"SUN_AZIMUTH\": 35.57339295, \"DATA_SOURCE_TIRS_STRAY_LIGHT_CORRECTION\": \"TIRS\", \"UTM_ZONE\": 37, \"DATE_ACQUIRED\": \"2018-07-16\", \"ELLIPSOID\": \"WGS84\", \"system:time_end\": 1531724717464, \"DATA_SOURCE_PRESSURE\": \"Calculated\", \"LANDSAT_PRODUCT_ID\": \"LC08_L2SR_160092_20180716_20201016_02_T1\", \"STATION_ID\": \"LGN\", \"REFLECTANCE_MULT_BAND_7\": 2.75e-05, \"system:time_start\": 1531724717464, \"REFLECTANCE_MULT_BAND_6\": 2.75e-05, \"L1_PROCESSING_LEVEL\": \"L1TP\", \"PROCESSING_SOFTWARE_VERSION\": \"LPGS_15.3.1c\", \"L1_DATE_PRODUCT_GENERATED\": \"2020-10-16T06:42:04Z\", \"ORIENTATION\": \"NORTH_UP\", \"REFLECTANCE_MULT_BAND_1\": 2.75e-05, \"WRS_ROW\": 92, \"REFLECTANCE_MULT_BAND_3\": 2.75e-05, \"REFLECTANCE_MULT_BAND_2\": 2.75e-05, \"TARGET_WRS_ROW\": 92, \"REFLECTANCE_MULT_BAND_5\": 2.75e-05, \"REFLECTANCE_MULT_BAND_4\": 2.75e-05, \"TIRS_SSM_POSITION_STATUS\": \"ESTIMATED\", \"IMAGE_QUALITY_TIRS\": 9, \"TRUNCATION_OLI\": \"UPPER\", \"NADIR_OFFNADIR\": \"NADIR\", \"CLOUD_COVER\": 44.1, \"REQUEST_ID\": \"L2\", \"EARTH_SUN_DISTANCE\": 1.016433, \"TIRS_SSM_MODEL\": \"FINAL\", \"COLLECTION_CATEGORY\": \"T1\", \"SCENE_CENTER_TIME\": \"07:05:17.4649320Z\", \"GRID_CELL_SIZE_REFLECTIVE\": 30, \"SUN_ELEVATION\": 14.66195302, \"CLOUD_COVER_LAND\": 1.45, \"GEOMETRIC_RMSE_MODEL\": 11.309, \"ROLL_ANGLE\": 0, \"COLLECTION_NUMBER\": 2, \"DATE_PRODUCT_GENERATED\": 1602830802000, \"L1_REQUEST_ID\": \"L2\", \"DATA_SOURCE_OZONE\": \"MODIS\", \"SATURATION_BAND_1\": \"N\", \"DATA_SOURCE_WATER_VAPOR\": \"MODIS\", \"SATURATION_BAND_2\": \"N\", \"SATURATION_BAND_3\": \"N\", \"IMAGE_QUALITY_OLI\": 9, \"SATURATION_BAND_4\": \"N\", \"LANDSAT_SCENE_ID\": \"LC81600922018197LGN00\", \"SATURATION_BAND_5\": \"N\", \"MAP_PROJECTION\": \"UTM\", \"SATURATION_BAND_6\": \"N\", \"SENSOR_ID\": \"OLI_TIRS\", \"SATURATION_BAND_7\": \"N\", \"SATURATION_BAND_8\": \"N\", \"WRS_PATH\": 160, \"SATURATION_BAND_9\": \"N\", \"TARGET_WRS_PATH\": 160, \"L1_PROCESSING_SOFTWARE_VERSION\": \"LPGS_15.3.1c\", \"L1_LANDSAT_PRODUCT_ID\": \"LC08_L1TP_160092_20180716_20201016_02_T1\", \"PROCESSING_LEVEL\": \"L2SR\", \"ALGORITHM_SOURCE_SURFACE_REFLECTANCE\": \"LaSRC_1.5.0\", \"GROUND_CONTROL_POINTS_MODEL\": 15, \"SPACECRAFT_ID\": \"LANDSAT_8\", \"GEOMETRIC_RMSE_MODEL_Y\": 9.449, \"REFLECTIVE_LINES\": 7871, \"GEOMETRIC_RMSE_MODEL_X\": 6.215, \"system:asset_size\": 722342444, \"DATA_SOURCE_AIR_TEMPERATURE\": \"MODIS\", \"system:index\": \"LC08_160092_20180716\"}}, {\"type\": \"Image\", \"bands\": [{\"id\": \"SR_B1\", \"data_type\": {\"type\": \"PixelType\", \"precision\": \"double\", \"min\": -0.2, \"max\": 1.6022125}, \"dimensions\": [7861, 7871], \"crs\": \"EPSG:32637\", \"crs_transform\": [30, 0, 306285, 0, -30, -4979985]}, {\"id\": \"SR_B2\", \"data_type\": {\"type\": \"PixelType\", \"precision\": \"double\", \"min\": -0.2, \"max\": 1.6022125}, \"dimensions\": [7861, 7871], \"crs\": \"EPSG:32637\", \"crs_transform\": [30, 0, 306285, 0, -30, -4979985]}, {\"id\": \"SR_B3\", \"data_type\": {\"type\": \"PixelType\", \"precision\": \"double\", \"min\": -0.2, \"max\": 1.6022125}, \"dimensions\": [7861, 7871], \"crs\": \"EPSG:32637\", \"crs_transform\": [30, 0, 306285, 0, -30, -4979985]}, {\"id\": \"SR_B4\", \"data_type\": {\"type\": \"PixelType\", \"precision\": \"double\", \"min\": -0.2, \"max\": 1.6022125}, \"dimensions\": [7861, 7871], \"crs\": \"EPSG:32637\", \"crs_transform\": [30, 0, 306285, 0, -30, -4979985]}, {\"id\": \"SR_B5\", \"data_type\": {\"type\": \"PixelType\", \"precision\": \"double\", \"min\": -0.2, \"max\": 1.6022125}, \"dimensions\": [7861, 7871], \"crs\": \"EPSG:32637\", \"crs_transform\": [30, 0, 306285, 0, -30, -4979985]}, {\"id\": \"SR_B6\", \"data_type\": {\"type\": \"PixelType\", \"precision\": \"double\", \"min\": -0.2, \"max\": 1.6022125}, \"dimensions\": [7861, 7871], \"crs\": \"EPSG:32637\", \"crs_transform\": [30, 0, 306285, 0, -30, -4979985]}, {\"id\": \"SR_B7\", \"data_type\": {\"type\": \"PixelType\", \"precision\": \"double\", \"min\": -0.2, \"max\": 1.6022125}, \"dimensions\": [7861, 7871], \"crs\": \"EPSG:32637\", \"crs_transform\": [30, 0, 306285, 0, -30, -4979985]}, {\"id\": \"SR_QA_AEROSOL\", \"data_type\": {\"type\": \"PixelType\", \"precision\": \"int\", \"min\": 0, \"max\": 255}, \"dimensions\": [7861, 7871], \"crs\": \"EPSG:32637\", \"crs_transform\": [30, 0, 306285, 0, -30, -4979985]}, {\"id\": \"ST_B10\", \"data_type\": {\"type\": \"PixelType\", \"precision\": \"double\", \"min\": 149, \"max\": 372.9999407}, \"crs\": \"EPSG:32637\", \"crs_transform\": [1, 0, 306285, 0, 1, -4979985]}, {\"id\": \"ST_ATRAN\", \"data_type\": {\"type\": \"PixelType\", \"precision\": \"int\", \"min\": -32768, \"max\": 32767}, \"crs\": \"EPSG:32637\", \"crs_transform\": [1, 0, 306285, 0, 1, -4979985]}, {\"id\": \"ST_CDIST\", \"data_type\": {\"type\": \"PixelType\", \"precision\": \"int\", \"min\": -32768, \"max\": 32767}, \"crs\": \"EPSG:32637\", \"crs_transform\": [1, 0, 306285, 0, 1, -4979985]}, {\"id\": \"ST_DRAD\", \"data_type\": {\"type\": \"PixelType\", \"precision\": \"int\", \"min\": -32768, \"max\": 32767}, \"crs\": \"EPSG:32637\", \"crs_transform\": [1, 0, 306285, 0, 1, -4979985]}, {\"id\": \"ST_EMIS\", \"data_type\": {\"type\": \"PixelType\", \"precision\": \"int\", \"min\": -32768, \"max\": 32767}, \"crs\": \"EPSG:32637\", \"crs_transform\": [1, 0, 306285, 0, 1, -4979985]}, {\"id\": \"ST_EMSD\", \"data_type\": {\"type\": \"PixelType\", \"precision\": \"int\", \"min\": -32768, \"max\": 32767}, \"crs\": \"EPSG:32637\", \"crs_transform\": [1, 0, 306285, 0, 1, -4979985]}, {\"id\": \"ST_QA\", \"data_type\": {\"type\": \"PixelType\", \"precision\": \"int\", \"min\": -32768, \"max\": 32767}, \"crs\": \"EPSG:32637\", \"crs_transform\": [1, 0, 306285, 0, 1, -4979985]}, {\"id\": \"ST_TRAD\", \"data_type\": {\"type\": \"PixelType\", \"precision\": \"int\", \"min\": -32768, \"max\": 32767}, \"crs\": \"EPSG:32637\", \"crs_transform\": [1, 0, 306285, 0, 1, -4979985]}, {\"id\": \"ST_URAD\", \"data_type\": {\"type\": \"PixelType\", \"precision\": \"int\", \"min\": -32768, \"max\": 32767}, \"crs\": \"EPSG:32637\", \"crs_transform\": [1, 0, 306285, 0, 1, -4979985]}, {\"id\": \"QA_PIXEL\", \"data_type\": {\"type\": \"PixelType\", \"precision\": \"int\", \"min\": 0, \"max\": 65535}, \"dimensions\": [7861, 7871], \"crs\": \"EPSG:32637\", \"crs_transform\": [30, 0, 306285, 0, -30, -4979985]}, {\"id\": \"QA_RADSAT\", \"data_type\": {\"type\": \"PixelType\", \"precision\": \"int\", \"min\": 0, \"max\": 65535}, \"dimensions\": [7861, 7871], \"crs\": \"EPSG:32637\", \"crs_transform\": [30, 0, 306285, 0, -30, -4979985]}, {\"id\": \"nbr\", \"data_type\": {\"type\": \"PixelType\", \"precision\": \"float\", \"min\": -1, \"max\": 1}, \"dimensions\": [7861, 7871], \"crs\": \"EPSG:32637\", \"crs_transform\": [30, 0, 306285, 0, -30, -4979985]}], \"id\": \"LANDSAT/LC08/C02/T1_L2/LC08_160092_20180801\", \"version\": 1630172298061773, \"properties\": {\"DATA_SOURCE_ELEVATION\": \"GLS2000\", \"WRS_TYPE\": 2, \"REFLECTANCE_ADD_BAND_1\": -0.2, \"REFLECTANCE_ADD_BAND_2\": -0.2, \"DATUM\": \"WGS84\", \"REFLECTANCE_ADD_BAND_3\": -0.2, \"REFLECTANCE_ADD_BAND_4\": -0.2, \"REFLECTANCE_ADD_BAND_5\": -0.2, \"REFLECTANCE_ADD_BAND_6\": -0.2, \"REFLECTANCE_ADD_BAND_7\": -0.2, \"system:footprint\": {\"type\": \"LinearRing\", \"coordinates\": [[37.11132558097831, -46.7732990917819], [38.58792135059213, -47.03697876812095], [38.90119128692381, -47.09015422556484], [39.496341034135575, -45.387080460887795], [39.14205360781202, -45.326451608878195], [37.154582207705225, -44.96339089715197], [37.14802044357676, -44.9803669219132], [37.099163829043995, -45.107429412910975], [37.04072823801363, -45.258701184501355], [36.98346516492271, -45.40638509231159], [36.93125957006972, -45.54039125223017], [36.88518484825894, -45.658204382961955], [36.83943080731871, -45.77480952145613], [36.77799037624706, -45.93064865055745], [36.73189235689097, -46.047065923256476], [36.68281764712998, -46.17054701047998], [36.62019374692908, -46.327475581142274], [36.57491835098435, -46.440384284352206], [36.488290164029614, -46.65529217265269], [36.48964897339956, -46.65579794801491], [37.11132558097831, -46.7732990917819]]}, \"REFLECTIVE_SAMPLES\": 7861, \"GROUND_CONTROL_POINTS_VERSION\": 5, \"SUN_AZIMUTH\": 37.12842729, \"DATA_SOURCE_TIRS_STRAY_LIGHT_CORRECTION\": \"TIRS\", \"UTM_ZONE\": 37, \"DATE_ACQUIRED\": \"2018-08-01\", \"ELLIPSOID\": \"WGS84\", \"system:time_end\": 1533107124832, \"DATA_SOURCE_PRESSURE\": \"Calculated\", \"LANDSAT_PRODUCT_ID\": \"LC08_L2SR_160092_20180801_20201016_02_T1\", \"STATION_ID\": \"LGN\", \"REFLECTANCE_MULT_BAND_7\": 2.75e-05, \"system:time_start\": 1533107124832, \"REFLECTANCE_MULT_BAND_6\": 2.75e-05, \"L1_PROCESSING_LEVEL\": \"L1TP\", \"PROCESSING_SOFTWARE_VERSION\": \"LPGS_15.3.1c\", \"L1_DATE_PRODUCT_GENERATED\": \"2020-10-16T06:53:17Z\", \"ORIENTATION\": \"NORTH_UP\", \"REFLECTANCE_MULT_BAND_1\": 2.75e-05, \"WRS_ROW\": 92, \"REFLECTANCE_MULT_BAND_3\": 2.75e-05, \"REFLECTANCE_MULT_BAND_2\": 2.75e-05, \"TARGET_WRS_ROW\": 92, \"REFLECTANCE_MULT_BAND_5\": 2.75e-05, \"REFLECTANCE_MULT_BAND_4\": 2.75e-05, \"TIRS_SSM_POSITION_STATUS\": \"ESTIMATED\", \"IMAGE_QUALITY_TIRS\": 9, \"TRUNCATION_OLI\": \"UPPER\", \"NADIR_OFFNADIR\": \"NADIR\", \"CLOUD_COVER\": 10.51, \"REQUEST_ID\": \"L2\", \"EARTH_SUN_DISTANCE\": 1.0149679, \"TIRS_SSM_MODEL\": \"FINAL\", \"COLLECTION_CATEGORY\": \"T1\", \"SCENE_CENTER_TIME\": \"07:05:24.8321750Z\", \"GRID_CELL_SIZE_REFLECTIVE\": 30, \"SUN_ELEVATION\": 17.66010747, \"CLOUD_COVER_LAND\": 24.93, \"GEOMETRIC_RMSE_MODEL\": 8.048, \"ROLL_ANGLE\": 0, \"COLLECTION_NUMBER\": 2, \"DATE_PRODUCT_GENERATED\": 1602831490000, \"L1_REQUEST_ID\": \"L2\", \"DATA_SOURCE_OZONE\": \"MODIS\", \"SATURATION_BAND_1\": \"N\", \"DATA_SOURCE_WATER_VAPOR\": \"MODIS\", \"SATURATION_BAND_2\": \"N\", \"SATURATION_BAND_3\": \"N\", \"IMAGE_QUALITY_OLI\": 9, \"SATURATION_BAND_4\": \"N\", \"LANDSAT_SCENE_ID\": \"LC81600922018213LGN00\", \"SATURATION_BAND_5\": \"N\", \"MAP_PROJECTION\": \"UTM\", \"SATURATION_BAND_6\": \"N\", \"SENSOR_ID\": \"OLI_TIRS\", \"SATURATION_BAND_7\": \"N\", \"SATURATION_BAND_8\": \"N\", \"WRS_PATH\": 160, \"SATURATION_BAND_9\": \"N\", \"TARGET_WRS_PATH\": 160, \"L1_PROCESSING_SOFTWARE_VERSION\": \"LPGS_15.3.1c\", \"L1_LANDSAT_PRODUCT_ID\": \"LC08_L1TP_160092_20180801_20201016_02_T1\", \"PROCESSING_LEVEL\": \"L2SR\", \"ALGORITHM_SOURCE_SURFACE_REFLECTANCE\": \"LaSRC_1.5.0\", \"GROUND_CONTROL_POINTS_MODEL\": 8, \"SPACECRAFT_ID\": \"LANDSAT_8\", \"GEOMETRIC_RMSE_MODEL_Y\": 7.767, \"REFLECTIVE_LINES\": 7871, \"GEOMETRIC_RMSE_MODEL_X\": 2.109, \"system:asset_size\": 625295632, \"DATA_SOURCE_AIR_TEMPERATURE\": \"MODIS\", \"system:index\": \"LC08_160092_20180801\"}}]}))\n",
       "            });\n",
       "        </script>\n",
       "    "
      ],
      "text/plain": [
       "<IPython.core.display.HTML object>"
      ]
     },
     "metadata": {},
     "output_type": "display_data"
    },
    {
     "data": {
      "text/html": [
       "<div id=\"ac0381ba-7bf3-4dd8-959c-869246a82628\" style=\"height: auto; width:100%;\"></div>"
      ],
      "text/plain": [
       "<IPython.core.display.HTML object>"
      ]
     },
     "metadata": {},
     "output_type": "display_data"
    },
    {
     "data": {
      "text/html": [
       " \n",
       "        <script src=\"/static/components/requirejs/require.js\"></script> <!-- Needed in Colab -->\n",
       "        <script>\n",
       "            require([\"https://rawgit.com/caldwell/renderjson/master/renderjson.js\"], function() {\n",
       "              renderjson.set_show_to_level(1)\n",
       "              document.getElementById('ac0381ba-7bf3-4dd8-959c-869246a82628').appendChild(renderjson(['SR_B1', 'SR_B2', 'SR_B3', 'SR_B4', 'SR_B5', 'SR_B6', 'SR_B7', 'SR_QA_AEROSOL', 'ST_B10', 'ST_ATRAN', 'ST_CDIST', 'ST_DRAD', 'ST_EMIS', 'ST_EMSD', 'ST_QA', 'ST_TRAD', 'ST_URAD', 'QA_PIXEL', 'QA_RADSAT', 'nbr']))\n",
       "            });\n",
       "        </script>\n",
       "    "
      ],
      "text/plain": [
       "<IPython.core.display.HTML object>"
      ]
     },
     "metadata": {},
     "output_type": "display_data"
    }
   ],
   "source": [
    "X = preProcessXCollection(collection = ee.ImageCollection('LANDSAT/LC08/C02/T1_L2'), region = sa_geo, startDate = startDate, endDate = endDate)\n",
    "eeprint(X.limit(2))\n",
    "eeprint(X.first().bandNames())"
   ]
  },
  {
   "cell_type": "code",
   "execution_count": 16,
   "metadata": {},
   "outputs": [
    {
     "data": {
      "application/vnd.jupyter.widget-view+json": {
       "model_id": "00c5370ab75d4742b4868b6057833ec6",
       "version_major": 2,
       "version_minor": 0
      },
      "text/plain": [
       "fire_2018_08_01.csv: |          | [  0.0%] in 00:00 (eta:     ?)"
      ]
     },
     "metadata": {},
     "output_type": "display_data"
    },
    {
     "data": {
      "application/vnd.jupyter.widget-view+json": {
       "model_id": "517f5fbdd85c4dd39fb76282e96deeb6",
       "version_major": 2,
       "version_minor": 0
      },
      "text/plain": [
       "fire_2018_09_01.csv: |          | [  0.0%] in 00:00 (eta:     ?)"
      ]
     },
     "metadata": {},
     "output_type": "display_data"
    },
    {
     "data": {
      "application/vnd.jupyter.widget-view+json": {
       "model_id": "aba97ff682b6427596d3c1034a0fecb7",
       "version_major": 2,
       "version_minor": 0
      },
      "text/plain": [
       "fire_2018_10_01.csv: |          | [  0.0%] in 00:00 (eta:     ?)"
      ]
     },
     "metadata": {},
     "output_type": "display_data"
    },
    {
     "data": {
      "application/vnd.jupyter.widget-view+json": {
       "model_id": "4f0adb76a6304e558f171902eb947549",
       "version_major": 2,
       "version_minor": 0
      },
      "text/plain": [
       "fire_2018_11_01.csv: |          | [  0.0%] in 00:00 (eta:     ?)"
      ]
     },
     "metadata": {},
     "output_type": "display_data"
    },
    {
     "data": {
      "application/vnd.jupyter.widget-view+json": {
       "model_id": "bed3ac2bbd9e416588221b815f7bf6b1",
       "version_major": 2,
       "version_minor": 0
      },
      "text/plain": [
       "fire_2018_12_01.csv: |          | [  0.0%] in 00:00 (eta:     ?)"
      ]
     },
     "metadata": {},
     "output_type": "display_data"
    },
    {
     "data": {
      "application/vnd.jupyter.widget-view+json": {
       "model_id": "5cef643fcb6246c184cb6cc31da1e05a",
       "version_major": 2,
       "version_minor": 0
      },
      "text/plain": [
       "fire_2019_01_01.csv: |          | [  0.0%] in 00:00 (eta:     ?)"
      ]
     },
     "metadata": {},
     "output_type": "display_data"
    },
    {
     "data": {
      "application/vnd.jupyter.widget-view+json": {
       "model_id": "7a3b0033173f4d4fadc4a37859e05650",
       "version_major": 2,
       "version_minor": 0
      },
      "text/plain": [
       "fire_2019_02_01.csv: |          | [  0.0%] in 00:00 (eta:     ?)"
      ]
     },
     "metadata": {},
     "output_type": "display_data"
    },
    {
     "data": {
      "application/vnd.jupyter.widget-view+json": {
       "model_id": "e422c05fc40e49189fd8413a3170d34f",
       "version_major": 2,
       "version_minor": 0
      },
      "text/plain": [
       "fire_2019_03_01.csv: |          | [  0.0%] in 00:00 (eta:     ?)"
      ]
     },
     "metadata": {},
     "output_type": "display_data"
    },
    {
     "data": {
      "application/vnd.jupyter.widget-view+json": {
       "model_id": "96c84df617454d9590823699dea1d603",
       "version_major": 2,
       "version_minor": 0
      },
      "text/plain": [
       "fire_2019_04_01.csv: |          | [  0.0%] in 00:00 (eta:     ?)"
      ]
     },
     "metadata": {},
     "output_type": "display_data"
    },
    {
     "name": "stderr",
     "output_type": "stream",
     "text": [
      "Cancelling...\n"
     ]
    },
    {
     "ename": "FileNotFoundError",
     "evalue": "[Errno 2] No such file or directory: 'fire_2019_04_01.csv'",
     "output_type": "error",
     "traceback": [
      "\u001b[1;31m---------------------------------------------------------------------------\u001b[0m",
      "\u001b[1;31mFileNotFoundError\u001b[0m                         Traceback (most recent call last)",
      "Input \u001b[1;32mIn [16]\u001b[0m, in \u001b[0;36m<cell line: 6>\u001b[1;34m()\u001b[0m\n\u001b[0;32m      3\u001b[0m y \u001b[38;5;241m=\u001b[39m preProcessyCollection(collection \u001b[38;5;241m=\u001b[39m ee\u001b[38;5;241m.\u001b[39mImageCollection(\u001b[38;5;124m\"\u001b[39m\u001b[38;5;124mESA/CCI/FireCCI/5_1\u001b[39m\u001b[38;5;124m\"\u001b[39m), region \u001b[38;5;241m=\u001b[39m sa_geo, startDate \u001b[38;5;241m=\u001b[39m startDate, endDate \u001b[38;5;241m=\u001b[39m endDate)\n\u001b[0;32m      4\u001b[0m X \u001b[38;5;241m=\u001b[39m preProcessXCollection(collection \u001b[38;5;241m=\u001b[39m ee\u001b[38;5;241m.\u001b[39mImageCollection(\u001b[38;5;124m\"\u001b[39m\u001b[38;5;124mCOPERNICUS/S2_SR_HARMONIZED\u001b[39m\u001b[38;5;124m\"\u001b[39m), region \u001b[38;5;241m=\u001b[39m sa_geo, startDate \u001b[38;5;241m=\u001b[39m startDate, endDate \u001b[38;5;241m=\u001b[39m endDate)\n\u001b[1;32m----> 6\u001b[0m eeprint(\u001b[43mextractFire\u001b[49m\u001b[43m(\u001b[49m\u001b[43my\u001b[49m\u001b[43m,\u001b[49m\u001b[43m \u001b[49m\u001b[43msa_geo\u001b[49m\u001b[43m,\u001b[49m\u001b[43m \u001b[49m\u001b[38;5;241;43m250\u001b[39;49m\u001b[43m)\u001b[49m)\n",
      "File \u001b[1;32m~\\myfiles\\postdoc\\Fire\\code\\Burn_Area_Mapping\\src\\components\\data_extraction.py:38\u001b[0m, in \u001b[0;36mextractFire\u001b[1;34m(collection, region, scale)\u001b[0m\n\u001b[0;32m     34\u001b[0m fireExt \u001b[38;5;241m=\u001b[39m extractor(covariates \u001b[38;5;241m=\u001b[39m inData\u001b[38;5;241m.\u001b[39maddBands([fireRisk, coords]), target \u001b[38;5;241m=\u001b[39m inData,\n\u001b[0;32m     35\u001b[0m                     aoi \u001b[38;5;241m=\u001b[39m region, scale \u001b[38;5;241m=\u001b[39m scale, dd\u001b[38;5;241m=\u001b[39m \u001b[38;5;124mr\u001b[39m\u001b[38;5;124m'\u001b[39m\u001b[38;5;124msrc\u001b[39m\u001b[38;5;124m\\\u001b[39m\u001b[38;5;124mnotebooks\u001b[39m\u001b[38;5;124m\\\u001b[39m\u001b[38;5;124mdata\u001b[39m\u001b[38;5;124m'\u001b[39m, spcvGridSize\u001b[38;5;241m=\u001b[39m \u001b[38;5;241m30000\u001b[39m)\n\u001b[0;32m     37\u001b[0m \u001b[38;5;66;03m# Extract data in batches of 30 000 points\u001b[39;00m\n\u001b[1;32m---> 38\u001b[0m \u001b[43mfireExt\u001b[49m\u001b[38;5;241;43m.\u001b[39;49m\u001b[43mextractPoints\u001b[49m\u001b[43m(\u001b[49m\u001b[43mgridSize\u001b[49m\u001b[43m \u001b[49m\u001b[38;5;241;43m=\u001b[39;49m\u001b[43m \u001b[49m\u001b[38;5;241;43m50000\u001b[39;49m\u001b[43m,\u001b[49m\u001b[43m \u001b[49m\u001b[43mbatchSize\u001b[49m\u001b[43m \u001b[49m\u001b[38;5;241;43m=\u001b[39;49m\u001b[43m \u001b[49m\u001b[38;5;241;43m30000\u001b[39;49m\u001b[43m,\u001b[49m\u001b[43m \u001b[49m\u001b[43mfilename\u001b[49m\u001b[43m \u001b[49m\u001b[38;5;241;43m=\u001b[39;49m\u001b[43m \u001b[49m\u001b[38;5;124;43mf\u001b[39;49m\u001b[38;5;124;43m'\u001b[39;49m\u001b[38;5;124;43mfire_\u001b[39;49m\u001b[38;5;132;43;01m{\u001b[39;49;00m\u001b[43minDate\u001b[49m\u001b[38;5;132;43;01m}\u001b[39;49;00m\u001b[38;5;124;43m.csv\u001b[39;49m\u001b[38;5;124;43m'\u001b[39;49m\u001b[43m)\u001b[49m\n",
      "File \u001b[1;32mc:\\users\\coach\\myfiles\\geeml\\geeml\\extract.py:343\u001b[0m, in \u001b[0;36mextractor.extractPoints\u001b[1;34m(self, gridSize, batchSize, filename)\u001b[0m\n\u001b[0;32m    341\u001b[0m logger\u001b[38;5;241m.\u001b[39minfo(\u001b[38;5;124m'\u001b[39m\u001b[38;5;124mCancelling...\u001b[39m\u001b[38;5;124m'\u001b[39m)\n\u001b[0;32m    342\u001b[0m executor\u001b[38;5;241m.\u001b[39mshutdown(wait\u001b[38;5;241m=\u001b[39m\u001b[38;5;28;01mFalse\u001b[39;00m, cancel_futures\u001b[38;5;241m=\u001b[39m\u001b[38;5;28;01mTrue\u001b[39;00m)\n\u001b[1;32m--> 343\u001b[0m \u001b[38;5;28;01mraise\u001b[39;00m ex\n",
      "File \u001b[1;32mc:\\users\\coach\\myfiles\\geeml\\geeml\\extract.py:337\u001b[0m, in \u001b[0;36mextractor.extractPoints\u001b[1;34m(self, gridSize, batchSize, filename)\u001b[0m\n\u001b[0;32m    335\u001b[0m \u001b[38;5;28;01mtry\u001b[39;00m:\n\u001b[0;32m    336\u001b[0m     \u001b[38;5;28;01mfor\u001b[39;00m future \u001b[38;5;129;01min\u001b[39;00m as_completed(futures):\n\u001b[1;32m--> 337\u001b[0m         \u001b[43mfuture\u001b[49m\u001b[38;5;241;43m.\u001b[39;49m\u001b[43mresult\u001b[49m\u001b[43m(\u001b[49m\u001b[43m)\u001b[49m\n\u001b[0;32m    338\u001b[0m         bar\u001b[38;5;241m.\u001b[39mupdate(\u001b[38;5;241m1\u001b[39m)\n\u001b[0;32m    340\u001b[0m \u001b[38;5;28;01mexcept\u001b[39;00m \u001b[38;5;167;01mException\u001b[39;00m \u001b[38;5;28;01mas\u001b[39;00m ex:\n",
      "File \u001b[1;32mc:\\ProgramData\\Anaconda3\\envs\\erthy\\lib\\concurrent\\futures\\_base.py:439\u001b[0m, in \u001b[0;36mFuture.result\u001b[1;34m(self, timeout)\u001b[0m\n\u001b[0;32m    437\u001b[0m     \u001b[38;5;28;01mraise\u001b[39;00m CancelledError()\n\u001b[0;32m    438\u001b[0m \u001b[38;5;28;01melif\u001b[39;00m \u001b[38;5;28mself\u001b[39m\u001b[38;5;241m.\u001b[39m_state \u001b[38;5;241m==\u001b[39m FINISHED:\n\u001b[1;32m--> 439\u001b[0m     \u001b[38;5;28;01mreturn\u001b[39;00m \u001b[38;5;28;43mself\u001b[39;49m\u001b[38;5;241;43m.\u001b[39;49m\u001b[43m__get_result\u001b[49m\u001b[43m(\u001b[49m\u001b[43m)\u001b[49m\n\u001b[0;32m    441\u001b[0m \u001b[38;5;28mself\u001b[39m\u001b[38;5;241m.\u001b[39m_condition\u001b[38;5;241m.\u001b[39mwait(timeout)\n\u001b[0;32m    443\u001b[0m \u001b[38;5;28;01mif\u001b[39;00m \u001b[38;5;28mself\u001b[39m\u001b[38;5;241m.\u001b[39m_state \u001b[38;5;129;01min\u001b[39;00m [CANCELLED, CANCELLED_AND_NOTIFIED]:\n",
      "File \u001b[1;32mc:\\ProgramData\\Anaconda3\\envs\\erthy\\lib\\concurrent\\futures\\_base.py:391\u001b[0m, in \u001b[0;36mFuture.__get_result\u001b[1;34m(self)\u001b[0m\n\u001b[0;32m    389\u001b[0m \u001b[38;5;28;01mif\u001b[39;00m \u001b[38;5;28mself\u001b[39m\u001b[38;5;241m.\u001b[39m_exception:\n\u001b[0;32m    390\u001b[0m     \u001b[38;5;28;01mtry\u001b[39;00m:\n\u001b[1;32m--> 391\u001b[0m         \u001b[38;5;28;01mraise\u001b[39;00m \u001b[38;5;28mself\u001b[39m\u001b[38;5;241m.\u001b[39m_exception\n\u001b[0;32m    392\u001b[0m     \u001b[38;5;28;01mfinally\u001b[39;00m:\n\u001b[0;32m    393\u001b[0m         \u001b[38;5;66;03m# Break a reference cycle with the exception in self._exception\u001b[39;00m\n\u001b[0;32m    394\u001b[0m         \u001b[38;5;28mself\u001b[39m \u001b[38;5;241m=\u001b[39m \u001b[38;5;28;01mNone\u001b[39;00m\n",
      "File \u001b[1;32mc:\\ProgramData\\Anaconda3\\envs\\erthy\\lib\\concurrent\\futures\\thread.py:58\u001b[0m, in \u001b[0;36m_WorkItem.run\u001b[1;34m(self)\u001b[0m\n\u001b[0;32m     55\u001b[0m     \u001b[38;5;28;01mreturn\u001b[39;00m\n\u001b[0;32m     57\u001b[0m \u001b[38;5;28;01mtry\u001b[39;00m:\n\u001b[1;32m---> 58\u001b[0m     result \u001b[38;5;241m=\u001b[39m \u001b[38;5;28mself\u001b[39m\u001b[38;5;241m.\u001b[39mfn(\u001b[38;5;241m*\u001b[39m\u001b[38;5;28mself\u001b[39m\u001b[38;5;241m.\u001b[39margs, \u001b[38;5;241m*\u001b[39m\u001b[38;5;241m*\u001b[39m\u001b[38;5;28mself\u001b[39m\u001b[38;5;241m.\u001b[39mkwargs)\n\u001b[0;32m     59\u001b[0m \u001b[38;5;28;01mexcept\u001b[39;00m \u001b[38;5;167;01mBaseException\u001b[39;00m \u001b[38;5;28;01mas\u001b[39;00m exc:\n\u001b[0;32m     60\u001b[0m     \u001b[38;5;28mself\u001b[39m\u001b[38;5;241m.\u001b[39mfuture\u001b[38;5;241m.\u001b[39mset_exception(exc)\n",
      "File \u001b[1;32mc:\\users\\coach\\myfiles\\geeml\\geeml\\extract.py:318\u001b[0m, in \u001b[0;36mextractor.extractPoints.<locals>.downloadPoints\u001b[1;34m(item)\u001b[0m\n\u001b[0;32m    316\u001b[0m csv_writer_lock \u001b[38;5;241m=\u001b[39m threading\u001b[38;5;241m.\u001b[39mLock()\n\u001b[0;32m    317\u001b[0m \u001b[38;5;28;01mwith\u001b[39;00m csv_writer_lock:\n\u001b[1;32m--> 318\u001b[0m     \u001b[38;5;28;01mwith\u001b[39;00m \u001b[38;5;28;43mopen\u001b[39;49m\u001b[43m(\u001b[49m\u001b[43mfilename\u001b[49m\u001b[43m,\u001b[49m\u001b[43m \u001b[49m\u001b[38;5;124;43m'\u001b[39;49m\u001b[38;5;124;43ma\u001b[39;49m\u001b[38;5;124;43m'\u001b[39;49m\u001b[43m,\u001b[49m\u001b[43m \u001b[49m\u001b[43mnewline\u001b[49m\u001b[38;5;241;43m=\u001b[39;49m\u001b[38;5;124;43m'\u001b[39;49m\u001b[38;5;124;43m'\u001b[39;49m\u001b[43m)\u001b[49m \u001b[38;5;28;01mas\u001b[39;00m f:\n\u001b[0;32m    319\u001b[0m         writer \u001b[38;5;241m=\u001b[39m csv\u001b[38;5;241m.\u001b[39mwriter(f)\n\u001b[0;32m    320\u001b[0m         \u001b[38;5;28;01mif\u001b[39;00m \u001b[38;5;129;01mnot\u001b[39;00m file_exists:\n\u001b[0;32m    321\u001b[0m             \u001b[38;5;66;03m# write the header\u001b[39;00m\n",
      "\u001b[1;31mFileNotFoundError\u001b[0m: [Errno 2] No such file or directory: 'fire_2019_04_01.csv'"
     ]
    }
   ],
   "source": [
    "from data_extraction import extractFire\n",
    "\n",
    "y = preProcessyCollection(collection = ee.ImageCollection(\"ESA/CCI/FireCCI/5_1\"), region = sa_geo, startDate = startDate, endDate = endDate)\n",
    "X = preProcessXCollection(collection = ee.ImageCollection(\"COPERNICUS/S2_SR_HARMONIZED\"), region = sa_geo, startDate = startDate, endDate = endDate)\n",
    "\n",
    "eeprint(extractFire(y, sa_geo, 250))"
   ]
  },
  {
   "cell_type": "code",
   "execution_count": null,
   "metadata": {},
   "outputs": [
    {
     "data": {
      "text/html": [
       "<div id=\"6456f3e4-1832-4685-862b-0384ffb79e7d\" style=\"height: auto; width:100%;\"></div>"
      ],
      "text/plain": [
       "<IPython.core.display.HTML object>"
      ]
     },
     "metadata": {},
     "output_type": "display_data"
    },
    {
     "data": {
      "text/html": [
       " \n",
       "        <script src=\"/static/components/requirejs/require.js\"></script> <!-- Needed in Colab -->\n",
       "        <script>\n",
       "            require([\"https://rawgit.com/caldwell/renderjson/master/renderjson.js\"], function() {\n",
       "              renderjson.set_show_to_level(1)\n",
       "              document.getElementById('6456f3e4-1832-4685-862b-0384ffb79e7d').appendChild(renderjson(['BurnDate', 'ConfidenceLevel', 'LandCover', 'ObservedFlag']))\n",
       "            });\n",
       "        </script>\n",
       "    "
      ],
      "text/plain": [
       "<IPython.core.display.HTML object>"
      ]
     },
     "metadata": {},
     "output_type": "display_data"
    }
   ],
   "source": [
    "fire = ee.ImageCollection(\"ESA/CCI/FireCCI/5_1\")\n",
    "fire = fire.first()\n",
    "from geeml.utils import eeprint\n",
    "eeprint(fire.bandNames())"
   ]
  }
 ],
 "metadata": {
  "kernelspec": {
   "display_name": "erthy",
   "language": "python",
   "name": "python3"
  },
  "language_info": {
   "codemirror_mode": {
    "name": "ipython",
    "version": 3
   },
   "file_extension": ".py",
   "mimetype": "text/x-python",
   "name": "python",
   "nbconvert_exporter": "python",
   "pygments_lexer": "ipython3",
   "version": "3.9.13"
  }
 },
 "nbformat": 4,
 "nbformat_minor": 2
}
